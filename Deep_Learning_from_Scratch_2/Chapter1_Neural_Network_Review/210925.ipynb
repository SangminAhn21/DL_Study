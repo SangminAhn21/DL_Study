{
  "nbformat": 4,
  "nbformat_minor": 0,
  "metadata": {
    "colab": {
      "name": "210925",
      "provenance": [],
      "authorship_tag": "ABX9TyPp86bkHjO/7y81ejZqHw7I",
      "include_colab_link": true
    },
    "kernelspec": {
      "name": "python3",
      "display_name": "Python 3"
    },
    "language_info": {
      "name": "python"
    }
  },
  "cells": [
    {
      "cell_type": "markdown",
      "metadata": {
        "id": "view-in-github",
        "colab_type": "text"
      },
      "source": [
        "<a href=\"https://colab.research.google.com/github/SangminAhn21/DL_Study/blob/main/Deep_Learning_from_Scratch_2/Chapter1_Neural_Network_Review/210925.ipynb\" target=\"_parent\"><img src=\"https://colab.research.google.com/assets/colab-badge.svg\" alt=\"Open In Colab\"/></a>"
      ]
    },
    {
      "cell_type": "code",
      "metadata": {
        "colab": {
          "base_uri": "https://localhost:8080/"
        },
        "id": "Cat2kiI4Q1T0",
        "outputId": "1062f865-88ce-4c2e-c1ea-30ab0453eafd"
      },
      "source": [
        "import numpy as np\n",
        "a = np.arange(6).reshape(2, 3)\n",
        "b = np.arange(6).reshape(3, 2)\n",
        "print(np.dot(a, b))\n",
        "print(a @ b)"
      ],
      "execution_count": 1,
      "outputs": [
        {
          "output_type": "stream",
          "name": "stdout",
          "text": [
            "[[10 13]\n",
            " [28 40]]\n",
            "[[10 13]\n",
            " [28 40]]\n"
          ]
        }
      ]
    },
    {
      "cell_type": "code",
      "metadata": {
        "colab": {
          "base_uri": "https://localhost:8080/"
        },
        "id": "8rsPjJFiRFw-",
        "outputId": "ce90149f-9db3-4b1e-fc13-cd98cbc00454"
      },
      "source": [
        "params = [1]\n",
        "a = params\n",
        "b, = params\n",
        "print(a, b)"
      ],
      "execution_count": 11,
      "outputs": [
        {
          "output_type": "stream",
          "name": "stdout",
          "text": [
            "[1] 1\n"
          ]
        }
      ]
    },
    {
      "cell_type": "code",
      "metadata": {
        "colab": {
          "base_uri": "https://localhost:8080/"
        },
        "id": "D6NWfLqKTsLF",
        "outputId": "2af9ef61-ca1f-4b59-eb90-5dabf50fd423"
      },
      "source": [
        "a = [1, 2, 3]\n",
        "b = [4, 5, 6]\n",
        "a = b\n",
        "print(a is b)"
      ],
      "execution_count": 7,
      "outputs": [
        {
          "output_type": "stream",
          "name": "stdout",
          "text": [
            "True\n"
          ]
        }
      ]
    },
    {
      "cell_type": "code",
      "metadata": {
        "colab": {
          "base_uri": "https://localhost:8080/"
        },
        "id": "OLEKnl7GVtRa",
        "outputId": "2d499d0b-1485-4518-8df5-965b77b422a8"
      },
      "source": [
        "a = np.arange(27).reshape(3, 3, 3)\n",
        "print(a)\n",
        "print(a[0, ...])\n",
        "print(a[0, ..., 0])"
      ],
      "execution_count": 15,
      "outputs": [
        {
          "output_type": "stream",
          "name": "stdout",
          "text": [
            "[[[ 0  1  2]\n",
            "  [ 3  4  5]\n",
            "  [ 6  7  8]]\n",
            "\n",
            " [[ 9 10 11]\n",
            "  [12 13 14]\n",
            "  [15 16 17]]\n",
            "\n",
            " [[18 19 20]\n",
            "  [21 22 23]\n",
            "  [24 25 26]]]\n",
            "[[0 1 2]\n",
            " [3 4 5]\n",
            " [6 7 8]]\n",
            "[0 3 6]\n"
          ]
        }
      ]
    },
    {
      "cell_type": "code",
      "metadata": {
        "colab": {
          "base_uri": "https://localhost:8080/"
        },
        "id": "8AmYykq7WOTz",
        "outputId": "3168f1c0-da3a-4e52-82ce-5a63f65b70d8"
      },
      "source": [
        "a = np.random.randn(3)\n",
        "a.dtype"
      ],
      "execution_count": 17,
      "outputs": [
        {
          "output_type": "execute_result",
          "data": {
            "text/plain": [
              "dtype('float64')"
            ]
          },
          "metadata": {},
          "execution_count": 17
        }
      ]
    },
    {
      "cell_type": "code",
      "metadata": {
        "id": "P8M2vogbYxRC"
      },
      "source": [
        ""
      ],
      "execution_count": null,
      "outputs": []
    }
  ]
}