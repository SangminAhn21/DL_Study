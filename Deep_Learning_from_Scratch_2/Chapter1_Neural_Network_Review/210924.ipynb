{
  "nbformat": 4,
  "nbformat_minor": 0,
  "metadata": {
    "colab": {
      "name": "210924",
      "provenance": [],
      "authorship_tag": "ABX9TyOqncPBey+9EreUDWl1THnN",
      "include_colab_link": true
    },
    "kernelspec": {
      "name": "python3",
      "display_name": "Python 3"
    },
    "language_info": {
      "name": "python"
    }
  },
  "cells": [
    {
      "cell_type": "markdown",
      "metadata": {
        "id": "view-in-github",
        "colab_type": "text"
      },
      "source": [
        "<a href=\"https://colab.research.google.com/github/SangminAhn21/DL_Study/blob/main/Deep_Learning_from_Scratch_2/Chapter1_Neural_Network_Review/210924.ipynb\" target=\"_parent\"><img src=\"https://colab.research.google.com/assets/colab-badge.svg\" alt=\"Open In Colab\"/></a>"
      ]
    },
    {
      "cell_type": "code",
      "metadata": {
        "colab": {
          "base_uri": "https://localhost:8080/"
        },
        "id": "VjMbJ-jjtGtf",
        "outputId": "5d5aa8d6-826e-4523-c4ad-f2709ff05b30"
      },
      "source": [
        "import numpy as np\n",
        "D, N = 8, 7\n",
        "x = np.random.randn(1, D)\n",
        "y = np.repeat(x, N, axis=0)\n",
        "print(x)\n",
        "print(y)\n",
        "dy = np.random.randn(N, D)\n",
        "dx = np.sum(dy, axis=0, keepdims=True)"
      ],
      "execution_count": 1,
      "outputs": [
        {
          "output_type": "stream",
          "name": "stdout",
          "text": [
            "[[ 1.14002626  0.43096856  0.41484363 -1.19485258 -1.84769167 -1.31106355\n",
            "   0.84915807  0.01208878]]\n",
            "[[ 1.14002626  0.43096856  0.41484363 -1.19485258 -1.84769167 -1.31106355\n",
            "   0.84915807  0.01208878]\n",
            " [ 1.14002626  0.43096856  0.41484363 -1.19485258 -1.84769167 -1.31106355\n",
            "   0.84915807  0.01208878]\n",
            " [ 1.14002626  0.43096856  0.41484363 -1.19485258 -1.84769167 -1.31106355\n",
            "   0.84915807  0.01208878]\n",
            " [ 1.14002626  0.43096856  0.41484363 -1.19485258 -1.84769167 -1.31106355\n",
            "   0.84915807  0.01208878]\n",
            " [ 1.14002626  0.43096856  0.41484363 -1.19485258 -1.84769167 -1.31106355\n",
            "   0.84915807  0.01208878]\n",
            " [ 1.14002626  0.43096856  0.41484363 -1.19485258 -1.84769167 -1.31106355\n",
            "   0.84915807  0.01208878]\n",
            " [ 1.14002626  0.43096856  0.41484363 -1.19485258 -1.84769167 -1.31106355\n",
            "   0.84915807  0.01208878]]\n"
          ]
        }
      ]
    },
    {
      "cell_type": "code",
      "metadata": {
        "id": "xCm4HG9aN_jN"
      },
      "source": [
        "D, N = 8, 7\n",
        "x = np.random.randn(N, D)\n",
        "y = np.sum(x, axis=0, keepdims=True)\n",
        "\n",
        "dy = np.random.rand(1, D)\n",
        "dx = np.repeat(dy, N, axis=0)"
      ],
      "execution_count": 2,
      "outputs": []
    },
    {
      "cell_type": "code",
      "metadata": {
        "id": "GKyjIL22Odit"
      },
      "source": [
        ""
      ],
      "execution_count": null,
      "outputs": []
    }
  ]
}