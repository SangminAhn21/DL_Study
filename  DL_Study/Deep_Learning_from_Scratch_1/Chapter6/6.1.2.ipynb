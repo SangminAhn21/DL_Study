{
  "nbformat": 4,
  "nbformat_minor": 0,
  "metadata": {
    "colab": {
      "name": "210912",
      "provenance": [],
      "authorship_tag": "ABX9TyO0R9pbh/JX0Sr/gkdAJxeX",
      "include_colab_link": true
    },
    "kernelspec": {
      "name": "python3",
      "display_name": "Python 3"
    },
    "language_info": {
      "name": "python"
    }
  },
  "cells": [
    {
      "cell_type": "markdown",
      "metadata": {
        "id": "view-in-github",
        "colab_type": "text"
      },
      "source": [
        "<a href=\"https://colab.research.google.com/github/SangminAhn21/DL_Study/blob/main/%20DL_Study/Deep_Learning_from_Scratch_1/Chapter6/6.1.2.ipynb\" target=\"_parent\"><img src=\"https://colab.research.google.com/assets/colab-badge.svg\" alt=\"Open In Colab\"/></a>"
      ]
    },
    {
      "cell_type": "code",
      "metadata": {
        "id": "Pubj9W0sZ2Wt"
      },
      "source": [
        "# 6.1.2 확률적 경사 하강법(SGD)\n",
        "\n",
        "class SGD:\n",
        "  def __init__(self, lr=0.01):\n",
        "    self.lr = lr\n",
        "  \n",
        "  def update(self, params, grads):\n",
        "    for key in params.keys():\n",
        "      params[key] -= grads[key] * self.lr"
      ],
      "execution_count": null,
      "outputs": []
    }
  ]
}