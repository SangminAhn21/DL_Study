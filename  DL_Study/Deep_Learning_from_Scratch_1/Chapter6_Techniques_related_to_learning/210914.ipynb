{
  "nbformat": 4,
  "nbformat_minor": 0,
  "metadata": {
    "colab": {
      "name": "210914",
      "provenance": [],
      "authorship_tag": "ABX9TyNFIy1fxCkO8++qzg2MfFty",
      "include_colab_link": true
    },
    "kernelspec": {
      "name": "python3",
      "display_name": "Python 3"
    },
    "language_info": {
      "name": "python"
    }
  },
  "cells": [
    {
      "cell_type": "markdown",
      "metadata": {
        "id": "view-in-github",
        "colab_type": "text"
      },
      "source": [
        "<a href=\"https://colab.research.google.com/github/SangminAhn21/DL_Study/blob/main/%20DL_Study/Deep_Learning_from_Scratch_1/Chapter6_Techniques_related_to_learning/210914.ipynb\" target=\"_parent\"><img src=\"https://colab.research.google.com/assets/colab-badge.svg\" alt=\"Open In Colab\"/></a>"
      ]
    },
    {
      "cell_type": "code",
      "metadata": {
        "colab": {
          "base_uri": "https://localhost:8080/"
        },
        "id": "-FN8WJpbC0AN",
        "outputId": "5eb80591-2a1c-413e-e741-88d00d168156"
      },
      "source": [
        "import numpy as np\n",
        "x = np.array([[1, 2], [3, 4]])\n",
        "print(x.shape)\n",
        "print(*x.shape)"
      ],
      "execution_count": 2,
      "outputs": [
        {
          "output_type": "stream",
          "name": "stdout",
          "text": [
            "(2, 2)\n",
            "2 2\n"
          ]
        }
      ]
    },
    {
      "cell_type": "code",
      "metadata": {
        "colab": {
          "base_uri": "https://localhost:8080/"
        },
        "id": "-ctdRJYd1DN9",
        "outputId": "11cf2aa2-cd6b-43fd-d8cf-997e138a7c75"
      },
      "source": [
        "print(np.random.rand(*x.shape))"
      ],
      "execution_count": 3,
      "outputs": [
        {
          "output_type": "stream",
          "name": "stdout",
          "text": [
            "[[0.3155998  0.20245576]\n",
            " [0.91055241 0.17657694]]\n"
          ]
        }
      ]
    },
    {
      "cell_type": "code",
      "metadata": {
        "id": "YFX68Cqh1P98"
      },
      "source": [
        ""
      ],
      "execution_count": null,
      "outputs": []
    }
  ]
}