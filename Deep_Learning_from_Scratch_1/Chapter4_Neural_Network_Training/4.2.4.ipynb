{
  "nbformat": 4,
  "nbformat_minor": 0,
  "metadata": {
    "colab": {
      "name": "210907",
      "provenance": [],
      "authorship_tag": "ABX9TyMFDpPKNFhsJ30H/mvenAi/",
      "include_colab_link": true
    },
    "kernelspec": {
      "name": "python3",
      "display_name": "Python 3"
    },
    "language_info": {
      "name": "python"
    }
  },
  "cells": [
    {
      "cell_type": "markdown",
      "metadata": {
        "id": "view-in-github",
        "colab_type": "text"
      },
      "source": [
        "<a href=\"https://colab.research.google.com/github/SangminAhn21/DL_Study/blob/main/Deep_Learning_from_Scratch_1/Chapter4_Neural_Network_Training/4.2.4.ipynb\" target=\"_parent\"><img src=\"https://colab.research.google.com/assets/colab-badge.svg\" alt=\"Open In Colab\"/></a>"
      ]
    },
    {
      "cell_type": "code",
      "metadata": {
        "colab": {
          "base_uri": "https://localhost:8080/"
        },
        "id": "sGJgt7w4I6bI",
        "outputId": "c684caa3-d4ba-4367-b061-afeb0c5c2748"
      },
      "source": [
        "import numpy as np\n",
        "a = np.array([[1,2], [3, 4]])\n",
        "print(a.size)"
      ],
      "execution_count": 3,
      "outputs": [
        {
          "output_type": "stream",
          "name": "stdout",
          "text": [
            "4\n"
          ]
        }
      ]
    },
    {
      "cell_type": "code",
      "metadata": {
        "id": "_XTnQYOMK_Rs"
      },
      "source": [
        "# 4.2.4 (배치용) 교차 엔트로피 오차 구현하기\n",
        "\n",
        "def cross_entropy_error(y, t):\n",
        "  if y.ndim == 1:\n",
        "    t = t.reshape(1, t.size)\n",
        "    y = y.reshape(1, y.size)\n",
        "  \n",
        "  batch_size = y.shape[0]\n",
        "  return -np.sum(t * np.log(y + 1e-7)) / batch_size"
      ],
      "execution_count": 4,
      "outputs": []
    },
    {
      "cell_type": "code",
      "metadata": {
        "colab": {
          "base_uri": "https://localhost:8080/"
        },
        "id": "lkFkfsDyLe66",
        "outputId": "16f84a4a-ef04-4c05-c09c-838ccd71b957"
      },
      "source": [
        "x = np.array([1, 2, 3])\n",
        "print(x)\n",
        "print(x.shape)\n",
        "print(x.ndim)\n",
        "x = x.reshape(1, x.size)\n",
        "print(x)\n",
        "print(x.ndim)\n",
        "print(x.shape)"
      ],
      "execution_count": 8,
      "outputs": [
        {
          "output_type": "stream",
          "name": "stdout",
          "text": [
            "[1 2 3]\n",
            "(3,)\n",
            "1\n",
            "[[1 2 3]]\n",
            "2\n",
            "(1, 3)\n"
          ]
        }
      ]
    },
    {
      "cell_type": "code",
      "metadata": {
        "id": "c8H-DLcPLzaM"
      },
      "source": [
        "def cross_entropy_error(y, t):\n",
        "  if y.ndim == 1:\n",
        "    t = t.reshape(1, t.size)\n",
        "    y = y.reshape(1, y.size)\n",
        "  \n",
        "  batch_size = y.shape[0]\n",
        "  return -np.sum(np.log(y[np.arange(batch_size), t] + 1e-7)) / batch_size"
      ],
      "execution_count": null,
      "outputs": []
    },
    {
      "cell_type": "code",
      "metadata": {
        "colab": {
          "base_uri": "https://localhost:8080/"
        },
        "id": "eO79YG1mNu4R",
        "outputId": "cc01f23b-6e6a-4f24-ee72-e9817206ab68"
      },
      "source": [
        "batch_size = 3\n",
        "t = [2, 4, 7]\n",
        "print([np.arange(batch_size), t])\n",
        "# y[np.arange(batch_size), t] 하게 되면 \n",
        "# y[0, 2], y[1, 4], y[2, 7] 이 출력된다."
      ],
      "execution_count": 9,
      "outputs": [
        {
          "output_type": "stream",
          "name": "stdout",
          "text": [
            "[array([0, 1, 2]), [2, 4, 7]]\n"
          ]
        }
      ]
    },
    {
      "cell_type": "code",
      "metadata": {
        "id": "zIu3a5eZOAmN"
      },
      "source": [
        ""
      ],
      "execution_count": null,
      "outputs": []
    }
  ]
}