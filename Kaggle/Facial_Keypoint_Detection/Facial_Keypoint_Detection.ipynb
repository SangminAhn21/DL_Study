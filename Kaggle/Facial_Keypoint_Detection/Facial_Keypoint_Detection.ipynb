{
  "nbformat": 4,
  "nbformat_minor": 0,
  "metadata": {
    "colab": {
      "name": "Facial_Keypoint_Detection",
      "provenance": [],
      "collapsed_sections": [],
      "include_colab_link": true
    },
    "kernelspec": {
      "name": "python3",
      "display_name": "Python 3"
    },
    "language_info": {
      "name": "python"
    },
    "accelerator": "GPU"
  },
  "cells": [
    {
      "cell_type": "markdown",
      "metadata": {
        "id": "view-in-github",
        "colab_type": "text"
      },
      "source": [
        "<a href=\"https://colab.research.google.com/github/SangminAhn21/DL_Study/blob/main/Kaggle/Facial_Keypoint_Detection/Facial_Keypoint_Detection.ipynb\" target=\"_parent\"><img src=\"https://colab.research.google.com/assets/colab-badge.svg\" alt=\"Open In Colab\"/></a>"
      ]
    },
    {
      "cell_type": "code",
      "metadata": {
        "id": "KEan-7rU4caZ"
      },
      "source": [
        "# This Python 3 environment comes with many helpful analytics libraries installed\n",
        "# It is defined by the kaggle/python Docker image: https://github.com/kaggle/docker-python\n",
        "# For example, here's several helpful packages to load\n",
        "\n",
        "import numpy as np # linear algebra\n",
        "import pandas as pd # data processing, CSV file I/O (e.g. pd.read_csv)\n",
        "\n",
        "# Input data files are available in the read-only \"../input/\" directory\n",
        "# For example, running this (by clicking run or pressing Shift+Enter) will list all files under the input directory\n",
        "\n",
        "import os\n",
        "for dirname, _, filenames in os.walk('/kaggle/input'):\n",
        "    for filename in filenames:\n",
        "        print(os.path.join(dirname, filename))\n",
        "\n",
        "# You can write up to 20GB to the current directory (/kaggle/working/) that gets preserved as output when you create a version using \"Save & Run All\" \n",
        "# You can also write temporary files to /kaggle/temp/, but they won't be saved outside of the current session"
      ],
      "execution_count": 1,
      "outputs": []
    },
    {
      "cell_type": "code",
      "metadata": {
        "id": "WD9rPcpx4iyT"
      },
      "source": [
        "import matplotlib.pyplot as plt\n",
        "import torch\n",
        "import torch.nn as nn\n",
        "import torch.nn.functional as F\n",
        "from torch.utils.data import Dataset, DataLoader"
      ],
      "execution_count": 2,
      "outputs": []
    },
    {
      "cell_type": "code",
      "metadata": {
        "colab": {
          "base_uri": "https://localhost:8080/"
        },
        "id": "3h8EuyaC5cnW",
        "outputId": "24eb260f-b8f5-4a8d-b085-4939270666b1"
      },
      "source": [
        "pip install kaggle"
      ],
      "execution_count": 3,
      "outputs": [
        {
          "output_type": "stream",
          "name": "stdout",
          "text": [
            "Requirement already satisfied: kaggle in /usr/local/lib/python3.7/dist-packages (1.5.12)\n",
            "Requirement already satisfied: requests in /usr/local/lib/python3.7/dist-packages (from kaggle) (2.23.0)\n",
            "Requirement already satisfied: tqdm in /usr/local/lib/python3.7/dist-packages (from kaggle) (4.62.3)\n",
            "Requirement already satisfied: six>=1.10 in /usr/local/lib/python3.7/dist-packages (from kaggle) (1.15.0)\n",
            "Requirement already satisfied: python-dateutil in /usr/local/lib/python3.7/dist-packages (from kaggle) (2.8.2)\n",
            "Requirement already satisfied: urllib3 in /usr/local/lib/python3.7/dist-packages (from kaggle) (1.24.3)\n",
            "Requirement already satisfied: certifi in /usr/local/lib/python3.7/dist-packages (from kaggle) (2021.10.8)\n",
            "Requirement already satisfied: python-slugify in /usr/local/lib/python3.7/dist-packages (from kaggle) (5.0.2)\n",
            "Requirement already satisfied: text-unidecode>=1.3 in /usr/local/lib/python3.7/dist-packages (from python-slugify->kaggle) (1.3)\n",
            "Requirement already satisfied: chardet<4,>=3.0.2 in /usr/local/lib/python3.7/dist-packages (from requests->kaggle) (3.0.4)\n",
            "Requirement already satisfied: idna<3,>=2.5 in /usr/local/lib/python3.7/dist-packages (from requests->kaggle) (2.10)\n"
          ]
        }
      ]
    },
    {
      "cell_type": "code",
      "metadata": {
        "colab": {
          "resources": {
            "http://localhost:8080/nbextensions/google.colab/files.js": {
              "data": "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",
              "ok": true,
              "headers": [
                [
                  "content-type",
                  "application/javascript"
                ]
              ],
              "status": 200,
              "status_text": "OK"
            }
          },
          "base_uri": "https://localhost:8080/",
          "height": 97
        },
        "id": "iHj3P0vf5hed",
        "outputId": "f119afd8-36ef-478b-dc6a-e14c1dbf9c2a"
      },
      "source": [
        "from google.colab import files\n",
        "\n",
        "uploaded = files.upload()\n",
        "\n",
        "for fn in uploaded.keys():\n",
        "  print('User uploaded file \"{name}\" with length {length} bytes'.format(\n",
        "      name=fn, length=len(uploaded[fn])))\n",
        "  \n",
        "# Then move kaggle.json into the folder where the API expects to find it.\n",
        "!mkdir -p ~/.kaggle/ && mv kaggle.json ~/.kaggle/ && chmod 600 ~/.kaggle/kaggle.json"
      ],
      "execution_count": 4,
      "outputs": [
        {
          "output_type": "display_data",
          "data": {
            "text/html": [
              "\n",
              "     <input type=\"file\" id=\"files-b85ef7c1-e247-4c19-bff9-f86937e6570d\" name=\"files[]\" multiple disabled\n",
              "        style=\"border:none\" />\n",
              "     <output id=\"result-b85ef7c1-e247-4c19-bff9-f86937e6570d\">\n",
              "      Upload widget is only available when the cell has been executed in the\n",
              "      current browser session. Please rerun this cell to enable.\n",
              "      </output>\n",
              "      <script src=\"/nbextensions/google.colab/files.js\"></script> "
            ],
            "text/plain": [
              "<IPython.core.display.HTML object>"
            ]
          },
          "metadata": {}
        },
        {
          "output_type": "stream",
          "name": "stdout",
          "text": [
            "Saving kaggle.json to kaggle.json\n",
            "User uploaded file \"kaggle.json\" with length 66 bytes\n"
          ]
        }
      ]
    },
    {
      "cell_type": "code",
      "metadata": {
        "colab": {
          "base_uri": "https://localhost:8080/"
        },
        "id": "jmL1oLac6Wq8",
        "outputId": "9abcdf84-c15d-4f43-bd21-52da0068ec53"
      },
      "source": [
        "!kaggle competitions download -c facial-keypoints-detection"
      ],
      "execution_count": 5,
      "outputs": [
        {
          "output_type": "stream",
          "name": "stdout",
          "text": [
            "Warning: Looks like you're using an outdated API Version, please consider updating (server 1.5.12 / client 1.5.4)\n",
            "Downloading test.zip to /content\n",
            " 31% 5.00M/16.0M [00:00<00:01, 11.3MB/s]\n",
            "100% 16.0M/16.0M [00:00<00:00, 29.7MB/s]\n",
            "Downloading training.zip to /content\n",
            " 75% 45.0M/60.1M [00:01<00:00, 16.2MB/s]\n",
            "100% 60.1M/60.1M [00:01<00:00, 43.0MB/s]\n",
            "Downloading SampleSubmission.csv to /content\n",
            "  0% 0.00/201k [00:00<?, ?B/s]\n",
            "100% 201k/201k [00:00<00:00, 64.8MB/s]\n",
            "Downloading IdLookupTable.csv to /content\n",
            "  0% 0.00/843k [00:00<?, ?B/s]\n",
            "100% 843k/843k [00:00<00:00, 46.3MB/s]\n"
          ]
        }
      ]
    },
    {
      "cell_type": "code",
      "metadata": {
        "id": "RjS4_sBA4le1"
      },
      "source": [
        "IdLookupTable = pd.read_csv('IdLookupTable.csv')"
      ],
      "execution_count": 6,
      "outputs": []
    },
    {
      "cell_type": "code",
      "metadata": {
        "colab": {
          "base_uri": "https://localhost:8080/",
          "height": 424
        },
        "id": "vjovR_pi4oz5",
        "outputId": "ac6cea16-04bf-4e02-d892-2722224516ae"
      },
      "source": [
        "IdLookupTable"
      ],
      "execution_count": 7,
      "outputs": [
        {
          "output_type": "execute_result",
          "data": {
            "text/html": [
              "<div>\n",
              "<style scoped>\n",
              "    .dataframe tbody tr th:only-of-type {\n",
              "        vertical-align: middle;\n",
              "    }\n",
              "\n",
              "    .dataframe tbody tr th {\n",
              "        vertical-align: top;\n",
              "    }\n",
              "\n",
              "    .dataframe thead th {\n",
              "        text-align: right;\n",
              "    }\n",
              "</style>\n",
              "<table border=\"1\" class=\"dataframe\">\n",
              "  <thead>\n",
              "    <tr style=\"text-align: right;\">\n",
              "      <th></th>\n",
              "      <th>RowId</th>\n",
              "      <th>ImageId</th>\n",
              "      <th>FeatureName</th>\n",
              "      <th>Location</th>\n",
              "    </tr>\n",
              "  </thead>\n",
              "  <tbody>\n",
              "    <tr>\n",
              "      <th>0</th>\n",
              "      <td>1</td>\n",
              "      <td>1</td>\n",
              "      <td>left_eye_center_x</td>\n",
              "      <td>NaN</td>\n",
              "    </tr>\n",
              "    <tr>\n",
              "      <th>1</th>\n",
              "      <td>2</td>\n",
              "      <td>1</td>\n",
              "      <td>left_eye_center_y</td>\n",
              "      <td>NaN</td>\n",
              "    </tr>\n",
              "    <tr>\n",
              "      <th>2</th>\n",
              "      <td>3</td>\n",
              "      <td>1</td>\n",
              "      <td>right_eye_center_x</td>\n",
              "      <td>NaN</td>\n",
              "    </tr>\n",
              "    <tr>\n",
              "      <th>3</th>\n",
              "      <td>4</td>\n",
              "      <td>1</td>\n",
              "      <td>right_eye_center_y</td>\n",
              "      <td>NaN</td>\n",
              "    </tr>\n",
              "    <tr>\n",
              "      <th>4</th>\n",
              "      <td>5</td>\n",
              "      <td>1</td>\n",
              "      <td>left_eye_inner_corner_x</td>\n",
              "      <td>NaN</td>\n",
              "    </tr>\n",
              "    <tr>\n",
              "      <th>...</th>\n",
              "      <td>...</td>\n",
              "      <td>...</td>\n",
              "      <td>...</td>\n",
              "      <td>...</td>\n",
              "    </tr>\n",
              "    <tr>\n",
              "      <th>27119</th>\n",
              "      <td>27120</td>\n",
              "      <td>1783</td>\n",
              "      <td>right_eye_center_y</td>\n",
              "      <td>NaN</td>\n",
              "    </tr>\n",
              "    <tr>\n",
              "      <th>27120</th>\n",
              "      <td>27121</td>\n",
              "      <td>1783</td>\n",
              "      <td>nose_tip_x</td>\n",
              "      <td>NaN</td>\n",
              "    </tr>\n",
              "    <tr>\n",
              "      <th>27121</th>\n",
              "      <td>27122</td>\n",
              "      <td>1783</td>\n",
              "      <td>nose_tip_y</td>\n",
              "      <td>NaN</td>\n",
              "    </tr>\n",
              "    <tr>\n",
              "      <th>27122</th>\n",
              "      <td>27123</td>\n",
              "      <td>1783</td>\n",
              "      <td>mouth_center_bottom_lip_x</td>\n",
              "      <td>NaN</td>\n",
              "    </tr>\n",
              "    <tr>\n",
              "      <th>27123</th>\n",
              "      <td>27124</td>\n",
              "      <td>1783</td>\n",
              "      <td>mouth_center_bottom_lip_y</td>\n",
              "      <td>NaN</td>\n",
              "    </tr>\n",
              "  </tbody>\n",
              "</table>\n",
              "<p>27124 rows × 4 columns</p>\n",
              "</div>"
            ],
            "text/plain": [
              "       RowId  ImageId                FeatureName  Location\n",
              "0          1        1          left_eye_center_x       NaN\n",
              "1          2        1          left_eye_center_y       NaN\n",
              "2          3        1         right_eye_center_x       NaN\n",
              "3          4        1         right_eye_center_y       NaN\n",
              "4          5        1    left_eye_inner_corner_x       NaN\n",
              "...      ...      ...                        ...       ...\n",
              "27119  27120     1783         right_eye_center_y       NaN\n",
              "27120  27121     1783                 nose_tip_x       NaN\n",
              "27121  27122     1783                 nose_tip_y       NaN\n",
              "27122  27123     1783  mouth_center_bottom_lip_x       NaN\n",
              "27123  27124     1783  mouth_center_bottom_lip_y       NaN\n",
              "\n",
              "[27124 rows x 4 columns]"
            ]
          },
          "metadata": {},
          "execution_count": 7
        }
      ]
    },
    {
      "cell_type": "code",
      "metadata": {
        "colab": {
          "base_uri": "https://localhost:8080/",
          "height": 424
        },
        "id": "lkiMBO-24qPK",
        "outputId": "b94e4104-7c98-460f-bbaf-6813f0a1891b"
      },
      "source": [
        "SampleSubmission = pd.read_csv('SampleSubmission.csv')\n",
        "SampleSubmission"
      ],
      "execution_count": 8,
      "outputs": [
        {
          "output_type": "execute_result",
          "data": {
            "text/html": [
              "<div>\n",
              "<style scoped>\n",
              "    .dataframe tbody tr th:only-of-type {\n",
              "        vertical-align: middle;\n",
              "    }\n",
              "\n",
              "    .dataframe tbody tr th {\n",
              "        vertical-align: top;\n",
              "    }\n",
              "\n",
              "    .dataframe thead th {\n",
              "        text-align: right;\n",
              "    }\n",
              "</style>\n",
              "<table border=\"1\" class=\"dataframe\">\n",
              "  <thead>\n",
              "    <tr style=\"text-align: right;\">\n",
              "      <th></th>\n",
              "      <th>RowId</th>\n",
              "      <th>Location</th>\n",
              "    </tr>\n",
              "  </thead>\n",
              "  <tbody>\n",
              "    <tr>\n",
              "      <th>0</th>\n",
              "      <td>1</td>\n",
              "      <td>0</td>\n",
              "    </tr>\n",
              "    <tr>\n",
              "      <th>1</th>\n",
              "      <td>2</td>\n",
              "      <td>0</td>\n",
              "    </tr>\n",
              "    <tr>\n",
              "      <th>2</th>\n",
              "      <td>3</td>\n",
              "      <td>0</td>\n",
              "    </tr>\n",
              "    <tr>\n",
              "      <th>3</th>\n",
              "      <td>4</td>\n",
              "      <td>0</td>\n",
              "    </tr>\n",
              "    <tr>\n",
              "      <th>4</th>\n",
              "      <td>5</td>\n",
              "      <td>0</td>\n",
              "    </tr>\n",
              "    <tr>\n",
              "      <th>...</th>\n",
              "      <td>...</td>\n",
              "      <td>...</td>\n",
              "    </tr>\n",
              "    <tr>\n",
              "      <th>27119</th>\n",
              "      <td>27120</td>\n",
              "      <td>0</td>\n",
              "    </tr>\n",
              "    <tr>\n",
              "      <th>27120</th>\n",
              "      <td>27121</td>\n",
              "      <td>0</td>\n",
              "    </tr>\n",
              "    <tr>\n",
              "      <th>27121</th>\n",
              "      <td>27122</td>\n",
              "      <td>0</td>\n",
              "    </tr>\n",
              "    <tr>\n",
              "      <th>27122</th>\n",
              "      <td>27123</td>\n",
              "      <td>0</td>\n",
              "    </tr>\n",
              "    <tr>\n",
              "      <th>27123</th>\n",
              "      <td>27124</td>\n",
              "      <td>0</td>\n",
              "    </tr>\n",
              "  </tbody>\n",
              "</table>\n",
              "<p>27124 rows × 2 columns</p>\n",
              "</div>"
            ],
            "text/plain": [
              "       RowId  Location\n",
              "0          1         0\n",
              "1          2         0\n",
              "2          3         0\n",
              "3          4         0\n",
              "4          5         0\n",
              "...      ...       ...\n",
              "27119  27120         0\n",
              "27120  27121         0\n",
              "27121  27122         0\n",
              "27122  27123         0\n",
              "27123  27124         0\n",
              "\n",
              "[27124 rows x 2 columns]"
            ]
          },
          "metadata": {},
          "execution_count": 8
        }
      ]
    },
    {
      "cell_type": "code",
      "metadata": {
        "colab": {
          "base_uri": "https://localhost:8080/"
        },
        "id": "V1hkuMlH4q8C",
        "outputId": "56a33c4e-333c-45e5-f31c-9ce3cb26e5b2"
      },
      "source": [
        "!unzip ../content/training.zip\n",
        "!unzip ../content/test.zip"
      ],
      "execution_count": 9,
      "outputs": [
        {
          "output_type": "stream",
          "name": "stdout",
          "text": [
            "Archive:  ../content/training.zip\n",
            "  inflating: training.csv            \n",
            "Archive:  ../content/test.zip\n",
            "  inflating: test.csv                \n"
          ]
        }
      ]
    },
    {
      "cell_type": "code",
      "metadata": {
        "id": "BEtN8XAc4v3B"
      },
      "source": [
        "training_pd = pd.read_csv('training.csv')\n",
        "test_pd = pd.read_csv('test.csv')"
      ],
      "execution_count": 10,
      "outputs": []
    },
    {
      "cell_type": "code",
      "metadata": {
        "id": "D8-00uCz4xNB"
      },
      "source": [
        "training_pd.head()"
      ],
      "execution_count": null,
      "outputs": []
    },
    {
      "cell_type": "code",
      "metadata": {
        "colab": {
          "base_uri": "https://localhost:8080/"
        },
        "id": "98BKOP8v4yd7",
        "outputId": "8aade64b-4aa2-4082-8155-bd13d718b390"
      },
      "source": [
        "training_pd.isnull().sum()"
      ],
      "execution_count": 12,
      "outputs": [
        {
          "output_type": "execute_result",
          "data": {
            "text/plain": [
              "left_eye_center_x              10\n",
              "left_eye_center_y              10\n",
              "right_eye_center_x             13\n",
              "right_eye_center_y             13\n",
              "left_eye_inner_corner_x      4778\n",
              "left_eye_inner_corner_y      4778\n",
              "left_eye_outer_corner_x      4782\n",
              "left_eye_outer_corner_y      4782\n",
              "right_eye_inner_corner_x     4781\n",
              "right_eye_inner_corner_y     4781\n",
              "right_eye_outer_corner_x     4781\n",
              "right_eye_outer_corner_y     4781\n",
              "left_eyebrow_inner_end_x     4779\n",
              "left_eyebrow_inner_end_y     4779\n",
              "left_eyebrow_outer_end_x     4824\n",
              "left_eyebrow_outer_end_y     4824\n",
              "right_eyebrow_inner_end_x    4779\n",
              "right_eyebrow_inner_end_y    4779\n",
              "right_eyebrow_outer_end_x    4813\n",
              "right_eyebrow_outer_end_y    4813\n",
              "nose_tip_x                      0\n",
              "nose_tip_y                      0\n",
              "mouth_left_corner_x          4780\n",
              "mouth_left_corner_y          4780\n",
              "mouth_right_corner_x         4779\n",
              "mouth_right_corner_y         4779\n",
              "mouth_center_top_lip_x       4774\n",
              "mouth_center_top_lip_y       4774\n",
              "mouth_center_bottom_lip_x      33\n",
              "mouth_center_bottom_lip_y      33\n",
              "Image                           0\n",
              "dtype: int64"
            ]
          },
          "metadata": {},
          "execution_count": 12
        }
      ]
    },
    {
      "cell_type": "code",
      "metadata": {
        "id": "H_d-wX-m41Mg"
      },
      "source": [
        "training_pd = training_pd.fillna(method='ffill')"
      ],
      "execution_count": 13,
      "outputs": []
    },
    {
      "cell_type": "code",
      "metadata": {
        "id": "7Afx_uDM491K"
      },
      "source": [
        "training = training_pd.to_numpy()\n",
        "test = test_pd.to_numpy()"
      ],
      "execution_count": 14,
      "outputs": []
    },
    {
      "cell_type": "code",
      "metadata": {
        "colab": {
          "base_uri": "https://localhost:8080/"
        },
        "id": "pbUMR43A4-b6",
        "outputId": "46115df0-d7bd-464c-b6c5-3f4b5b795284"
      },
      "source": [
        "print(training.shape)\n",
        "print(test.shape)"
      ],
      "execution_count": 15,
      "outputs": [
        {
          "output_type": "stream",
          "name": "stdout",
          "text": [
            "(7049, 31)\n",
            "(1783, 2)\n"
          ]
        }
      ]
    },
    {
      "cell_type": "code",
      "metadata": {
        "colab": {
          "base_uri": "https://localhost:8080/"
        },
        "id": "Wx8EWyCI5AOg",
        "outputId": "2c37d767-add9-4719-f987-eb175257faa2"
      },
      "source": [
        "train_image = training[:, -1]\n",
        "train_key = training[:, :-1].astype('float64')\n",
        "test_image = test[:, 1]\n",
        "print(train_image.shape)\n",
        "print(train_key.shape)\n",
        "print(test_image.shape)"
      ],
      "execution_count": 16,
      "outputs": [
        {
          "output_type": "stream",
          "name": "stdout",
          "text": [
            "(7049,)\n",
            "(7049, 30)\n",
            "(1783,)\n"
          ]
        }
      ]
    },
    {
      "cell_type": "code",
      "metadata": {
        "id": "kG0YbYE05CKp"
      },
      "source": [
        "train_image = np.array([np.array([int(pixel) for pixel in image.split()]).reshape(96, 96) for image in train_image])\n",
        "test_image = np.array([np.array([int(pixel) for pixel in image.split()]).reshape(96, 96) for image in test_image])"
      ],
      "execution_count": 17,
      "outputs": []
    },
    {
      "cell_type": "code",
      "metadata": {
        "colab": {
          "base_uri": "https://localhost:8080/"
        },
        "id": "yJ9Pj-Er5ElY",
        "outputId": "b3ef261d-666c-4b3d-c227-a94acb1b854f"
      },
      "source": [
        "print(train_image.shape)\n",
        "print(test_image.shape)"
      ],
      "execution_count": 18,
      "outputs": [
        {
          "output_type": "stream",
          "name": "stdout",
          "text": [
            "(7049, 96, 96)\n",
            "(1783, 96, 96)\n"
          ]
        }
      ]
    },
    {
      "cell_type": "code",
      "metadata": {
        "id": "AXmUATOe5Gr4"
      },
      "source": [
        "def plot_sample(image, keypoint, axis, title):\n",
        "    image = image.reshape(96,96)\n",
        "    axis.imshow(image, cmap='gray')\n",
        "    axis.scatter(keypoint[0::2], keypoint[1::2], marker='x', s=20)\n",
        "    plt.title(title)\n",
        "\n",
        "# from 'Facial Keypoint Detection - CNN + Augmentation' by Luong Quang Dung"
      ],
      "execution_count": 19,
      "outputs": []
    },
    {
      "cell_type": "code",
      "metadata": {
        "colab": {
          "base_uri": "https://localhost:8080/",
          "height": 281
        },
        "id": "HKPedEMr5IyB",
        "outputId": "e814d3d8-98c4-478d-e770-6d1a34d28a55"
      },
      "source": [
        "fig, axis = plt.subplots()\n",
        "plot_sample(train_image[0], train_key[0], axis, 'plot test')"
      ],
      "execution_count": 20,
      "outputs": [
        {
          "output_type": "display_data",
          "data": {
            "image/png": "[encoded data removed]",
            "text/plain": [
              "<Figure size 432x288 with 1 Axes>"
            ]
          },
          "metadata": {
            "needs_background": "light"
          }
        }
      ]
    },
    {
      "cell_type": "code",
      "metadata": {
        "id": "s_sX-3C0C-qm"
      },
      "source": [
        "EPOCHS = 10\n",
        "BATCH_SIZE = 32"
      ],
      "execution_count": 21,
      "outputs": []
    },
    {
      "cell_type": "code",
      "metadata": {
        "colab": {
          "base_uri": "https://localhost:8080/"
        },
        "id": "tj7g_dph7SHO",
        "outputId": "6caf1c9e-0b2b-43e8-8d5f-0f1cb1a12b17"
      },
      "source": [
        "if torch.cuda.is_available():\n",
        "  DEVICE = torch.device('cuda')\n",
        "else:\n",
        "  DEVICE = torch.device('cpu')\n",
        "\n",
        "print('Using PyTorch version:', torch.__version__, ' Device: ', DEVICE)"
      ],
      "execution_count": 22,
      "outputs": [
        {
          "output_type": "stream",
          "name": "stdout",
          "text": [
            "Using PyTorch version: 1.9.0+cu111  Device:  cuda\n"
          ]
        }
      ]
    },
    {
      "cell_type": "code",
      "metadata": {
        "id": "W9jzOkvY8C5n",
        "colab": {
          "base_uri": "https://localhost:8080/"
        },
        "outputId": "ed5b5b9b-9dfc-4ec8-d58e-f8da1e6ac551"
      },
      "source": [
        "class FaceDataset(Dataset):\n",
        "\n",
        "    def __init__(self, x, y):\n",
        "        self.len = x.shape[0]\n",
        "        self.x_data = (torch.from_numpy(x)/255.).type('torch.FloatTensor')\n",
        "        self.y_data = torch.from_numpy(y).type('torch.FloatTensor')\n",
        "\n",
        "    def __getitem__(self, index):\n",
        "        return self.x_data[index], self.y_data[index]\n",
        "\n",
        "    def __len__(self):\n",
        "        return self.len\n",
        "\n",
        "\n",
        "dataset = FaceDataset(train_image, train_key)\n",
        "print(len(dataset))"
      ],
      "execution_count": 23,
      "outputs": [
        {
          "output_type": "stream",
          "name": "stdout",
          "text": [
            "7049\n"
          ]
        }
      ]
    },
    {
      "cell_type": "code",
      "metadata": {
        "colab": {
          "base_uri": "https://localhost:8080/"
        },
        "id": "F1o_O89JIFeo",
        "outputId": "ad07f20a-b58c-4fef-9cb0-ad0cbaae9795"
      },
      "source": [
        "lengths = [int(len(dataset)*0.8), len(dataset) - int(len(dataset)*0.8)]\n",
        "print(lengths)\n",
        "train_data, val_data = torch.utils.data.random_split(dataset, lengths)\n",
        "print(len(train_data))"
      ],
      "execution_count": 24,
      "outputs": [
        {
          "output_type": "stream",
          "name": "stdout",
          "text": [
            "[5639, 1410]\n",
            "5639\n"
          ]
        }
      ]
    },
    {
      "cell_type": "code",
      "metadata": {
        "id": "Enpu_FTFIMnF"
      },
      "source": [
        "train_loader = DataLoader(dataset=train_data,\n",
        "                          batch_size=BATCH_SIZE,\n",
        "                          shuffle=True)\n",
        "val_loader = DataLoader(dataset=val_data,\n",
        "                        batch_size=BATCH_SIZE,\n",
        "                        shuffle=True)"
      ],
      "execution_count": 25,
      "outputs": []
    },
    {
      "cell_type": "code",
      "metadata": {
        "colab": {
          "base_uri": "https://localhost:8080/"
        },
        "id": "RPy9xLfO-nPA",
        "outputId": "ec0e457b-24bd-49a4-d02d-8324163237b2"
      },
      "source": [
        "for (x_train, y_train) in train_loader:\n",
        "  print(\"x_train:\", x_train.size(), 'type:', x_train.type())\n",
        "  print(\"y_train:\", y_train.size(), 'type:', y_train.type())\n",
        "  break"
      ],
      "execution_count": 26,
      "outputs": [
        {
          "output_type": "stream",
          "name": "stdout",
          "text": [
            "x_train: torch.Size([32, 96, 96]) type: torch.FloatTensor\n",
            "y_train: torch.Size([32, 30]) type: torch.FloatTensor\n"
          ]
        }
      ]
    },
    {
      "cell_type": "code",
      "metadata": {
        "id": "vUyyWu3z_r-V"
      },
      "source": [
        "class Net(nn.Module):\n",
        "    def __init__(self):\n",
        "        super(Net, self).__init__()\n",
        "        self.fc1 = nn.Linear(96 * 96, 512)\n",
        "        self.fc2 = nn.Linear(512, 256)\n",
        "        self.fc3 = nn.Linear(256, 30)\n",
        "    \n",
        "    def forward(self, x):\n",
        "        x = x.view(-1, 96 * 96)\n",
        "        x = self.fc1(x)\n",
        "        x = F.relu(x)\n",
        "        x = self.fc2(x)\n",
        "        x = F.relu(x)\n",
        "        x = self.fc3(x)\n",
        "        # x = F.log_softmax(x, dim = 1)\n",
        "        return x\n"
      ],
      "execution_count": 27,
      "outputs": []
    },
    {
      "cell_type": "code",
      "metadata": {
        "id": "qWEqJstOB_z1"
      },
      "source": [
        "class RMSELoss(torch.nn.Module):\n",
        "    def __init__(self):\n",
        "        super(RMSELoss,self).__init__()\n",
        "\n",
        "    def forward(self,x,y):\n",
        "        criterion = nn.MSELoss()\n",
        "        eps = 1e-6\n",
        "        loss = torch.sqrt(criterion(x, y) + eps)\n",
        "        return loss"
      ],
      "execution_count": 28,
      "outputs": []
    },
    {
      "cell_type": "code",
      "metadata": {
        "colab": {
          "base_uri": "https://localhost:8080/"
        },
        "id": "XJw9LEK5BOg_",
        "outputId": "332f9751-9d13-475f-b470-98d0ca7c77d3"
      },
      "source": [
        "model = Net().to(DEVICE)\n",
        "optimizer = torch.optim.Adam(model.parameters(), lr = 0.005)\n",
        "criterion = RMSELoss()\n",
        "\n",
        "print(model)"
      ],
      "execution_count": 44,
      "outputs": [
        {
          "output_type": "stream",
          "name": "stdout",
          "text": [
            "Net(\n",
            "  (fc1): Linear(in_features=9216, out_features=512, bias=True)\n",
            "  (fc2): Linear(in_features=512, out_features=256, bias=True)\n",
            "  (fc3): Linear(in_features=256, out_features=30, bias=True)\n",
            ")\n"
          ]
        }
      ]
    },
    {
      "cell_type": "code",
      "metadata": {
        "id": "bIhkscwdBpqK"
      },
      "source": [
        "def train(model, train_loader, optimizer, log_interval):\n",
        "    model.train()\n",
        "    for batch_idx, (image, key) in enumerate(train_loader):\n",
        "        image = image.to(DEVICE)\n",
        "        key = key.to(DEVICE)\n",
        "        optimizer.zero_grad()\n",
        "        output = model(image)\n",
        "        loss = criterion(output, key)\n",
        "        loss.backward()\n",
        "        optimizer.step()\n",
        "\n",
        "        if batch_idx % log_interval == 0:\n",
        "            print(\"Train Epoch: {} [{}/{}({:.0f}%)]\\tTrain Loss: {:.6f}\".format(\n",
        "                Epoch, batch_idx * len(image),\n",
        "                len(train_loader.dataset), 100. * batch_idx / len(train_loader),\n",
        "                loss.item()))\n"
      ],
      "execution_count": 30,
      "outputs": []
    },
    {
      "cell_type": "code",
      "metadata": {
        "id": "Cwh1XIGcJPIY"
      },
      "source": [
        "def evaluate(model, val_loader):\n",
        "    model.eval()\n",
        "    val_loss = 0\n",
        "    with torch.no_grad():\n",
        "        for image, key in val_loader:\n",
        "            image = image.to(DEVICE)\n",
        "            key = key.to(DEVICE)\n",
        "            output = model(image)\n",
        "            val_loss += criterion(output, key).item()\n",
        "\n",
        "    val_loss /= len(val_loader.dataset)\n",
        "    val_loss *= BATCH_SIZE\n",
        "    return val_loss"
      ],
      "execution_count": 31,
      "outputs": []
    },
    {
      "cell_type": "code",
      "metadata": {
        "colab": {
          "base_uri": "https://localhost:8080/"
        },
        "id": "l6DacJqeCy2N",
        "outputId": "e5c7763c-8118-464a-f235-c84013b6f6f7"
      },
      "source": [
        "for Epoch in range(1, EPOCHS + 1):\n",
        "    train(model, train_loader, optimizer, log_interval = 20)\n",
        "    val_loss = evaluate(model, val_loader)\n",
        "    print('\\n[EPOCH: {}], \\tVal Loss: {:.4f}\\n'.\n",
        "          format(Epoch, val_loss))\n"
      ],
      "execution_count": 32,
      "outputs": [
        {
          "output_type": "stream",
          "name": "stdout",
          "text": [
            "Train Epoch: 1 [0/5639(0%)]\tTrain Loss: 51.640652\n",
            "Train Epoch: 1 [640/5639(11%)]\tTrain Loss: 15.177410\n",
            "Train Epoch: 1 [1280/5639(23%)]\tTrain Loss: 13.144023\n",
            "Train Epoch: 1 [1920/5639(34%)]\tTrain Loss: 11.325653\n",
            "Train Epoch: 1 [2560/5639(45%)]\tTrain Loss: 8.887866\n",
            "Train Epoch: 1 [3200/5639(56%)]\tTrain Loss: 11.167423\n",
            "Train Epoch: 1 [3840/5639(68%)]\tTrain Loss: 10.902946\n",
            "Train Epoch: 1 [4480/5639(79%)]\tTrain Loss: 11.815574\n",
            "Train Epoch: 1 [5120/5639(90%)]\tTrain Loss: 12.770579\n",
            "\n",
            "[EPOCH: 1], \tVal Loss: 13.1055\n",
            "\n",
            "Train Epoch: 2 [0/5639(0%)]\tTrain Loss: 12.771726\n",
            "Train Epoch: 2 [640/5639(11%)]\tTrain Loss: 12.705249\n",
            "Train Epoch: 2 [1280/5639(23%)]\tTrain Loss: 8.389673\n",
            "Train Epoch: 2 [1920/5639(34%)]\tTrain Loss: 10.130980\n",
            "Train Epoch: 2 [2560/5639(45%)]\tTrain Loss: 11.288897\n",
            "Train Epoch: 2 [3200/5639(56%)]\tTrain Loss: 11.389457\n",
            "Train Epoch: 2 [3840/5639(68%)]\tTrain Loss: 9.714561\n",
            "Train Epoch: 2 [4480/5639(79%)]\tTrain Loss: 10.834352\n",
            "Train Epoch: 2 [5120/5639(90%)]\tTrain Loss: 10.870229\n",
            "\n",
            "[EPOCH: 2], \tVal Loss: 10.4070\n",
            "\n",
            "Train Epoch: 3 [0/5639(0%)]\tTrain Loss: 8.434699\n",
            "Train Epoch: 3 [640/5639(11%)]\tTrain Loss: 9.415022\n",
            "Train Epoch: 3 [1280/5639(23%)]\tTrain Loss: 9.745517\n",
            "Train Epoch: 3 [1920/5639(34%)]\tTrain Loss: 9.952912\n",
            "Train Epoch: 3 [2560/5639(45%)]\tTrain Loss: 7.971859\n",
            "Train Epoch: 3 [3200/5639(56%)]\tTrain Loss: 10.411302\n",
            "Train Epoch: 3 [3840/5639(68%)]\tTrain Loss: 8.726718\n",
            "Train Epoch: 3 [4480/5639(79%)]\tTrain Loss: 8.680879\n",
            "Train Epoch: 3 [5120/5639(90%)]\tTrain Loss: 10.866705\n",
            "\n",
            "[EPOCH: 3], \tVal Loss: 10.9394\n",
            "\n",
            "Train Epoch: 4 [0/5639(0%)]\tTrain Loss: 11.010400\n",
            "Train Epoch: 4 [640/5639(11%)]\tTrain Loss: 9.095744\n",
            "Train Epoch: 4 [1280/5639(23%)]\tTrain Loss: 11.078060\n",
            "Train Epoch: 4 [1920/5639(34%)]\tTrain Loss: 9.586363\n",
            "Train Epoch: 4 [2560/5639(45%)]\tTrain Loss: 9.484994\n",
            "Train Epoch: 4 [3200/5639(56%)]\tTrain Loss: 7.125729\n",
            "Train Epoch: 4 [3840/5639(68%)]\tTrain Loss: 8.792881\n",
            "Train Epoch: 4 [4480/5639(79%)]\tTrain Loss: 11.369157\n",
            "Train Epoch: 4 [5120/5639(90%)]\tTrain Loss: 8.672316\n",
            "\n",
            "[EPOCH: 4], \tVal Loss: 11.2038\n",
            "\n",
            "Train Epoch: 5 [0/5639(0%)]\tTrain Loss: 12.763745\n",
            "Train Epoch: 5 [640/5639(11%)]\tTrain Loss: 7.669693\n",
            "Train Epoch: 5 [1280/5639(23%)]\tTrain Loss: 9.444904\n",
            "Train Epoch: 5 [1920/5639(34%)]\tTrain Loss: 8.201319\n",
            "Train Epoch: 5 [2560/5639(45%)]\tTrain Loss: 10.047205\n",
            "Train Epoch: 5 [3200/5639(56%)]\tTrain Loss: 10.224806\n",
            "Train Epoch: 5 [3840/5639(68%)]\tTrain Loss: 8.440688\n",
            "Train Epoch: 5 [4480/5639(79%)]\tTrain Loss: 7.986018\n",
            "Train Epoch: 5 [5120/5639(90%)]\tTrain Loss: 7.120400\n",
            "\n",
            "[EPOCH: 5], \tVal Loss: 8.8951\n",
            "\n",
            "Train Epoch: 6 [0/5639(0%)]\tTrain Loss: 8.303452\n",
            "Train Epoch: 6 [640/5639(11%)]\tTrain Loss: 9.067797\n",
            "Train Epoch: 6 [1280/5639(23%)]\tTrain Loss: 8.848499\n",
            "Train Epoch: 6 [1920/5639(34%)]\tTrain Loss: 8.130692\n",
            "Train Epoch: 6 [2560/5639(45%)]\tTrain Loss: 10.682446\n",
            "Train Epoch: 6 [3200/5639(56%)]\tTrain Loss: 11.105979\n",
            "Train Epoch: 6 [3840/5639(68%)]\tTrain Loss: 7.181109\n",
            "Train Epoch: 6 [4480/5639(79%)]\tTrain Loss: 7.888997\n",
            "Train Epoch: 6 [5120/5639(90%)]\tTrain Loss: 9.047443\n",
            "\n",
            "[EPOCH: 6], \tVal Loss: 9.9343\n",
            "\n",
            "Train Epoch: 7 [0/5639(0%)]\tTrain Loss: 8.733101\n",
            "Train Epoch: 7 [640/5639(11%)]\tTrain Loss: 9.354957\n",
            "Train Epoch: 7 [1280/5639(23%)]\tTrain Loss: 7.694064\n",
            "Train Epoch: 7 [1920/5639(34%)]\tTrain Loss: 8.267965\n",
            "Train Epoch: 7 [2560/5639(45%)]\tTrain Loss: 9.102111\n",
            "Train Epoch: 7 [3200/5639(56%)]\tTrain Loss: 7.219435\n",
            "Train Epoch: 7 [3840/5639(68%)]\tTrain Loss: 6.845368\n",
            "Train Epoch: 7 [4480/5639(79%)]\tTrain Loss: 7.654119\n",
            "Train Epoch: 7 [5120/5639(90%)]\tTrain Loss: 9.406527\n",
            "\n",
            "[EPOCH: 7], \tVal Loss: 7.3646\n",
            "\n",
            "Train Epoch: 8 [0/5639(0%)]\tTrain Loss: 7.919066\n",
            "Train Epoch: 8 [640/5639(11%)]\tTrain Loss: 6.966220\n",
            "Train Epoch: 8 [1280/5639(23%)]\tTrain Loss: 7.325074\n",
            "Train Epoch: 8 [1920/5639(34%)]\tTrain Loss: 5.923319\n",
            "Train Epoch: 8 [2560/5639(45%)]\tTrain Loss: 6.736790\n",
            "Train Epoch: 8 [3200/5639(56%)]\tTrain Loss: 6.594872\n",
            "Train Epoch: 8 [3840/5639(68%)]\tTrain Loss: 5.851445\n",
            "Train Epoch: 8 [4480/5639(79%)]\tTrain Loss: 6.089122\n",
            "Train Epoch: 8 [5120/5639(90%)]\tTrain Loss: 5.247993\n",
            "\n",
            "[EPOCH: 8], \tVal Loss: 5.7384\n",
            "\n",
            "Train Epoch: 9 [0/5639(0%)]\tTrain Loss: 5.356546\n",
            "Train Epoch: 9 [640/5639(11%)]\tTrain Loss: 4.572802\n",
            "Train Epoch: 9 [1280/5639(23%)]\tTrain Loss: 5.524829\n",
            "Train Epoch: 9 [1920/5639(34%)]\tTrain Loss: 5.245821\n",
            "Train Epoch: 9 [2560/5639(45%)]\tTrain Loss: 4.128387\n",
            "Train Epoch: 9 [3200/5639(56%)]\tTrain Loss: 4.129580\n",
            "Train Epoch: 9 [3840/5639(68%)]\tTrain Loss: 4.201420\n",
            "Train Epoch: 9 [4480/5639(79%)]\tTrain Loss: 5.204962\n",
            "Train Epoch: 9 [5120/5639(90%)]\tTrain Loss: 4.587729\n",
            "\n",
            "[EPOCH: 9], \tVal Loss: 4.2005\n",
            "\n",
            "Train Epoch: 10 [0/5639(0%)]\tTrain Loss: 3.467100\n",
            "Train Epoch: 10 [640/5639(11%)]\tTrain Loss: 4.203389\n",
            "Train Epoch: 10 [1280/5639(23%)]\tTrain Loss: 3.634565\n",
            "Train Epoch: 10 [1920/5639(34%)]\tTrain Loss: 2.931436\n",
            "Train Epoch: 10 [2560/5639(45%)]\tTrain Loss: 2.912029\n",
            "Train Epoch: 10 [3200/5639(56%)]\tTrain Loss: 2.965811\n",
            "Train Epoch: 10 [3840/5639(68%)]\tTrain Loss: 2.968469\n",
            "Train Epoch: 10 [4480/5639(79%)]\tTrain Loss: 3.000892\n",
            "Train Epoch: 10 [5120/5639(90%)]\tTrain Loss: 2.849359\n",
            "\n",
            "[EPOCH: 10], \tVal Loss: 3.1539\n",
            "\n"
          ]
        }
      ]
    },
    {
      "cell_type": "code",
      "metadata": {
        "id": "53XRoXVVQl9O"
      },
      "source": [
        "def predict(val_data, idx, plot=False):\n",
        "    image_pred = val_data[idx][0].to(DEVICE)\n",
        "    with torch.no_grad():\n",
        "        prediction = model(image_pred)\n",
        "    \n",
        "    image_pred = image_pred.cpu().numpy()*255.\n",
        "    prediction = prediction.cpu().numpy().reshape(30)\n",
        "    answer = val_data[idx][1]\n",
        "\n",
        "    if plot == True:\n",
        "        fig, axis = plt.subplots()\n",
        "        prediction_plot(image_pred, prediction, answer, axis, 'prediction plot for {}th image in val_data'.\n",
        "                        format(idx))\n"
      ],
      "execution_count": 33,
      "outputs": []
    },
    {
      "cell_type": "code",
      "metadata": {
        "id": "7cerC2JYP-dJ"
      },
      "source": [
        "def prediction_plot(image, keypoint, answer, axis, title):\n",
        "    image = image.reshape(96,96)\n",
        "    axis.imshow(image, cmap='gray')\n",
        "    axis.scatter(keypoint[0::2], keypoint[1::2], marker='x', s=20)\n",
        "    axis.scatter(answer[0::2], answer[1::2], marker='x', color='r', s=20)\n",
        "    plt.title(title)\n"
      ],
      "execution_count": 34,
      "outputs": []
    },
    {
      "cell_type": "code",
      "metadata": {
        "colab": {
          "base_uri": "https://localhost:8080/",
          "height": 281
        },
        "id": "wKhjOf6UOznM",
        "outputId": "b579f308-1e23-4ba5-9ad8-b1a2b4e9ef66"
      },
      "source": [
        "predict(val_data, 1, True)"
      ],
      "execution_count": 35,
      "outputs": [
        {
          "output_type": "display_data",
          "data": {
            "image/png": "[encoded data removed]",
            "text/plain": [
              "<Figure size 432x288 with 1 Axes>"
            ]
          },
          "metadata": {
            "needs_background": "light"
          }
        }
      ]
    },
    {
      "cell_type": "code",
      "metadata": {
        "id": "pr1Ts1LwYMY2"
      },
      "source": [
        "EPOCHS = 60\n",
        "BATCH_SIZE = 32"
      ],
      "execution_count": 36,
      "outputs": []
    },
    {
      "cell_type": "code",
      "metadata": {
        "id": "kJwVdnjpM5df"
      },
      "source": [
        "class CNN(nn.Module):\n",
        "    def __init__(self):\n",
        "        super(CNN, self).__init__()\n",
        "        self.conv1 = nn.Conv2d(\n",
        "            in_channels = 1,\n",
        "            out_channels = 3,\n",
        "            kernel_size = 3,\n",
        "            padding = 1)\n",
        "        self.conv2 = nn.Conv2d(\n",
        "            in_channels = 3,\n",
        "            out_channels = 8,\n",
        "            kernel_size = 3,\n",
        "            padding = 1)\n",
        "        self.pool = nn.MaxPool2d(\n",
        "            kernel_size = 2,\n",
        "            stride = 2)\n",
        "        self.fc1 = nn.Linear(24 * 24 * 8, 64)\n",
        "        self.fc2 = nn.Linear(64, 32)\n",
        "        self.fc3 = nn.Linear(32, 30)\n",
        "    \n",
        "    def forward(self, x):\n",
        "        x = x.view(-1, 1, 96, 96)\n",
        "        x = self.conv1(x)\n",
        "        x = F.relu(x)\n",
        "        x = self.pool(x)\n",
        "        x = self.conv2(x)\n",
        "        x = F.relu(x)\n",
        "        x = self.pool(x)\n",
        "\n",
        "        x = x.view(-1, 24 * 24 * 8)\n",
        "        x = self.fc1(x)\n",
        "        x = F.relu(x)\n",
        "        x = self.fc2(x)\n",
        "        x = F.relu(x)\n",
        "        x = self.fc3(x)\n",
        "        return x"
      ],
      "execution_count": 37,
      "outputs": []
    },
    {
      "cell_type": "code",
      "metadata": {
        "colab": {
          "base_uri": "https://localhost:8080/"
        },
        "id": "IZwCFsCNVFZ4",
        "outputId": "1cc527bf-1091-4a14-a58d-985b05334902"
      },
      "source": [
        "model = CNN().to(DEVICE)\n",
        "optimizer = torch.optim.Adam(model.parameters(), lr = 0.005)\n",
        "criterion = RMSELoss()\n",
        "\n",
        "print(model)"
      ],
      "execution_count": 51,
      "outputs": [
        {
          "output_type": "stream",
          "name": "stdout",
          "text": [
            "CNN(\n",
            "  (conv1): Conv2d(1, 3, kernel_size=(3, 3), stride=(1, 1), padding=(1, 1))\n",
            "  (conv2): Conv2d(3, 8, kernel_size=(3, 3), stride=(1, 1), padding=(1, 1))\n",
            "  (pool): MaxPool2d(kernel_size=2, stride=2, padding=0, dilation=1, ceil_mode=False)\n",
            "  (fc1): Linear(in_features=4608, out_features=64, bias=True)\n",
            "  (fc2): Linear(in_features=64, out_features=32, bias=True)\n",
            "  (fc3): Linear(in_features=32, out_features=30, bias=True)\n",
            ")\n"
          ]
        }
      ]
    },
    {
      "cell_type": "code",
      "metadata": {
        "id": "qLBOarBWVrK_",
        "outputId": "9716ed60-40ee-4bf5-bb27-226033e8f08d",
        "colab": {
          "base_uri": "https://localhost:8080/"
        }
      },
      "source": [
        "for Epoch in range(1, EPOCHS + 1):\n",
        "    train(model, train_loader, optimizer, log_interval = 120)\n",
        "    val_loss = evaluate(model, val_loader)\n",
        "    print('\\n[EPOCH: {}], \\tVal Loss: {:.4f}\\n'.\n",
        "          format(Epoch, val_loss))\n"
      ],
      "execution_count": 39,
      "outputs": [
        {
          "output_type": "stream",
          "name": "stdout",
          "text": [
            "Train Epoch: 1 [0/5639(0%)]\tTrain Loss: 51.663666\n"
          ]
        },
        {
          "output_type": "stream",
          "name": "stderr",
          "text": [
            "/usr/local/lib/python3.7/dist-packages/torch/nn/functional.py:718: UserWarning: Named tensors and all their associated APIs are an experimental feature and subject to change. Please do not use them for anything important until they are released as stable. (Triggered internally at  /pytorch/c10/core/TensorImpl.h:1156.)\n",
            "  return torch.max_pool2d(input, kernel_size, stride, padding, dilation, ceil_mode)\n"
          ]
        },
        {
          "output_type": "stream",
          "name": "stdout",
          "text": [
            "Train Epoch: 1 [3840/5639(68%)]\tTrain Loss: 3.653306\n",
            "\n",
            "[EPOCH: 1], \tVal Loss: 3.1568\n",
            "\n",
            "Train Epoch: 2 [0/5639(0%)]\tTrain Loss: 3.513086\n",
            "Train Epoch: 2 [3840/5639(68%)]\tTrain Loss: 2.841172\n",
            "\n",
            "[EPOCH: 2], \tVal Loss: 3.1732\n",
            "\n",
            "Train Epoch: 3 [0/5639(0%)]\tTrain Loss: 2.706816\n",
            "Train Epoch: 3 [3840/5639(68%)]\tTrain Loss: 3.313781\n",
            "\n",
            "[EPOCH: 3], \tVal Loss: 3.1442\n",
            "\n",
            "Train Epoch: 4 [0/5639(0%)]\tTrain Loss: 3.727566\n",
            "Train Epoch: 4 [3840/5639(68%)]\tTrain Loss: 3.546583\n",
            "\n",
            "[EPOCH: 4], \tVal Loss: 3.4633\n",
            "\n",
            "Train Epoch: 5 [0/5639(0%)]\tTrain Loss: 3.001446\n",
            "Train Epoch: 5 [3840/5639(68%)]\tTrain Loss: 3.727321\n",
            "\n",
            "[EPOCH: 5], \tVal Loss: 4.1341\n",
            "\n",
            "Train Epoch: 6 [0/5639(0%)]\tTrain Loss: 4.176545\n",
            "Train Epoch: 6 [3840/5639(68%)]\tTrain Loss: 2.916804\n",
            "\n",
            "[EPOCH: 6], \tVal Loss: 3.0789\n",
            "\n",
            "Train Epoch: 7 [0/5639(0%)]\tTrain Loss: 3.410574\n",
            "Train Epoch: 7 [3840/5639(68%)]\tTrain Loss: 3.523002\n",
            "\n",
            "[EPOCH: 7], \tVal Loss: 3.1695\n",
            "\n",
            "Train Epoch: 8 [0/5639(0%)]\tTrain Loss: 3.526429\n",
            "Train Epoch: 8 [3840/5639(68%)]\tTrain Loss: 2.835268\n",
            "\n",
            "[EPOCH: 8], \tVal Loss: 3.1918\n",
            "\n",
            "Train Epoch: 9 [0/5639(0%)]\tTrain Loss: 3.354610\n",
            "Train Epoch: 9 [3840/5639(68%)]\tTrain Loss: 3.952849\n",
            "\n",
            "[EPOCH: 9], \tVal Loss: 3.0183\n",
            "\n",
            "Train Epoch: 10 [0/5639(0%)]\tTrain Loss: 2.902844\n",
            "Train Epoch: 10 [3840/5639(68%)]\tTrain Loss: 2.633568\n",
            "\n",
            "[EPOCH: 10], \tVal Loss: 2.7274\n",
            "\n",
            "Train Epoch: 11 [0/5639(0%)]\tTrain Loss: 2.489033\n",
            "Train Epoch: 11 [3840/5639(68%)]\tTrain Loss: 3.227446\n",
            "\n",
            "[EPOCH: 11], \tVal Loss: 2.7038\n",
            "\n",
            "Train Epoch: 12 [0/5639(0%)]\tTrain Loss: 3.670810\n",
            "Train Epoch: 12 [3840/5639(68%)]\tTrain Loss: 3.487028\n",
            "\n",
            "[EPOCH: 12], \tVal Loss: 3.0880\n",
            "\n",
            "Train Epoch: 13 [0/5639(0%)]\tTrain Loss: 3.107182\n",
            "Train Epoch: 13 [3840/5639(68%)]\tTrain Loss: 2.175716\n",
            "\n",
            "[EPOCH: 13], \tVal Loss: 2.7472\n",
            "\n",
            "Train Epoch: 14 [0/5639(0%)]\tTrain Loss: 2.058580\n",
            "Train Epoch: 14 [3840/5639(68%)]\tTrain Loss: 2.438575\n",
            "\n",
            "[EPOCH: 14], \tVal Loss: 2.6686\n",
            "\n",
            "Train Epoch: 15 [0/5639(0%)]\tTrain Loss: 2.396508\n",
            "Train Epoch: 15 [3840/5639(68%)]\tTrain Loss: 2.607685\n",
            "\n",
            "[EPOCH: 15], \tVal Loss: 2.8873\n",
            "\n",
            "Train Epoch: 16 [0/5639(0%)]\tTrain Loss: 2.865702\n",
            "Train Epoch: 16 [3840/5639(68%)]\tTrain Loss: 2.958877\n",
            "\n",
            "[EPOCH: 16], \tVal Loss: 2.7321\n",
            "\n",
            "Train Epoch: 17 [0/5639(0%)]\tTrain Loss: 2.822158\n",
            "Train Epoch: 17 [3840/5639(68%)]\tTrain Loss: 2.734040\n",
            "\n",
            "[EPOCH: 17], \tVal Loss: 2.5524\n",
            "\n",
            "Train Epoch: 18 [0/5639(0%)]\tTrain Loss: 2.514675\n",
            "Train Epoch: 18 [3840/5639(68%)]\tTrain Loss: 2.147719\n",
            "\n",
            "[EPOCH: 18], \tVal Loss: 2.6076\n",
            "\n",
            "Train Epoch: 19 [0/5639(0%)]\tTrain Loss: 2.703466\n",
            "Train Epoch: 19 [3840/5639(68%)]\tTrain Loss: 2.221770\n",
            "\n",
            "[EPOCH: 19], \tVal Loss: 2.6745\n",
            "\n",
            "Train Epoch: 20 [0/5639(0%)]\tTrain Loss: 2.252971\n",
            "Train Epoch: 20 [3840/5639(68%)]\tTrain Loss: 2.241584\n",
            "\n",
            "[EPOCH: 20], \tVal Loss: 2.7100\n",
            "\n",
            "Train Epoch: 21 [0/5639(0%)]\tTrain Loss: 2.635648\n",
            "Train Epoch: 21 [3840/5639(68%)]\tTrain Loss: 2.916952\n",
            "\n",
            "[EPOCH: 21], \tVal Loss: 2.5220\n",
            "\n",
            "Train Epoch: 22 [0/5639(0%)]\tTrain Loss: 2.001279\n",
            "Train Epoch: 22 [3840/5639(68%)]\tTrain Loss: 2.354585\n",
            "\n",
            "[EPOCH: 22], \tVal Loss: 2.7019\n",
            "\n",
            "Train Epoch: 23 [0/5639(0%)]\tTrain Loss: 4.603117\n",
            "Train Epoch: 23 [3840/5639(68%)]\tTrain Loss: 2.518594\n",
            "\n",
            "[EPOCH: 23], \tVal Loss: 2.4596\n",
            "\n",
            "Train Epoch: 24 [0/5639(0%)]\tTrain Loss: 2.299370\n",
            "Train Epoch: 24 [3840/5639(68%)]\tTrain Loss: 2.316671\n",
            "\n",
            "[EPOCH: 24], \tVal Loss: 3.2090\n",
            "\n",
            "Train Epoch: 25 [0/5639(0%)]\tTrain Loss: 3.216284\n",
            "Train Epoch: 25 [3840/5639(68%)]\tTrain Loss: 3.797161\n",
            "\n",
            "[EPOCH: 25], \tVal Loss: 2.4149\n",
            "\n",
            "Train Epoch: 26 [0/5639(0%)]\tTrain Loss: 3.234643\n",
            "Train Epoch: 26 [3840/5639(68%)]\tTrain Loss: 2.505855\n",
            "\n",
            "[EPOCH: 26], \tVal Loss: 2.4240\n",
            "\n",
            "Train Epoch: 27 [0/5639(0%)]\tTrain Loss: 2.025999\n",
            "Train Epoch: 27 [3840/5639(68%)]\tTrain Loss: 2.501180\n",
            "\n",
            "[EPOCH: 27], \tVal Loss: 2.4053\n",
            "\n",
            "Train Epoch: 28 [0/5639(0%)]\tTrain Loss: 2.212946\n",
            "Train Epoch: 28 [3840/5639(68%)]\tTrain Loss: 2.302462\n",
            "\n",
            "[EPOCH: 28], \tVal Loss: 2.4988\n",
            "\n",
            "Train Epoch: 29 [0/5639(0%)]\tTrain Loss: 1.866600\n",
            "Train Epoch: 29 [3840/5639(68%)]\tTrain Loss: 2.054117\n",
            "\n",
            "[EPOCH: 29], \tVal Loss: 2.4720\n",
            "\n",
            "Train Epoch: 30 [0/5639(0%)]\tTrain Loss: 2.569151\n",
            "Train Epoch: 30 [3840/5639(68%)]\tTrain Loss: 2.021143\n",
            "\n",
            "[EPOCH: 30], \tVal Loss: 2.3117\n",
            "\n",
            "Train Epoch: 31 [0/5639(0%)]\tTrain Loss: 1.685286\n",
            "Train Epoch: 31 [3840/5639(68%)]\tTrain Loss: 2.181904\n",
            "\n",
            "[EPOCH: 31], \tVal Loss: 2.4929\n",
            "\n",
            "Train Epoch: 32 [0/5639(0%)]\tTrain Loss: 1.975841\n",
            "Train Epoch: 32 [3840/5639(68%)]\tTrain Loss: 2.401510\n",
            "\n",
            "[EPOCH: 32], \tVal Loss: 2.4464\n",
            "\n",
            "Train Epoch: 33 [0/5639(0%)]\tTrain Loss: 2.297573\n",
            "Train Epoch: 33 [3840/5639(68%)]\tTrain Loss: 1.827794\n",
            "\n",
            "[EPOCH: 33], \tVal Loss: 2.4108\n",
            "\n",
            "Train Epoch: 34 [0/5639(0%)]\tTrain Loss: 1.787506\n",
            "Train Epoch: 34 [3840/5639(68%)]\tTrain Loss: 1.988450\n",
            "\n",
            "[EPOCH: 34], \tVal Loss: 2.8258\n",
            "\n",
            "Train Epoch: 35 [0/5639(0%)]\tTrain Loss: 2.609874\n",
            "Train Epoch: 35 [3840/5639(68%)]\tTrain Loss: 1.896658\n",
            "\n",
            "[EPOCH: 35], \tVal Loss: 2.2855\n",
            "\n",
            "Train Epoch: 36 [0/5639(0%)]\tTrain Loss: 1.729287\n",
            "Train Epoch: 36 [3840/5639(68%)]\tTrain Loss: 1.811173\n",
            "\n",
            "[EPOCH: 36], \tVal Loss: 2.2867\n",
            "\n",
            "Train Epoch: 37 [0/5639(0%)]\tTrain Loss: 1.897158\n",
            "Train Epoch: 37 [3840/5639(68%)]\tTrain Loss: 1.862279\n",
            "\n",
            "[EPOCH: 37], \tVal Loss: 2.3423\n",
            "\n",
            "Train Epoch: 38 [0/5639(0%)]\tTrain Loss: 1.910899\n",
            "Train Epoch: 38 [3840/5639(68%)]\tTrain Loss: 4.904253\n",
            "\n",
            "[EPOCH: 38], \tVal Loss: 2.3679\n",
            "\n",
            "Train Epoch: 39 [0/5639(0%)]\tTrain Loss: 3.688375\n",
            "Train Epoch: 39 [3840/5639(68%)]\tTrain Loss: 1.608627\n",
            "\n",
            "[EPOCH: 39], \tVal Loss: 2.2898\n",
            "\n",
            "Train Epoch: 40 [0/5639(0%)]\tTrain Loss: 1.675377\n",
            "Train Epoch: 40 [3840/5639(68%)]\tTrain Loss: 1.886677\n",
            "\n",
            "[EPOCH: 40], \tVal Loss: 2.3652\n",
            "\n",
            "Train Epoch: 41 [0/5639(0%)]\tTrain Loss: 3.236397\n",
            "Train Epoch: 41 [3840/5639(68%)]\tTrain Loss: 2.037709\n",
            "\n",
            "[EPOCH: 41], \tVal Loss: 2.2760\n",
            "\n",
            "Train Epoch: 42 [0/5639(0%)]\tTrain Loss: 1.843240\n",
            "Train Epoch: 42 [3840/5639(68%)]\tTrain Loss: 1.898491\n",
            "\n",
            "[EPOCH: 42], \tVal Loss: 2.3287\n",
            "\n",
            "Train Epoch: 43 [0/5639(0%)]\tTrain Loss: 1.881675\n",
            "Train Epoch: 43 [3840/5639(68%)]\tTrain Loss: 1.863601\n",
            "\n",
            "[EPOCH: 43], \tVal Loss: 2.2930\n",
            "\n",
            "Train Epoch: 44 [0/5639(0%)]\tTrain Loss: 2.054885\n",
            "Train Epoch: 44 [3840/5639(68%)]\tTrain Loss: 2.725008\n",
            "\n",
            "[EPOCH: 44], \tVal Loss: 2.5355\n",
            "\n",
            "Train Epoch: 45 [0/5639(0%)]\tTrain Loss: 1.885833\n",
            "Train Epoch: 45 [3840/5639(68%)]\tTrain Loss: 1.862544\n",
            "\n",
            "[EPOCH: 45], \tVal Loss: 2.3030\n",
            "\n",
            "Train Epoch: 46 [0/5639(0%)]\tTrain Loss: 2.021896\n",
            "Train Epoch: 46 [3840/5639(68%)]\tTrain Loss: 1.572240\n",
            "\n",
            "[EPOCH: 46], \tVal Loss: 2.2723\n",
            "\n",
            "Train Epoch: 47 [0/5639(0%)]\tTrain Loss: 3.791947\n",
            "Train Epoch: 47 [3840/5639(68%)]\tTrain Loss: 2.286380\n",
            "\n",
            "[EPOCH: 47], \tVal Loss: 2.3079\n",
            "\n",
            "Train Epoch: 48 [0/5639(0%)]\tTrain Loss: 1.397197\n",
            "Train Epoch: 48 [3840/5639(68%)]\tTrain Loss: 1.723204\n",
            "\n",
            "[EPOCH: 48], \tVal Loss: 2.5202\n",
            "\n",
            "Train Epoch: 49 [0/5639(0%)]\tTrain Loss: 1.994433\n",
            "Train Epoch: 49 [3840/5639(68%)]\tTrain Loss: 1.864679\n",
            "\n",
            "[EPOCH: 49], \tVal Loss: 2.5601\n",
            "\n",
            "Train Epoch: 50 [0/5639(0%)]\tTrain Loss: 2.074815\n",
            "Train Epoch: 50 [3840/5639(68%)]\tTrain Loss: 1.588815\n",
            "\n",
            "[EPOCH: 50], \tVal Loss: 2.2569\n",
            "\n",
            "Train Epoch: 51 [0/5639(0%)]\tTrain Loss: 1.702080\n",
            "Train Epoch: 51 [3840/5639(68%)]\tTrain Loss: 1.554760\n",
            "\n",
            "[EPOCH: 51], \tVal Loss: 2.5608\n",
            "\n",
            "Train Epoch: 52 [0/5639(0%)]\tTrain Loss: 2.055588\n",
            "Train Epoch: 52 [3840/5639(68%)]\tTrain Loss: 1.955904\n",
            "\n",
            "[EPOCH: 52], \tVal Loss: 2.6467\n",
            "\n",
            "Train Epoch: 53 [0/5639(0%)]\tTrain Loss: 2.315038\n",
            "Train Epoch: 53 [3840/5639(68%)]\tTrain Loss: 1.947125\n",
            "\n",
            "[EPOCH: 53], \tVal Loss: 2.3152\n",
            "\n",
            "Train Epoch: 54 [0/5639(0%)]\tTrain Loss: 1.788921\n",
            "Train Epoch: 54 [3840/5639(68%)]\tTrain Loss: 1.575903\n",
            "\n",
            "[EPOCH: 54], \tVal Loss: 2.4385\n",
            "\n",
            "Train Epoch: 55 [0/5639(0%)]\tTrain Loss: 2.715346\n",
            "Train Epoch: 55 [3840/5639(68%)]\tTrain Loss: 2.214336\n",
            "\n",
            "[EPOCH: 55], \tVal Loss: 2.4543\n",
            "\n",
            "Train Epoch: 56 [0/5639(0%)]\tTrain Loss: 1.921722\n",
            "Train Epoch: 56 [3840/5639(68%)]\tTrain Loss: 1.774894\n",
            "\n",
            "[EPOCH: 56], \tVal Loss: 2.3339\n",
            "\n",
            "Train Epoch: 57 [0/5639(0%)]\tTrain Loss: 1.760132\n",
            "Train Epoch: 57 [3840/5639(68%)]\tTrain Loss: 1.685084\n",
            "\n",
            "[EPOCH: 57], \tVal Loss: 2.3232\n",
            "\n",
            "Train Epoch: 58 [0/5639(0%)]\tTrain Loss: 1.787278\n",
            "Train Epoch: 58 [3840/5639(68%)]\tTrain Loss: 1.658928\n",
            "\n",
            "[EPOCH: 58], \tVal Loss: 2.3653\n",
            "\n",
            "Train Epoch: 59 [0/5639(0%)]\tTrain Loss: 2.373486\n",
            "Train Epoch: 59 [3840/5639(68%)]\tTrain Loss: 1.720908\n",
            "\n",
            "[EPOCH: 59], \tVal Loss: 2.2573\n",
            "\n",
            "Train Epoch: 60 [0/5639(0%)]\tTrain Loss: 1.966638\n",
            "Train Epoch: 60 [3840/5639(68%)]\tTrain Loss: 1.625761\n",
            "\n",
            "[EPOCH: 60], \tVal Loss: 2.2436\n",
            "\n"
          ]
        }
      ]
    },
    {
      "cell_type": "code",
      "metadata": {
        "colab": {
          "base_uri": "https://localhost:8080/",
          "height": 281
        },
        "id": "RAMKlv_GVwpi",
        "outputId": "bff73b98-d8e7-440d-86e0-a31c197a616f"
      },
      "source": [
        "predict(val_data, 2, True)"
      ],
      "execution_count": 40,
      "outputs": [
        {
          "output_type": "display_data",
          "data": {
            "image/png": "[encoded data removed]",
            "text/plain": [
              "<Figure size 432x288 with 1 Axes>"
            ]
          },
          "metadata": {
            "needs_background": "light"
          }
        }
      ]
    },
    {
      "cell_type": "markdown",
      "metadata": {
        "id": "tGpWsGzwOfrq"
      },
      "source": [
        "모델 저장 및 불러오기는 \n",
        "https://justkode.kr/deep-learning/pytorch-save\n",
        "https://honeyjamtech.tistory.com/39\n",
        "**참고해서** 다시 정리하기"
      ]
    },
    {
      "cell_type": "code",
      "metadata": {
        "id": "cugFPa5qKui0",
        "outputId": "3c35a84d-32d5-4a1a-b6a8-2e14db9f5ce4",
        "colab": {
          "base_uri": "https://localhost:8080/"
        }
      },
      "source": [
        "from google.colab import drive\n",
        "drive.mount('/content/drive')"
      ],
      "execution_count": 41,
      "outputs": [
        {
          "output_type": "stream",
          "name": "stdout",
          "text": [
            "Mounted at /content/drive\n"
          ]
        }
      ]
    },
    {
      "cell_type": "code",
      "metadata": {
        "id": "REhAmCbBXos3"
      },
      "source": [
        "PATH = '/content/drive/MyDrive/Colab Notebooks/FKD_model'\n",
        "\n",
        "torch.save(model, PATH + 'model.pt')  # 전체 모델 저장\n",
        "torch.save(model.state_dict(), PATH + 'model_state_dict.pt')  # 모델 객체의 state_dict 저장\n",
        "torch.save({\n",
        "    'model': model.state_dict(),\n",
        "    'optimizer': optimizer.state_dict()\n",
        "}, PATH + 'all.tar')"
      ],
      "execution_count": 42,
      "outputs": []
    },
    {
      "cell_type": "code",
      "metadata": {
        "id": "LyqoCeiLLOrG",
        "outputId": "2b5f19a8-4893-4aed-ef0a-6ba8dfcf646d",
        "colab": {
          "base_uri": "https://localhost:8080/"
        }
      },
      "source": [
        "model = torch.load(PATH + 'model.pt')  # 전체 모델을 통째로 불러옴, 클래스 선언 필수, parameter값도 같이 불러옴\n",
        "# 위에서 클래스 선언 필수라는 말은, 모델의 클래스가 선언되어야 한다는 뜻\n",
        "print(model)"
      ],
      "execution_count": 45,
      "outputs": [
        {
          "output_type": "stream",
          "name": "stdout",
          "text": [
            "CNN(\n",
            "  (conv1): Conv2d(1, 3, kernel_size=(3, 3), stride=(1, 1), padding=(1, 1))\n",
            "  (conv2): Conv2d(3, 8, kernel_size=(3, 3), stride=(1, 1), padding=(1, 1))\n",
            "  (pool): MaxPool2d(kernel_size=2, stride=2, padding=0, dilation=1, ceil_mode=False)\n",
            "  (fc1): Linear(in_features=4608, out_features=64, bias=True)\n",
            "  (fc2): Linear(in_features=64, out_features=32, bias=True)\n",
            "  (fc3): Linear(in_features=32, out_features=30, bias=True)\n",
            ")\n"
          ]
        }
      ]
    },
    {
      "cell_type": "code",
      "metadata": {
        "id": "hOwhnQ7mMH50"
      },
      "source": [
        "model.load_state_dict(torch.load(PATH + 'model_state_dict.pt'))  # state_dict를 불러 온 후, 모델에 저장\n",
        "model.state_dict()"
      ],
      "execution_count": null,
      "outputs": []
    },
    {
      "cell_type": "code",
      "metadata": {
        "id": "sJKw06YlLsYL"
      },
      "source": [
        "checkpoint = torch.load(PATH + 'all.tar')   # dict 불러오기\n",
        "checkpoint['optimizer']  # optimizer.sate_dict()는 "
      ],
      "execution_count": null,
      "outputs": []
    },
    {
      "cell_type": "code",
      "metadata": {
        "id": "9VB5EHqXMHBi"
      },
      "source": [
        "model.load_state_dict(checkpoint['model'])\n",
        "optimizer.load_state_dict(checkpoint['optimizer'])"
      ],
      "execution_count": 52,
      "outputs": []
    },
    {
      "cell_type": "code",
      "metadata": {
        "id": "Dpf5Vd20ONjf"
      },
      "source": [
        "optimizer.state_dict()"
      ],
      "execution_count": null,
      "outputs": []
    },
    {
      "cell_type": "markdown",
      "metadata": {
        "id": "eAc5hEcRQy4w"
      },
      "source": [
        "Ray Tune 사용해보기 --> CNN 모델에서 가장 좋은 hyperparamter 찾고 Kaggle에 답안 제출해보기\n",
        "https://tutorials.pytorch.kr/beginner/hyperparameter_tuning_tutorial.html"
      ]
    },
    {
      "cell_type": "code",
      "metadata": {
        "id": "6ymRwCrlOac5"
      },
      "source": [
        ""
      ],
      "execution_count": null,
      "outputs": []
    }
  ]
}