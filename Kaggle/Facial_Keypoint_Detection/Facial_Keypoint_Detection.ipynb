{
  "nbformat": 4,
  "nbformat_minor": 0,
  "metadata": {
    "colab": {
      "name": "Facial_Keypoint_Detection",
      "provenance": [],
      "collapsed_sections": [],
      "authorship_tag": "ABX9TyPtT7GztgnLG9CNhefTovXN",
      "include_colab_link": true
    },
    "kernelspec": {
      "name": "python3",
      "display_name": "Python 3"
    },
    "language_info": {
      "name": "python"
    },
    "accelerator": "GPU"
  },
  "cells": [
    {
      "cell_type": "markdown",
      "metadata": {
        "id": "view-in-github",
        "colab_type": "text"
      },
      "source": [
        "<a href=\"https://colab.research.google.com/github/SangminAhn21/DL_Study/blob/main/Kaggle/Facial_Keypoint_Detection/Facial_Keypoint_Detection.ipynb\" target=\"_parent\"><img src=\"https://colab.research.google.com/assets/colab-badge.svg\" alt=\"Open In Colab\"/></a>"
      ]
    },
    {
      "cell_type": "code",
      "metadata": {
        "id": "KEan-7rU4caZ"
      },
      "source": [
        "# This Python 3 environment comes with many helpful analytics libraries installed\n",
        "# It is defined by the kaggle/python Docker image: https://github.com/kaggle/docker-python\n",
        "# For example, here's several helpful packages to load\n",
        "\n",
        "import numpy as np # linear algebra\n",
        "import pandas as pd # data processing, CSV file I/O (e.g. pd.read_csv)\n",
        "\n",
        "# Input data files are available in the read-only \"../input/\" directory\n",
        "# For example, running this (by clicking run or pressing Shift+Enter) will list all files under the input directory\n",
        "\n",
        "import os\n",
        "for dirname, _, filenames in os.walk('/kaggle/input'):\n",
        "    for filename in filenames:\n",
        "        print(os.path.join(dirname, filename))\n",
        "\n",
        "# You can write up to 20GB to the current directory (/kaggle/working/) that gets preserved as output when you create a version using \"Save & Run All\" \n",
        "# You can also write temporary files to /kaggle/temp/, but they won't be saved outside of the current session"
      ],
      "execution_count": 2,
      "outputs": []
    },
    {
      "cell_type": "code",
      "metadata": {
        "id": "WD9rPcpx4iyT"
      },
      "source": [
        "import matplotlib.pyplot as plt\n",
        "import torch\n",
        "import torch.nn as nn\n",
        "import torch.nn.functional as F\n",
        "from torch.utils.data import Dataset, DataLoader"
      ],
      "execution_count": 3,
      "outputs": []
    },
    {
      "cell_type": "code",
      "metadata": {
        "colab": {
          "base_uri": "https://localhost:8080/"
        },
        "id": "3h8EuyaC5cnW",
        "outputId": "6bda6b09-dfff-40e0-98d9-cef264c86421"
      },
      "source": [
        "pip install kaggle"
      ],
      "execution_count": 4,
      "outputs": [
        {
          "output_type": "stream",
          "name": "stdout",
          "text": [
            "Requirement already satisfied: kaggle in /usr/local/lib/python3.7/dist-packages (1.5.12)\n",
            "Requirement already satisfied: requests in /usr/local/lib/python3.7/dist-packages (from kaggle) (2.23.0)\n",
            "Requirement already satisfied: urllib3 in /usr/local/lib/python3.7/dist-packages (from kaggle) (1.24.3)\n",
            "Requirement already satisfied: certifi in /usr/local/lib/python3.7/dist-packages (from kaggle) (2021.5.30)\n",
            "Requirement already satisfied: python-slugify in /usr/local/lib/python3.7/dist-packages (from kaggle) (5.0.2)\n",
            "Requirement already satisfied: tqdm in /usr/local/lib/python3.7/dist-packages (from kaggle) (4.62.3)\n",
            "Requirement already satisfied: six>=1.10 in /usr/local/lib/python3.7/dist-packages (from kaggle) (1.15.0)\n",
            "Requirement already satisfied: python-dateutil in /usr/local/lib/python3.7/dist-packages (from kaggle) (2.8.2)\n",
            "Requirement already satisfied: text-unidecode>=1.3 in /usr/local/lib/python3.7/dist-packages (from python-slugify->kaggle) (1.3)\n",
            "Requirement already satisfied: chardet<4,>=3.0.2 in /usr/local/lib/python3.7/dist-packages (from requests->kaggle) (3.0.4)\n",
            "Requirement already satisfied: idna<3,>=2.5 in /usr/local/lib/python3.7/dist-packages (from requests->kaggle) (2.10)\n"
          ]
        }
      ]
    },
    {
      "cell_type": "code",
      "metadata": {
        "colab": {
          "resources": {
            "http://localhost:8080/nbextensions/google.colab/files.js": {
              "data": "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",
              "ok": true,
              "headers": [
                [
                  "content-type",
                  "application/javascript"
                ]
              ],
              "status": 200,
              "status_text": "OK"
            }
          },
          "base_uri": "https://localhost:8080/",
          "height": 97
        },
        "id": "iHj3P0vf5hed",
        "outputId": "a047ddba-fef1-435e-c4dc-9d10f198c374"
      },
      "source": [
        "from google.colab import files\n",
        "\n",
        "uploaded = files.upload()\n",
        "\n",
        "for fn in uploaded.keys():\n",
        "  print('User uploaded file \"{name}\" with length {length} bytes'.format(\n",
        "      name=fn, length=len(uploaded[fn])))\n",
        "  \n",
        "# Then move kaggle.json into the folder where the API expects to find it.\n",
        "!mkdir -p ~/.kaggle/ && mv kaggle.json ~/.kaggle/ && chmod 600 ~/.kaggle/kaggle.json"
      ],
      "execution_count": 5,
      "outputs": [
        {
          "output_type": "display_data",
          "data": {
            "text/html": [
              "\n",
              "     <input type=\"file\" id=\"files-cda12044-6e91-44c6-b56e-b4dddb562b61\" name=\"files[]\" multiple disabled\n",
              "        style=\"border:none\" />\n",
              "     <output id=\"result-cda12044-6e91-44c6-b56e-b4dddb562b61\">\n",
              "      Upload widget is only available when the cell has been executed in the\n",
              "      current browser session. Please rerun this cell to enable.\n",
              "      </output>\n",
              "      <script src=\"/nbextensions/google.colab/files.js\"></script> "
            ],
            "text/plain": [
              "<IPython.core.display.HTML object>"
            ]
          },
          "metadata": {}
        },
        {
          "output_type": "stream",
          "name": "stdout",
          "text": [
            "Saving kaggle.json to kaggle.json\n",
            "User uploaded file \"kaggle.json\" with length 66 bytes\n"
          ]
        }
      ]
    },
    {
      "cell_type": "code",
      "metadata": {
        "colab": {
          "base_uri": "https://localhost:8080/"
        },
        "id": "jmL1oLac6Wq8",
        "outputId": "4a893365-5b25-448d-e665-70ae8982cffa"
      },
      "source": [
        "!kaggle competitions download -c facial-keypoints-detection"
      ],
      "execution_count": 6,
      "outputs": [
        {
          "output_type": "stream",
          "name": "stdout",
          "text": [
            "Warning: Looks like you're using an outdated API Version, please consider updating (server 1.5.12 / client 1.5.4)\n",
            "Downloading SampleSubmission.csv to /content\n",
            "  0% 0.00/201k [00:00<?, ?B/s]\n",
            "100% 201k/201k [00:00<00:00, 29.6MB/s]\n",
            "Downloading IdLookupTable.csv to /content\n",
            "  0% 0.00/843k [00:00<?, ?B/s]\n",
            "100% 843k/843k [00:00<00:00, 51.8MB/s]\n",
            "Downloading training.zip to /content\n",
            " 95% 57.0M/60.1M [00:02<00:00, 17.1MB/s]\n",
            "100% 60.1M/60.1M [00:02<00:00, 27.2MB/s]\n",
            "Downloading test.zip to /content\n",
            " 56% 9.00M/16.0M [00:01<00:01, 6.33MB/s]\n",
            "100% 16.0M/16.0M [00:01<00:00, 11.0MB/s]\n"
          ]
        }
      ]
    },
    {
      "cell_type": "code",
      "metadata": {
        "id": "RjS4_sBA4le1"
      },
      "source": [
        "IdLookupTable = pd.read_csv('IdLookupTable.csv')"
      ],
      "execution_count": 7,
      "outputs": []
    },
    {
      "cell_type": "code",
      "metadata": {
        "colab": {
          "base_uri": "https://localhost:8080/",
          "height": 424
        },
        "id": "vjovR_pi4oz5",
        "outputId": "fcba1e5a-6405-41c6-bd49-6ac711a2432a"
      },
      "source": [
        "IdLookupTable"
      ],
      "execution_count": 8,
      "outputs": [
        {
          "output_type": "execute_result",
          "data": {
            "text/html": [
              "<div>\n",
              "<style scoped>\n",
              "    .dataframe tbody tr th:only-of-type {\n",
              "        vertical-align: middle;\n",
              "    }\n",
              "\n",
              "    .dataframe tbody tr th {\n",
              "        vertical-align: top;\n",
              "    }\n",
              "\n",
              "    .dataframe thead th {\n",
              "        text-align: right;\n",
              "    }\n",
              "</style>\n",
              "<table border=\"1\" class=\"dataframe\">\n",
              "  <thead>\n",
              "    <tr style=\"text-align: right;\">\n",
              "      <th></th>\n",
              "      <th>RowId</th>\n",
              "      <th>ImageId</th>\n",
              "      <th>FeatureName</th>\n",
              "      <th>Location</th>\n",
              "    </tr>\n",
              "  </thead>\n",
              "  <tbody>\n",
              "    <tr>\n",
              "      <th>0</th>\n",
              "      <td>1</td>\n",
              "      <td>1</td>\n",
              "      <td>left_eye_center_x</td>\n",
              "      <td>NaN</td>\n",
              "    </tr>\n",
              "    <tr>\n",
              "      <th>1</th>\n",
              "      <td>2</td>\n",
              "      <td>1</td>\n",
              "      <td>left_eye_center_y</td>\n",
              "      <td>NaN</td>\n",
              "    </tr>\n",
              "    <tr>\n",
              "      <th>2</th>\n",
              "      <td>3</td>\n",
              "      <td>1</td>\n",
              "      <td>right_eye_center_x</td>\n",
              "      <td>NaN</td>\n",
              "    </tr>\n",
              "    <tr>\n",
              "      <th>3</th>\n",
              "      <td>4</td>\n",
              "      <td>1</td>\n",
              "      <td>right_eye_center_y</td>\n",
              "      <td>NaN</td>\n",
              "    </tr>\n",
              "    <tr>\n",
              "      <th>4</th>\n",
              "      <td>5</td>\n",
              "      <td>1</td>\n",
              "      <td>left_eye_inner_corner_x</td>\n",
              "      <td>NaN</td>\n",
              "    </tr>\n",
              "    <tr>\n",
              "      <th>...</th>\n",
              "      <td>...</td>\n",
              "      <td>...</td>\n",
              "      <td>...</td>\n",
              "      <td>...</td>\n",
              "    </tr>\n",
              "    <tr>\n",
              "      <th>27119</th>\n",
              "      <td>27120</td>\n",
              "      <td>1783</td>\n",
              "      <td>right_eye_center_y</td>\n",
              "      <td>NaN</td>\n",
              "    </tr>\n",
              "    <tr>\n",
              "      <th>27120</th>\n",
              "      <td>27121</td>\n",
              "      <td>1783</td>\n",
              "      <td>nose_tip_x</td>\n",
              "      <td>NaN</td>\n",
              "    </tr>\n",
              "    <tr>\n",
              "      <th>27121</th>\n",
              "      <td>27122</td>\n",
              "      <td>1783</td>\n",
              "      <td>nose_tip_y</td>\n",
              "      <td>NaN</td>\n",
              "    </tr>\n",
              "    <tr>\n",
              "      <th>27122</th>\n",
              "      <td>27123</td>\n",
              "      <td>1783</td>\n",
              "      <td>mouth_center_bottom_lip_x</td>\n",
              "      <td>NaN</td>\n",
              "    </tr>\n",
              "    <tr>\n",
              "      <th>27123</th>\n",
              "      <td>27124</td>\n",
              "      <td>1783</td>\n",
              "      <td>mouth_center_bottom_lip_y</td>\n",
              "      <td>NaN</td>\n",
              "    </tr>\n",
              "  </tbody>\n",
              "</table>\n",
              "<p>27124 rows × 4 columns</p>\n",
              "</div>"
            ],
            "text/plain": [
              "       RowId  ImageId                FeatureName  Location\n",
              "0          1        1          left_eye_center_x       NaN\n",
              "1          2        1          left_eye_center_y       NaN\n",
              "2          3        1         right_eye_center_x       NaN\n",
              "3          4        1         right_eye_center_y       NaN\n",
              "4          5        1    left_eye_inner_corner_x       NaN\n",
              "...      ...      ...                        ...       ...\n",
              "27119  27120     1783         right_eye_center_y       NaN\n",
              "27120  27121     1783                 nose_tip_x       NaN\n",
              "27121  27122     1783                 nose_tip_y       NaN\n",
              "27122  27123     1783  mouth_center_bottom_lip_x       NaN\n",
              "27123  27124     1783  mouth_center_bottom_lip_y       NaN\n",
              "\n",
              "[27124 rows x 4 columns]"
            ]
          },
          "metadata": {},
          "execution_count": 8
        }
      ]
    },
    {
      "cell_type": "code",
      "metadata": {
        "colab": {
          "base_uri": "https://localhost:8080/",
          "height": 424
        },
        "id": "lkiMBO-24qPK",
        "outputId": "ad18af11-7095-4ce3-9fba-251e897fad2d"
      },
      "source": [
        "SampleSubmission = pd.read_csv('SampleSubmission.csv')\n",
        "SampleSubmission"
      ],
      "execution_count": 9,
      "outputs": [
        {
          "output_type": "execute_result",
          "data": {
            "text/html": [
              "<div>\n",
              "<style scoped>\n",
              "    .dataframe tbody tr th:only-of-type {\n",
              "        vertical-align: middle;\n",
              "    }\n",
              "\n",
              "    .dataframe tbody tr th {\n",
              "        vertical-align: top;\n",
              "    }\n",
              "\n",
              "    .dataframe thead th {\n",
              "        text-align: right;\n",
              "    }\n",
              "</style>\n",
              "<table border=\"1\" class=\"dataframe\">\n",
              "  <thead>\n",
              "    <tr style=\"text-align: right;\">\n",
              "      <th></th>\n",
              "      <th>RowId</th>\n",
              "      <th>Location</th>\n",
              "    </tr>\n",
              "  </thead>\n",
              "  <tbody>\n",
              "    <tr>\n",
              "      <th>0</th>\n",
              "      <td>1</td>\n",
              "      <td>0</td>\n",
              "    </tr>\n",
              "    <tr>\n",
              "      <th>1</th>\n",
              "      <td>2</td>\n",
              "      <td>0</td>\n",
              "    </tr>\n",
              "    <tr>\n",
              "      <th>2</th>\n",
              "      <td>3</td>\n",
              "      <td>0</td>\n",
              "    </tr>\n",
              "    <tr>\n",
              "      <th>3</th>\n",
              "      <td>4</td>\n",
              "      <td>0</td>\n",
              "    </tr>\n",
              "    <tr>\n",
              "      <th>4</th>\n",
              "      <td>5</td>\n",
              "      <td>0</td>\n",
              "    </tr>\n",
              "    <tr>\n",
              "      <th>...</th>\n",
              "      <td>...</td>\n",
              "      <td>...</td>\n",
              "    </tr>\n",
              "    <tr>\n",
              "      <th>27119</th>\n",
              "      <td>27120</td>\n",
              "      <td>0</td>\n",
              "    </tr>\n",
              "    <tr>\n",
              "      <th>27120</th>\n",
              "      <td>27121</td>\n",
              "      <td>0</td>\n",
              "    </tr>\n",
              "    <tr>\n",
              "      <th>27121</th>\n",
              "      <td>27122</td>\n",
              "      <td>0</td>\n",
              "    </tr>\n",
              "    <tr>\n",
              "      <th>27122</th>\n",
              "      <td>27123</td>\n",
              "      <td>0</td>\n",
              "    </tr>\n",
              "    <tr>\n",
              "      <th>27123</th>\n",
              "      <td>27124</td>\n",
              "      <td>0</td>\n",
              "    </tr>\n",
              "  </tbody>\n",
              "</table>\n",
              "<p>27124 rows × 2 columns</p>\n",
              "</div>"
            ],
            "text/plain": [
              "       RowId  Location\n",
              "0          1         0\n",
              "1          2         0\n",
              "2          3         0\n",
              "3          4         0\n",
              "4          5         0\n",
              "...      ...       ...\n",
              "27119  27120         0\n",
              "27120  27121         0\n",
              "27121  27122         0\n",
              "27122  27123         0\n",
              "27123  27124         0\n",
              "\n",
              "[27124 rows x 2 columns]"
            ]
          },
          "metadata": {},
          "execution_count": 9
        }
      ]
    },
    {
      "cell_type": "code",
      "metadata": {
        "colab": {
          "base_uri": "https://localhost:8080/"
        },
        "id": "V1hkuMlH4q8C",
        "outputId": "86fe187d-3758-4936-8cc6-717df24e6e2e"
      },
      "source": [
        "!unzip ../content/training.zip\n",
        "!unzip ../content/test.zip"
      ],
      "execution_count": 10,
      "outputs": [
        {
          "output_type": "stream",
          "name": "stdout",
          "text": [
            "Archive:  ../content/training.zip\n",
            "  inflating: training.csv            \n",
            "Archive:  ../content/test.zip\n",
            "  inflating: test.csv                \n"
          ]
        }
      ]
    },
    {
      "cell_type": "code",
      "metadata": {
        "id": "BEtN8XAc4v3B"
      },
      "source": [
        "training_pd = pd.read_csv('training.csv')\n",
        "test_pd = pd.read_csv('test.csv')"
      ],
      "execution_count": 11,
      "outputs": []
    },
    {
      "cell_type": "code",
      "metadata": {
        "id": "D8-00uCz4xNB"
      },
      "source": [
        "training_pd.head()"
      ],
      "execution_count": null,
      "outputs": []
    },
    {
      "cell_type": "code",
      "metadata": {
        "colab": {
          "base_uri": "https://localhost:8080/"
        },
        "id": "98BKOP8v4yd7",
        "outputId": "e072ca13-c9e9-4bd0-d33e-96770f463fbc"
      },
      "source": [
        "training_pd.isnull().sum()"
      ],
      "execution_count": 13,
      "outputs": [
        {
          "output_type": "execute_result",
          "data": {
            "text/plain": [
              "left_eye_center_x              10\n",
              "left_eye_center_y              10\n",
              "right_eye_center_x             13\n",
              "right_eye_center_y             13\n",
              "left_eye_inner_corner_x      4778\n",
              "left_eye_inner_corner_y      4778\n",
              "left_eye_outer_corner_x      4782\n",
              "left_eye_outer_corner_y      4782\n",
              "right_eye_inner_corner_x     4781\n",
              "right_eye_inner_corner_y     4781\n",
              "right_eye_outer_corner_x     4781\n",
              "right_eye_outer_corner_y     4781\n",
              "left_eyebrow_inner_end_x     4779\n",
              "left_eyebrow_inner_end_y     4779\n",
              "left_eyebrow_outer_end_x     4824\n",
              "left_eyebrow_outer_end_y     4824\n",
              "right_eyebrow_inner_end_x    4779\n",
              "right_eyebrow_inner_end_y    4779\n",
              "right_eyebrow_outer_end_x    4813\n",
              "right_eyebrow_outer_end_y    4813\n",
              "nose_tip_x                      0\n",
              "nose_tip_y                      0\n",
              "mouth_left_corner_x          4780\n",
              "mouth_left_corner_y          4780\n",
              "mouth_right_corner_x         4779\n",
              "mouth_right_corner_y         4779\n",
              "mouth_center_top_lip_x       4774\n",
              "mouth_center_top_lip_y       4774\n",
              "mouth_center_bottom_lip_x      33\n",
              "mouth_center_bottom_lip_y      33\n",
              "Image                           0\n",
              "dtype: int64"
            ]
          },
          "metadata": {},
          "execution_count": 13
        }
      ]
    },
    {
      "cell_type": "code",
      "metadata": {
        "id": "H_d-wX-m41Mg"
      },
      "source": [
        "training_pd = training_pd.fillna(method='ffill')"
      ],
      "execution_count": 14,
      "outputs": []
    },
    {
      "cell_type": "code",
      "metadata": {
        "id": "7Afx_uDM491K"
      },
      "source": [
        "training = training_pd.to_numpy()\n",
        "test = test_pd.to_numpy()"
      ],
      "execution_count": 15,
      "outputs": []
    },
    {
      "cell_type": "code",
      "metadata": {
        "colab": {
          "base_uri": "https://localhost:8080/"
        },
        "id": "pbUMR43A4-b6",
        "outputId": "3059f6d6-fdc5-452e-eaba-ccca1f96d6e2"
      },
      "source": [
        "print(training.shape)\n",
        "print(test.shape)"
      ],
      "execution_count": 16,
      "outputs": [
        {
          "output_type": "stream",
          "name": "stdout",
          "text": [
            "(7049, 31)\n",
            "(1783, 2)\n"
          ]
        }
      ]
    },
    {
      "cell_type": "code",
      "metadata": {
        "colab": {
          "base_uri": "https://localhost:8080/"
        },
        "id": "Wx8EWyCI5AOg",
        "outputId": "ff84c0d4-7b2c-46d9-927a-c7983a9ebba6"
      },
      "source": [
        "train_image = training[:, -1]\n",
        "train_key = training[:, :-1].astype('float64')\n",
        "test_image = test[:, 1]\n",
        "print(train_image.shape)\n",
        "print(train_key.shape)\n",
        "print(test_image.shape)"
      ],
      "execution_count": 17,
      "outputs": [
        {
          "output_type": "stream",
          "name": "stdout",
          "text": [
            "(7049,)\n",
            "(7049, 30)\n",
            "(1783,)\n"
          ]
        }
      ]
    },
    {
      "cell_type": "code",
      "metadata": {
        "id": "kG0YbYE05CKp"
      },
      "source": [
        "train_image = np.array([np.array([int(pixel) for pixel in image.split()]).reshape(96, 96) for image in train_image])\n",
        "test_image = np.array([np.array([int(pixel) for pixel in image.split()]).reshape(96, 96) for image in test_image])"
      ],
      "execution_count": 18,
      "outputs": []
    },
    {
      "cell_type": "code",
      "metadata": {
        "colab": {
          "base_uri": "https://localhost:8080/"
        },
        "id": "yJ9Pj-Er5ElY",
        "outputId": "610b6da1-ecc0-4e78-945f-a995455ef08c"
      },
      "source": [
        "print(train_image.shape)\n",
        "print(test_image.shape)"
      ],
      "execution_count": 19,
      "outputs": [
        {
          "output_type": "stream",
          "name": "stdout",
          "text": [
            "(7049, 96, 96)\n",
            "(1783, 96, 96)\n"
          ]
        }
      ]
    },
    {
      "cell_type": "code",
      "metadata": {
        "id": "AXmUATOe5Gr4"
      },
      "source": [
        "def plot_sample(image, keypoint, axis, title):\n",
        "    image = image.reshape(96,96)\n",
        "    axis.imshow(image, cmap='gray')\n",
        "    axis.scatter(keypoint[0::2], keypoint[1::2], marker='x', s=20)\n",
        "    plt.title(title)\n",
        "\n",
        "# from 'Facial Keypoint Detection - CNN + Augmentation' by Luong Quang Dung"
      ],
      "execution_count": 20,
      "outputs": []
    },
    {
      "cell_type": "code",
      "metadata": {
        "colab": {
          "base_uri": "https://localhost:8080/",
          "height": 281
        },
        "id": "HKPedEMr5IyB",
        "outputId": "cc3b1213-26b6-4db6-f6e9-156ca25ee20f"
      },
      "source": [
        "fig, axis = plt.subplots()\n",
        "plot_sample(train_image[0], train_key[0], axis, 'plot test')"
      ],
      "execution_count": 21,
      "outputs": [
        {
          "output_type": "display_data",
          "data": {
            "image/png": "[encoded data removed]",
            "text/plain": [
              "<Figure size 432x288 with 1 Axes>"
            ]
          },
          "metadata": {
            "needs_background": "light"
          }
        }
      ]
    },
    {
      "cell_type": "code",
      "metadata": {
        "id": "s_sX-3C0C-qm"
      },
      "source": [
        "EPOCHS = 10\n",
        "BATCH_SIZE = 32"
      ],
      "execution_count": 22,
      "outputs": []
    },
    {
      "cell_type": "code",
      "metadata": {
        "colab": {
          "base_uri": "https://localhost:8080/"
        },
        "id": "tj7g_dph7SHO",
        "outputId": "10538700-a760-4996-d879-c35288dc0d18"
      },
      "source": [
        "if torch.cuda.is_available():\n",
        "  DEVICE = torch.device('cuda')\n",
        "else:\n",
        "  DEVICE = torch.device('cpu')\n",
        "\n",
        "print('Using PyTorch version:', torch.__version__, ' Device: ', DEVICE)"
      ],
      "execution_count": 23,
      "outputs": [
        {
          "output_type": "stream",
          "name": "stdout",
          "text": [
            "Using PyTorch version: 1.9.0+cu111  Device:  cuda\n"
          ]
        }
      ]
    },
    {
      "cell_type": "code",
      "metadata": {
        "id": "W9jzOkvY8C5n",
        "colab": {
          "base_uri": "https://localhost:8080/"
        },
        "outputId": "145c546c-f858-4d87-ed13-72c9184eeb6e"
      },
      "source": [
        "class FaceDataset(Dataset):\n",
        "\n",
        "    def __init__(self, x, y):\n",
        "        self.len = x.shape[0]\n",
        "        self.x_data = (torch.from_numpy(x)/255.).type('torch.FloatTensor')\n",
        "        self.y_data = torch.from_numpy(y).type('torch.FloatTensor')\n",
        "\n",
        "    def __getitem__(self, index):\n",
        "        return self.x_data[index], self.y_data[index]\n",
        "\n",
        "    def __len__(self):\n",
        "        return self.len\n",
        "\n",
        "\n",
        "dataset = FaceDataset(train_image, train_key)\n",
        "print(len(dataset))"
      ],
      "execution_count": 24,
      "outputs": [
        {
          "output_type": "stream",
          "name": "stdout",
          "text": [
            "7049\n"
          ]
        }
      ]
    },
    {
      "cell_type": "code",
      "metadata": {
        "colab": {
          "base_uri": "https://localhost:8080/"
        },
        "id": "F1o_O89JIFeo",
        "outputId": "eee80d36-ea26-461b-c22f-c33d06321fc2"
      },
      "source": [
        "lengths = [int(len(dataset)*0.8), len(dataset) - int(len(dataset)*0.8)]\n",
        "print(lengths)\n",
        "train_data, val_data = torch.utils.data.random_split(dataset, lengths)\n",
        "print(len(train_data))"
      ],
      "execution_count": 25,
      "outputs": [
        {
          "output_type": "stream",
          "name": "stdout",
          "text": [
            "[5639, 1410]\n",
            "5639\n"
          ]
        }
      ]
    },
    {
      "cell_type": "code",
      "metadata": {
        "id": "Enpu_FTFIMnF"
      },
      "source": [
        "train_loader = DataLoader(dataset=train_data,\n",
        "                          batch_size=BATCH_SIZE,\n",
        "                          shuffle=True)\n",
        "val_loader = DataLoader(dataset=val_data,\n",
        "                        batch_size=BATCH_SIZE,\n",
        "                        shuffle=True)"
      ],
      "execution_count": 26,
      "outputs": []
    },
    {
      "cell_type": "code",
      "metadata": {
        "colab": {
          "base_uri": "https://localhost:8080/"
        },
        "id": "RPy9xLfO-nPA",
        "outputId": "5cae9bc2-72ae-46c1-863e-f06d5776a374"
      },
      "source": [
        "for (x_train, y_train) in train_loader:\n",
        "  print(\"x_train:\", x_train.size(), 'type:', x_train.type())\n",
        "  print(\"y_train:\", y_train.size(), 'type:', y_train.type())\n",
        "  break"
      ],
      "execution_count": 27,
      "outputs": [
        {
          "output_type": "stream",
          "name": "stdout",
          "text": [
            "x_train: torch.Size([32, 96, 96]) type: torch.FloatTensor\n",
            "y_train: torch.Size([32, 30]) type: torch.FloatTensor\n"
          ]
        }
      ]
    },
    {
      "cell_type": "code",
      "metadata": {
        "id": "vUyyWu3z_r-V"
      },
      "source": [
        "class Net(nn.Module):\n",
        "    def __init__(self):\n",
        "        super(Net, self).__init__()\n",
        "        self.fc1 = nn.Linear(96 * 96, 512)\n",
        "        self.fc2 = nn.Linear(512, 256)\n",
        "        self.fc3 = nn.Linear(256, 30)\n",
        "    \n",
        "    def forward(self, x):\n",
        "        x = x.view(-1, 96 * 96)\n",
        "        x = self.fc1(x)\n",
        "        x = F.relu(x)\n",
        "        x = self.fc2(x)\n",
        "        x = F.relu(x)\n",
        "        x = self.fc3(x)\n",
        "        # x = F.log_softmax(x, dim = 1)\n",
        "        return x\n"
      ],
      "execution_count": 28,
      "outputs": []
    },
    {
      "cell_type": "code",
      "metadata": {
        "id": "qWEqJstOB_z1"
      },
      "source": [
        "class RMSELoss(torch.nn.Module):\n",
        "    def __init__(self):\n",
        "        super(RMSELoss,self).__init__()\n",
        "\n",
        "    def forward(self,x,y):\n",
        "        criterion = nn.MSELoss()\n",
        "        eps = 1e-6\n",
        "        loss = torch.sqrt(criterion(x, y) + eps)\n",
        "        return loss"
      ],
      "execution_count": 29,
      "outputs": []
    },
    {
      "cell_type": "code",
      "metadata": {
        "colab": {
          "base_uri": "https://localhost:8080/"
        },
        "id": "XJw9LEK5BOg_",
        "outputId": "6523c8ae-38e4-48a7-827c-b4437ead0d8c"
      },
      "source": [
        "model = Net().to(DEVICE)\n",
        "optimizer = torch.optim.Adam(model.parameters(), lr = 0.005)\n",
        "criterion = RMSELoss()\n",
        "\n",
        "print(model)"
      ],
      "execution_count": 30,
      "outputs": [
        {
          "output_type": "stream",
          "name": "stdout",
          "text": [
            "Net(\n",
            "  (fc1): Linear(in_features=9216, out_features=512, bias=True)\n",
            "  (fc2): Linear(in_features=512, out_features=256, bias=True)\n",
            "  (fc3): Linear(in_features=256, out_features=30, bias=True)\n",
            ")\n"
          ]
        }
      ]
    },
    {
      "cell_type": "code",
      "metadata": {
        "id": "bIhkscwdBpqK"
      },
      "source": [
        "def train(model, train_loader, optimizer, log_interval):\n",
        "    model.train()\n",
        "    for batch_idx, (image, key) in enumerate(train_loader):\n",
        "        image = image.to(DEVICE)\n",
        "        key = key.to(DEVICE)\n",
        "        optimizer.zero_grad()\n",
        "        output = model(image)\n",
        "        loss = criterion(output, key)\n",
        "        loss.backward()\n",
        "        optimizer.step()\n",
        "\n",
        "        if batch_idx % log_interval == 0:\n",
        "            print(\"Train Epoch: {} [{}/{}({:.0f}%)]\\tTrain Loss: {:.6f}\".format(\n",
        "                Epoch, batch_idx * len(image),\n",
        "                len(train_loader.dataset), 100. * batch_idx / len(train_loader),\n",
        "                loss.item()))\n"
      ],
      "execution_count": 31,
      "outputs": []
    },
    {
      "cell_type": "code",
      "metadata": {
        "id": "Cwh1XIGcJPIY"
      },
      "source": [
        "def evaluate(model, val_loader):\n",
        "    model.eval()\n",
        "    val_loss = 0\n",
        "    with torch.no_grad():\n",
        "        for image, key in val_loader:\n",
        "            image = image.to(DEVICE)\n",
        "            key = key.to(DEVICE)\n",
        "            output = model(image)\n",
        "            val_loss += criterion(output, key).item()\n",
        "\n",
        "    val_loss /= len(val_loader.dataset)\n",
        "    val_loss *= BATCH_SIZE\n",
        "    return val_loss"
      ],
      "execution_count": 32,
      "outputs": []
    },
    {
      "cell_type": "code",
      "metadata": {
        "colab": {
          "base_uri": "https://localhost:8080/"
        },
        "id": "l6DacJqeCy2N",
        "outputId": "21c90f4d-8fd1-4119-bdbc-6f494c10e4c1"
      },
      "source": [
        "for Epoch in range(1, EPOCHS + 1):\n",
        "    train(model, train_loader, optimizer, log_interval = 20)\n",
        "    val_loss = evaluate(model, val_loader)\n",
        "    print('\\n[EPOCH: {}], \\tVal Loss: {:.4f}\\n'.\n",
        "          format(Epoch, val_loss))\n"
      ],
      "execution_count": 33,
      "outputs": [
        {
          "output_type": "stream",
          "name": "stdout",
          "text": [
            "Train Epoch: 1 [0/5639(0%)]\tTrain Loss: 51.629967\n",
            "Train Epoch: 1 [640/5639(11%)]\tTrain Loss: 15.398744\n",
            "Train Epoch: 1 [1280/5639(23%)]\tTrain Loss: 10.376804\n",
            "Train Epoch: 1 [1920/5639(34%)]\tTrain Loss: 15.195989\n",
            "Train Epoch: 1 [2560/5639(45%)]\tTrain Loss: 10.295881\n",
            "Train Epoch: 1 [3200/5639(56%)]\tTrain Loss: 10.395805\n",
            "Train Epoch: 1 [3840/5639(68%)]\tTrain Loss: 11.182585\n",
            "Train Epoch: 1 [4480/5639(79%)]\tTrain Loss: 12.002717\n",
            "Train Epoch: 1 [5120/5639(90%)]\tTrain Loss: 10.937307\n",
            "\n",
            "[EPOCH: 1], \tVal Loss: 11.5936\n",
            "\n",
            "Train Epoch: 2 [0/5639(0%)]\tTrain Loss: 11.421999\n",
            "Train Epoch: 2 [640/5639(11%)]\tTrain Loss: 11.283047\n",
            "Train Epoch: 2 [1280/5639(23%)]\tTrain Loss: 10.706867\n",
            "Train Epoch: 2 [1920/5639(34%)]\tTrain Loss: 11.187675\n",
            "Train Epoch: 2 [2560/5639(45%)]\tTrain Loss: 9.058608\n",
            "Train Epoch: 2 [3200/5639(56%)]\tTrain Loss: 9.742188\n",
            "Train Epoch: 2 [3840/5639(68%)]\tTrain Loss: 11.571812\n",
            "Train Epoch: 2 [4480/5639(79%)]\tTrain Loss: 11.507338\n",
            "Train Epoch: 2 [5120/5639(90%)]\tTrain Loss: 12.846910\n",
            "\n",
            "[EPOCH: 2], \tVal Loss: 10.7865\n",
            "\n",
            "Train Epoch: 3 [0/5639(0%)]\tTrain Loss: 7.445991\n",
            "Train Epoch: 3 [640/5639(11%)]\tTrain Loss: 13.752563\n",
            "Train Epoch: 3 [1280/5639(23%)]\tTrain Loss: 8.330937\n",
            "Train Epoch: 3 [1920/5639(34%)]\tTrain Loss: 10.765406\n",
            "Train Epoch: 3 [2560/5639(45%)]\tTrain Loss: 12.361816\n",
            "Train Epoch: 3 [3200/5639(56%)]\tTrain Loss: 9.450034\n",
            "Train Epoch: 3 [3840/5639(68%)]\tTrain Loss: 11.088908\n",
            "Train Epoch: 3 [4480/5639(79%)]\tTrain Loss: 10.738338\n",
            "Train Epoch: 3 [5120/5639(90%)]\tTrain Loss: 10.813444\n",
            "\n",
            "[EPOCH: 3], \tVal Loss: 10.1807\n",
            "\n",
            "Train Epoch: 4 [0/5639(0%)]\tTrain Loss: 11.865289\n",
            "Train Epoch: 4 [640/5639(11%)]\tTrain Loss: 10.057883\n",
            "Train Epoch: 4 [1280/5639(23%)]\tTrain Loss: 9.010434\n",
            "Train Epoch: 4 [1920/5639(34%)]\tTrain Loss: 6.857856\n",
            "Train Epoch: 4 [2560/5639(45%)]\tTrain Loss: 9.683911\n",
            "Train Epoch: 4 [3200/5639(56%)]\tTrain Loss: 12.067524\n",
            "Train Epoch: 4 [3840/5639(68%)]\tTrain Loss: 10.464931\n",
            "Train Epoch: 4 [4480/5639(79%)]\tTrain Loss: 12.398006\n",
            "Train Epoch: 4 [5120/5639(90%)]\tTrain Loss: 8.445674\n",
            "\n",
            "[EPOCH: 4], \tVal Loss: 9.8767\n",
            "\n",
            "Train Epoch: 5 [0/5639(0%)]\tTrain Loss: 9.343744\n",
            "Train Epoch: 5 [640/5639(11%)]\tTrain Loss: 10.050133\n",
            "Train Epoch: 5 [1280/5639(23%)]\tTrain Loss: 11.036583\n",
            "Train Epoch: 5 [1920/5639(34%)]\tTrain Loss: 7.334150\n",
            "Train Epoch: 5 [2560/5639(45%)]\tTrain Loss: 8.612343\n",
            "Train Epoch: 5 [3200/5639(56%)]\tTrain Loss: 9.716549\n",
            "Train Epoch: 5 [3840/5639(68%)]\tTrain Loss: 7.504975\n",
            "Train Epoch: 5 [4480/5639(79%)]\tTrain Loss: 9.224180\n",
            "Train Epoch: 5 [5120/5639(90%)]\tTrain Loss: 10.122012\n",
            "\n",
            "[EPOCH: 5], \tVal Loss: 8.8158\n",
            "\n",
            "Train Epoch: 6 [0/5639(0%)]\tTrain Loss: 8.961381\n",
            "Train Epoch: 6 [640/5639(11%)]\tTrain Loss: 8.354512\n",
            "Train Epoch: 6 [1280/5639(23%)]\tTrain Loss: 7.603847\n",
            "Train Epoch: 6 [1920/5639(34%)]\tTrain Loss: 9.346154\n",
            "Train Epoch: 6 [2560/5639(45%)]\tTrain Loss: 8.362195\n",
            "Train Epoch: 6 [3200/5639(56%)]\tTrain Loss: 8.556047\n",
            "Train Epoch: 6 [3840/5639(68%)]\tTrain Loss: 7.485826\n",
            "Train Epoch: 6 [4480/5639(79%)]\tTrain Loss: 8.801981\n",
            "Train Epoch: 6 [5120/5639(90%)]\tTrain Loss: 9.818237\n",
            "\n",
            "[EPOCH: 6], \tVal Loss: 8.5955\n",
            "\n",
            "Train Epoch: 7 [0/5639(0%)]\tTrain Loss: 9.286546\n",
            "Train Epoch: 7 [640/5639(11%)]\tTrain Loss: 8.507011\n",
            "Train Epoch: 7 [1280/5639(23%)]\tTrain Loss: 7.466295\n",
            "Train Epoch: 7 [1920/5639(34%)]\tTrain Loss: 5.546803\n",
            "Train Epoch: 7 [2560/5639(45%)]\tTrain Loss: 7.114074\n",
            "Train Epoch: 7 [3200/5639(56%)]\tTrain Loss: 7.086562\n",
            "Train Epoch: 7 [3840/5639(68%)]\tTrain Loss: 6.425947\n",
            "Train Epoch: 7 [4480/5639(79%)]\tTrain Loss: 6.204559\n",
            "Train Epoch: 7 [5120/5639(90%)]\tTrain Loss: 7.049888\n",
            "\n",
            "[EPOCH: 7], \tVal Loss: 7.0882\n",
            "\n",
            "Train Epoch: 8 [0/5639(0%)]\tTrain Loss: 6.506904\n",
            "Train Epoch: 8 [640/5639(11%)]\tTrain Loss: 5.939238\n",
            "Train Epoch: 8 [1280/5639(23%)]\tTrain Loss: 4.805725\n",
            "Train Epoch: 8 [1920/5639(34%)]\tTrain Loss: 5.505035\n",
            "Train Epoch: 8 [2560/5639(45%)]\tTrain Loss: 5.354066\n",
            "Train Epoch: 8 [3200/5639(56%)]\tTrain Loss: 4.179492\n",
            "Train Epoch: 8 [3840/5639(68%)]\tTrain Loss: 4.127431\n",
            "Train Epoch: 8 [4480/5639(79%)]\tTrain Loss: 4.270675\n",
            "Train Epoch: 8 [5120/5639(90%)]\tTrain Loss: 4.003487\n",
            "\n",
            "[EPOCH: 8], \tVal Loss: 3.9131\n",
            "\n",
            "Train Epoch: 9 [0/5639(0%)]\tTrain Loss: 4.115604\n",
            "Train Epoch: 9 [640/5639(11%)]\tTrain Loss: 3.844721\n",
            "Train Epoch: 9 [1280/5639(23%)]\tTrain Loss: 3.210000\n",
            "Train Epoch: 9 [1920/5639(34%)]\tTrain Loss: 3.218765\n",
            "Train Epoch: 9 [2560/5639(45%)]\tTrain Loss: 2.893542\n",
            "Train Epoch: 9 [3200/5639(56%)]\tTrain Loss: 2.897976\n",
            "Train Epoch: 9 [3840/5639(68%)]\tTrain Loss: 2.888703\n",
            "Train Epoch: 9 [4480/5639(79%)]\tTrain Loss: 2.383341\n",
            "Train Epoch: 9 [5120/5639(90%)]\tTrain Loss: 2.429650\n",
            "\n",
            "[EPOCH: 9], \tVal Loss: 3.0866\n",
            "\n",
            "Train Epoch: 10 [0/5639(0%)]\tTrain Loss: 2.410102\n",
            "Train Epoch: 10 [640/5639(11%)]\tTrain Loss: 2.840956\n",
            "Train Epoch: 10 [1280/5639(23%)]\tTrain Loss: 2.873243\n",
            "Train Epoch: 10 [1920/5639(34%)]\tTrain Loss: 3.290034\n",
            "Train Epoch: 10 [2560/5639(45%)]\tTrain Loss: 2.726891\n",
            "Train Epoch: 10 [3200/5639(56%)]\tTrain Loss: 2.181285\n",
            "Train Epoch: 10 [3840/5639(68%)]\tTrain Loss: 2.609500\n",
            "Train Epoch: 10 [4480/5639(79%)]\tTrain Loss: 3.957368\n",
            "Train Epoch: 10 [5120/5639(90%)]\tTrain Loss: 2.117615\n",
            "\n",
            "[EPOCH: 10], \tVal Loss: 3.0541\n",
            "\n"
          ]
        }
      ]
    },
    {
      "cell_type": "code",
      "metadata": {
        "id": "53XRoXVVQl9O"
      },
      "source": [
        "def predict(val_data, idx, plot=False):\n",
        "    image_pred = val_data[idx][0].to(DEVICE)\n",
        "    with torch.no_grad():\n",
        "        prediction = model(image_pred)\n",
        "    \n",
        "    image_pred = image_pred.cpu().numpy()*255.\n",
        "    prediction = prediction.cpu().numpy().reshape(30)\n",
        "    answer = val_data[idx][1]\n",
        "\n",
        "    if plot == True:\n",
        "        fig, axis = plt.subplots()\n",
        "        prediction_plot(image_pred, prediction, answer, axis, 'prediction plot for {}th image in val_data'.\n",
        "                        format(idx))\n"
      ],
      "execution_count": 34,
      "outputs": []
    },
    {
      "cell_type": "code",
      "metadata": {
        "id": "7cerC2JYP-dJ"
      },
      "source": [
        "def prediction_plot(image, keypoint, answer, axis, title):\n",
        "    image = image.reshape(96,96)\n",
        "    axis.imshow(image, cmap='gray')\n",
        "    axis.scatter(keypoint[0::2], keypoint[1::2], marker='x', s=20)\n",
        "    axis.scatter(answer[0::2], answer[1::2], marker='x', color='r', s=20)\n",
        "    plt.title(title)\n"
      ],
      "execution_count": 39,
      "outputs": []
    },
    {
      "cell_type": "code",
      "metadata": {
        "colab": {
          "base_uri": "https://localhost:8080/",
          "height": 281
        },
        "id": "wKhjOf6UOznM",
        "outputId": "a78e57e5-8c04-48c0-adc3-33efdf4c4a97"
      },
      "source": [
        "predict(val_data, 1, True)"
      ],
      "execution_count": 41,
      "outputs": [
        {
          "output_type": "display_data",
          "data": {
            "image/png": "[encoded data removed]",
            "text/plain": [
              "<Figure size 432x288 with 1 Axes>"
            ]
          },
          "metadata": {
            "needs_background": "light"
          }
        }
      ]
    },
    {
      "cell_type": "code",
      "metadata": {
        "id": "kJwVdnjpM5df"
      },
      "source": [
        "class CNN(nn.Module):\n",
        "    def __init__(self):\n",
        "        super(CNN, self).__init__()\n",
        "        self.conv1 = nn.Conv2d(\n",
        "            in_channels = 1,\n",
        "            out_channels = 3,\n",
        "            kernel_size = 3,\n",
        "            padding = 1)\n",
        "        self.conv2 = nn.Conv2d(\n",
        "            in_channels = 3,\n",
        "            out_channels = 8,\n",
        "            kernel_size = 3,\n",
        "            padding = 1)\n",
        "        self.pool = nn.MaxPool2d(\n",
        "            kernel_size = 2,\n",
        "            stride = 2)\n",
        "        self.fc1 = nn.Linear(24 * 24 * 8, 64)\n",
        "        self.fc2 = nn.Linear(64, 32)\n",
        "        self.fc3 = nn.Linear(32, 30)\n",
        "    \n",
        "    def forward(self, x):\n",
        "        x = x.view(-1, 1, 96, 96)\n",
        "        x = self.conv1(x)\n",
        "        x = F.relu(x)\n",
        "        x = self.pool(x)\n",
        "        x = self.conv2(x)\n",
        "        x = F.relu(x)\n",
        "        x = self.pool(x)\n",
        "\n",
        "        x = x.view(-1, 24 * 24 * 8)\n",
        "        x = self.fc1(x)\n",
        "        x = F.relu(x)\n",
        "        x = self.fc2(x)\n",
        "        x = F.relu(x)\n",
        "        x = self.fc3(x)\n",
        "        return x"
      ],
      "execution_count": 60,
      "outputs": []
    },
    {
      "cell_type": "code",
      "metadata": {
        "colab": {
          "base_uri": "https://localhost:8080/"
        },
        "id": "IZwCFsCNVFZ4",
        "outputId": "3931f524-e911-4a58-838b-560908cc3883"
      },
      "source": [
        "model = CNN().to(DEVICE)\n",
        "optimizer = torch.optim.Adam(model.parameters(), lr = 0.005)\n",
        "criterion = RMSELoss()\n",
        "\n",
        "print(model)"
      ],
      "execution_count": 63,
      "outputs": [
        {
          "output_type": "stream",
          "name": "stdout",
          "text": [
            "CNN(\n",
            "  (conv1): Conv2d(1, 3, kernel_size=(3, 3), stride=(1, 1), padding=(1, 1))\n",
            "  (conv2): Conv2d(3, 8, kernel_size=(3, 3), stride=(1, 1), padding=(1, 1))\n",
            "  (pool): MaxPool2d(kernel_size=2, stride=2, padding=0, dilation=1, ceil_mode=False)\n",
            "  (fc1): Linear(in_features=4608, out_features=64, bias=True)\n",
            "  (fc2): Linear(in_features=64, out_features=32, bias=True)\n",
            "  (fc3): Linear(in_features=32, out_features=30, bias=True)\n",
            ")\n"
          ]
        }
      ]
    },
    {
      "cell_type": "code",
      "metadata": {
        "colab": {
          "base_uri": "https://localhost:8080/"
        },
        "id": "qLBOarBWVrK_",
        "outputId": "653e44bc-1548-4793-875f-dd052ab26f7e"
      },
      "source": [
        "for Epoch in range(1, EPOCHS + 1):\n",
        "    train(model, train_loader, optimizer, log_interval = 20)\n",
        "    val_loss = evaluate(model, val_loader)\n",
        "    print('\\n[EPOCH: {}], \\tVal Loss: {:.4f}\\n'.\n",
        "          format(Epoch, val_loss))\n"
      ],
      "execution_count": 64,
      "outputs": [
        {
          "output_type": "stream",
          "name": "stdout",
          "text": [
            "Train Epoch: 1 [0/5639(0%)]\tTrain Loss: 51.833168\n",
            "Train Epoch: 1 [640/5639(11%)]\tTrain Loss: 9.077383\n",
            "Train Epoch: 1 [1280/5639(23%)]\tTrain Loss: 4.021599\n",
            "Train Epoch: 1 [1920/5639(34%)]\tTrain Loss: 3.275402\n",
            "Train Epoch: 1 [2560/5639(45%)]\tTrain Loss: 4.383490\n",
            "Train Epoch: 1 [3200/5639(56%)]\tTrain Loss: 4.178494\n",
            "Train Epoch: 1 [3840/5639(68%)]\tTrain Loss: 3.420174\n",
            "Train Epoch: 1 [4480/5639(79%)]\tTrain Loss: 2.925545\n",
            "Train Epoch: 1 [5120/5639(90%)]\tTrain Loss: 2.687277\n",
            "\n",
            "[EPOCH: 1], \tVal Loss: 3.6150\n",
            "\n",
            "Train Epoch: 2 [0/5639(0%)]\tTrain Loss: 3.521922\n",
            "Train Epoch: 2 [640/5639(11%)]\tTrain Loss: 3.612328\n",
            "Train Epoch: 2 [1280/5639(23%)]\tTrain Loss: 2.682177\n",
            "Train Epoch: 2 [1920/5639(34%)]\tTrain Loss: 2.988169\n",
            "Train Epoch: 2 [2560/5639(45%)]\tTrain Loss: 3.786100\n",
            "Train Epoch: 2 [3200/5639(56%)]\tTrain Loss: 2.661709\n",
            "Train Epoch: 2 [3840/5639(68%)]\tTrain Loss: 2.684688\n",
            "Train Epoch: 2 [4480/5639(79%)]\tTrain Loss: 2.810106\n",
            "Train Epoch: 2 [5120/5639(90%)]\tTrain Loss: 3.065482\n",
            "\n",
            "[EPOCH: 2], \tVal Loss: 3.3156\n",
            "\n",
            "Train Epoch: 3 [0/5639(0%)]\tTrain Loss: 3.294546\n",
            "Train Epoch: 3 [640/5639(11%)]\tTrain Loss: 4.241110\n",
            "Train Epoch: 3 [1280/5639(23%)]\tTrain Loss: 3.082765\n",
            "Train Epoch: 3 [1920/5639(34%)]\tTrain Loss: 3.125403\n",
            "Train Epoch: 3 [2560/5639(45%)]\tTrain Loss: 3.101991\n",
            "Train Epoch: 3 [3200/5639(56%)]\tTrain Loss: 2.936876\n",
            "Train Epoch: 3 [3840/5639(68%)]\tTrain Loss: 2.746465\n",
            "Train Epoch: 3 [4480/5639(79%)]\tTrain Loss: 2.907689\n",
            "Train Epoch: 3 [5120/5639(90%)]\tTrain Loss: 2.598132\n",
            "\n",
            "[EPOCH: 3], \tVal Loss: 3.2813\n",
            "\n",
            "Train Epoch: 4 [0/5639(0%)]\tTrain Loss: 2.719444\n",
            "Train Epoch: 4 [640/5639(11%)]\tTrain Loss: 3.267367\n",
            "Train Epoch: 4 [1280/5639(23%)]\tTrain Loss: 2.747853\n",
            "Train Epoch: 4 [1920/5639(34%)]\tTrain Loss: 3.128881\n",
            "Train Epoch: 4 [2560/5639(45%)]\tTrain Loss: 4.272803\n",
            "Train Epoch: 4 [3200/5639(56%)]\tTrain Loss: 2.482050\n",
            "Train Epoch: 4 [3840/5639(68%)]\tTrain Loss: 2.404079\n",
            "Train Epoch: 4 [4480/5639(79%)]\tTrain Loss: 3.028847\n",
            "Train Epoch: 4 [5120/5639(90%)]\tTrain Loss: 3.073351\n",
            "\n",
            "[EPOCH: 4], \tVal Loss: 4.1565\n",
            "\n",
            "Train Epoch: 5 [0/5639(0%)]\tTrain Loss: 3.826093\n",
            "Train Epoch: 5 [640/5639(11%)]\tTrain Loss: 3.170019\n",
            "Train Epoch: 5 [1280/5639(23%)]\tTrain Loss: 3.463274\n",
            "Train Epoch: 5 [1920/5639(34%)]\tTrain Loss: 3.777973\n",
            "Train Epoch: 5 [2560/5639(45%)]\tTrain Loss: 2.749510\n",
            "Train Epoch: 5 [3200/5639(56%)]\tTrain Loss: 3.312497\n",
            "Train Epoch: 5 [3840/5639(68%)]\tTrain Loss: 2.074455\n",
            "Train Epoch: 5 [4480/5639(79%)]\tTrain Loss: 2.719384\n",
            "Train Epoch: 5 [5120/5639(90%)]\tTrain Loss: 3.134837\n",
            "\n",
            "[EPOCH: 5], \tVal Loss: 3.0567\n",
            "\n",
            "Train Epoch: 6 [0/5639(0%)]\tTrain Loss: 2.539667\n",
            "Train Epoch: 6 [640/5639(11%)]\tTrain Loss: 3.105811\n",
            "Train Epoch: 6 [1280/5639(23%)]\tTrain Loss: 2.584337\n",
            "Train Epoch: 6 [1920/5639(34%)]\tTrain Loss: 3.100667\n",
            "Train Epoch: 6 [2560/5639(45%)]\tTrain Loss: 2.627813\n",
            "Train Epoch: 6 [3200/5639(56%)]\tTrain Loss: 2.852085\n",
            "Train Epoch: 6 [3840/5639(68%)]\tTrain Loss: 2.846497\n",
            "Train Epoch: 6 [4480/5639(79%)]\tTrain Loss: 2.817340\n",
            "Train Epoch: 6 [5120/5639(90%)]\tTrain Loss: 2.873154\n",
            "\n",
            "[EPOCH: 6], \tVal Loss: 3.0467\n",
            "\n",
            "Train Epoch: 7 [0/5639(0%)]\tTrain Loss: 2.566398\n",
            "Train Epoch: 7 [640/5639(11%)]\tTrain Loss: 2.634538\n",
            "Train Epoch: 7 [1280/5639(23%)]\tTrain Loss: 2.416554\n",
            "Train Epoch: 7 [1920/5639(34%)]\tTrain Loss: 2.767182\n",
            "Train Epoch: 7 [2560/5639(45%)]\tTrain Loss: 2.837158\n",
            "Train Epoch: 7 [3200/5639(56%)]\tTrain Loss: 2.787013\n",
            "Train Epoch: 7 [3840/5639(68%)]\tTrain Loss: 2.688664\n",
            "Train Epoch: 7 [4480/5639(79%)]\tTrain Loss: 2.898892\n",
            "Train Epoch: 7 [5120/5639(90%)]\tTrain Loss: 2.257072\n",
            "\n",
            "[EPOCH: 7], \tVal Loss: 2.8823\n",
            "\n",
            "Train Epoch: 8 [0/5639(0%)]\tTrain Loss: 2.226221\n",
            "Train Epoch: 8 [640/5639(11%)]\tTrain Loss: 2.480728\n",
            "Train Epoch: 8 [1280/5639(23%)]\tTrain Loss: 2.446414\n",
            "Train Epoch: 8 [1920/5639(34%)]\tTrain Loss: 3.015466\n",
            "Train Epoch: 8 [2560/5639(45%)]\tTrain Loss: 2.452906\n",
            "Train Epoch: 8 [3200/5639(56%)]\tTrain Loss: 2.961475\n",
            "Train Epoch: 8 [3840/5639(68%)]\tTrain Loss: 1.951377\n",
            "Train Epoch: 8 [4480/5639(79%)]\tTrain Loss: 2.751686\n",
            "Train Epoch: 8 [5120/5639(90%)]\tTrain Loss: 2.679935\n",
            "\n",
            "[EPOCH: 8], \tVal Loss: 3.1772\n",
            "\n",
            "Train Epoch: 9 [0/5639(0%)]\tTrain Loss: 3.283544\n",
            "Train Epoch: 9 [640/5639(11%)]\tTrain Loss: 2.980064\n",
            "Train Epoch: 9 [1280/5639(23%)]\tTrain Loss: 2.527726\n",
            "Train Epoch: 9 [1920/5639(34%)]\tTrain Loss: 2.360737\n",
            "Train Epoch: 9 [2560/5639(45%)]\tTrain Loss: 3.521327\n",
            "Train Epoch: 9 [3200/5639(56%)]\tTrain Loss: 2.204033\n",
            "Train Epoch: 9 [3840/5639(68%)]\tTrain Loss: 2.435876\n",
            "Train Epoch: 9 [4480/5639(79%)]\tTrain Loss: 2.535237\n",
            "Train Epoch: 9 [5120/5639(90%)]\tTrain Loss: 2.567599\n",
            "\n",
            "[EPOCH: 9], \tVal Loss: 3.1120\n",
            "\n",
            "Train Epoch: 10 [0/5639(0%)]\tTrain Loss: 3.439272\n",
            "Train Epoch: 10 [640/5639(11%)]\tTrain Loss: 2.176687\n",
            "Train Epoch: 10 [1280/5639(23%)]\tTrain Loss: 2.926703\n",
            "Train Epoch: 10 [1920/5639(34%)]\tTrain Loss: 2.176075\n",
            "Train Epoch: 10 [2560/5639(45%)]\tTrain Loss: 2.111099\n",
            "Train Epoch: 10 [3200/5639(56%)]\tTrain Loss: 3.115394\n",
            "Train Epoch: 10 [3840/5639(68%)]\tTrain Loss: 5.961214\n",
            "Train Epoch: 10 [4480/5639(79%)]\tTrain Loss: 2.034892\n",
            "Train Epoch: 10 [5120/5639(90%)]\tTrain Loss: 2.498249\n",
            "\n",
            "[EPOCH: 10], \tVal Loss: 2.9106\n",
            "\n"
          ]
        }
      ]
    },
    {
      "cell_type": "code",
      "metadata": {
        "colab": {
          "base_uri": "https://localhost:8080/",
          "height": 281
        },
        "id": "RAMKlv_GVwpi",
        "outputId": "bdc0d9a6-bcbb-43c8-a9a8-e5c615da3af7"
      },
      "source": [
        "predict(val_data, 2, True)"
      ],
      "execution_count": 66,
      "outputs": [
        {
          "output_type": "display_data",
          "data": {
            "image/png": "[encoded data removed]",
            "text/plain": [
              "<Figure size 432x288 with 1 Axes>"
            ]
          },
          "metadata": {
            "needs_background": "light"
          }
        }
      ]
    },
    {
      "cell_type": "code",
      "metadata": {
        "id": "REhAmCbBXos3"
      },
      "source": [
        ""
      ],
      "execution_count": null,
      "outputs": []
    }
  ]
}