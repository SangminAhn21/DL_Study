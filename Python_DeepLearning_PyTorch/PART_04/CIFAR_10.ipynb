{
  "nbformat": 4,
  "nbformat_minor": 0,
  "metadata": {
    "colab": {
      "name": "CIFAR-10",
      "provenance": [],
      "authorship_tag": "ABX9TyNMdMYL4dHLdoOE9IiEulB8",
      "include_colab_link": true
    },
    "kernelspec": {
      "name": "python3",
      "display_name": "Python 3"
    },
    "language_info": {
      "name": "python"
    },
    "accelerator": "GPU",
    "widgets": {
      "application/vnd.jupyter.widget-state+json": {
        "9e94c57db66941ef8e3fc1194bb07282": {
          "model_module": "@jupyter-widgets/controls",
          "model_name": "HBoxModel",
          "model_module_version": "1.5.0",
          "state": {
            "_view_name": "HBoxView",
            "_dom_classes": [],
            "_model_name": "HBoxModel",
            "_view_module": "@jupyter-widgets/controls",
            "_model_module_version": "1.5.0",
            "_view_count": null,
            "_view_module_version": "1.5.0",
            "box_style": "",
            "layout": "IPY_MODEL_c32b899f3bfc4c40bd7e22ea619beab5",
            "_model_module": "@jupyter-widgets/controls",
            "children": [
              "IPY_MODEL_8bc9f04608f640ce854d312f51af9704",
              "IPY_MODEL_dd83f6ea10e34132bd4432905ac4a76f",
              "IPY_MODEL_3bd4b119e96b4ad1a65aa3d743e517c5"
            ]
          }
        },
        "c32b899f3bfc4c40bd7e22ea619beab5": {
          "model_module": "@jupyter-widgets/base",
          "model_name": "LayoutModel",
          "model_module_version": "1.2.0",
          "state": {
            "_view_name": "LayoutView",
            "grid_template_rows": null,
            "right": null,
            "justify_content": null,
            "_view_module": "@jupyter-widgets/base",
            "overflow": null,
            "_model_module_version": "1.2.0",
            "_view_count": null,
            "flex_flow": null,
            "width": null,
            "min_width": null,
            "border": null,
            "align_items": null,
            "bottom": null,
            "_model_module": "@jupyter-widgets/base",
            "top": null,
            "grid_column": null,
            "overflow_y": null,
            "overflow_x": null,
            "grid_auto_flow": null,
            "grid_area": null,
            "grid_template_columns": null,
            "flex": null,
            "_model_name": "LayoutModel",
            "justify_items": null,
            "grid_row": null,
            "max_height": null,
            "align_content": null,
            "visibility": null,
            "align_self": null,
            "height": null,
            "min_height": null,
            "padding": null,
            "grid_auto_rows": null,
            "grid_gap": null,
            "max_width": null,
            "order": null,
            "_view_module_version": "1.2.0",
            "grid_template_areas": null,
            "object_position": null,
            "object_fit": null,
            "grid_auto_columns": null,
            "margin": null,
            "display": null,
            "left": null
          }
        },
        "8bc9f04608f640ce854d312f51af9704": {
          "model_module": "@jupyter-widgets/controls",
          "model_name": "HTMLModel",
          "model_module_version": "1.5.0",
          "state": {
            "_view_name": "HTMLView",
            "style": "IPY_MODEL_52864fb5de144ed19dfe7c5dce46b6f0",
            "_dom_classes": [],
            "description": "",
            "_model_name": "HTMLModel",
            "placeholder": "​",
            "_view_module": "@jupyter-widgets/controls",
            "_model_module_version": "1.5.0",
            "value": "",
            "_view_count": null,
            "_view_module_version": "1.5.0",
            "description_tooltip": null,
            "_model_module": "@jupyter-widgets/controls",
            "layout": "IPY_MODEL_2789666a44924908a0d8a5496b2f1dba"
          }
        },
        "dd83f6ea10e34132bd4432905ac4a76f": {
          "model_module": "@jupyter-widgets/controls",
          "model_name": "FloatProgressModel",
          "model_module_version": "1.5.0",
          "state": {
            "_view_name": "ProgressView",
            "style": "IPY_MODEL_cba86767260e41c68873f5b5b93c53eb",
            "_dom_classes": [],
            "description": "",
            "_model_name": "FloatProgressModel",
            "bar_style": "success",
            "max": 170498071,
            "_view_module": "@jupyter-widgets/controls",
            "_model_module_version": "1.5.0",
            "value": 170498071,
            "_view_count": null,
            "_view_module_version": "1.5.0",
            "orientation": "horizontal",
            "min": 0,
            "description_tooltip": null,
            "_model_module": "@jupyter-widgets/controls",
            "layout": "IPY_MODEL_11f35f057f1e4ed0870981a02a49173a"
          }
        },
        "3bd4b119e96b4ad1a65aa3d743e517c5": {
          "model_module": "@jupyter-widgets/controls",
          "model_name": "HTMLModel",
          "model_module_version": "1.5.0",
          "state": {
            "_view_name": "HTMLView",
            "style": "IPY_MODEL_74ee16a0ce4642e2889b4a9435ba7c01",
            "_dom_classes": [],
            "description": "",
            "_model_name": "HTMLModel",
            "placeholder": "​",
            "_view_module": "@jupyter-widgets/controls",
            "_model_module_version": "1.5.0",
            "value": " 170499072/? [00:03&lt;00:00, 56288082.57it/s]",
            "_view_count": null,
            "_view_module_version": "1.5.0",
            "description_tooltip": null,
            "_model_module": "@jupyter-widgets/controls",
            "layout": "IPY_MODEL_be68f5f12701434bac6dc0f94c524dc7"
          }
        },
        "52864fb5de144ed19dfe7c5dce46b6f0": {
          "model_module": "@jupyter-widgets/controls",
          "model_name": "DescriptionStyleModel",
          "model_module_version": "1.5.0",
          "state": {
            "_view_name": "StyleView",
            "_model_name": "DescriptionStyleModel",
            "description_width": "",
            "_view_module": "@jupyter-widgets/base",
            "_model_module_version": "1.5.0",
            "_view_count": null,
            "_view_module_version": "1.2.0",
            "_model_module": "@jupyter-widgets/controls"
          }
        },
        "2789666a44924908a0d8a5496b2f1dba": {
          "model_module": "@jupyter-widgets/base",
          "model_name": "LayoutModel",
          "model_module_version": "1.2.0",
          "state": {
            "_view_name": "LayoutView",
            "grid_template_rows": null,
            "right": null,
            "justify_content": null,
            "_view_module": "@jupyter-widgets/base",
            "overflow": null,
            "_model_module_version": "1.2.0",
            "_view_count": null,
            "flex_flow": null,
            "width": null,
            "min_width": null,
            "border": null,
            "align_items": null,
            "bottom": null,
            "_model_module": "@jupyter-widgets/base",
            "top": null,
            "grid_column": null,
            "overflow_y": null,
            "overflow_x": null,
            "grid_auto_flow": null,
            "grid_area": null,
            "grid_template_columns": null,
            "flex": null,
            "_model_name": "LayoutModel",
            "justify_items": null,
            "grid_row": null,
            "max_height": null,
            "align_content": null,
            "visibility": null,
            "align_self": null,
            "height": null,
            "min_height": null,
            "padding": null,
            "grid_auto_rows": null,
            "grid_gap": null,
            "max_width": null,
            "order": null,
            "_view_module_version": "1.2.0",
            "grid_template_areas": null,
            "object_position": null,
            "object_fit": null,
            "grid_auto_columns": null,
            "margin": null,
            "display": null,
            "left": null
          }
        },
        "cba86767260e41c68873f5b5b93c53eb": {
          "model_module": "@jupyter-widgets/controls",
          "model_name": "ProgressStyleModel",
          "model_module_version": "1.5.0",
          "state": {
            "_view_name": "StyleView",
            "_model_name": "ProgressStyleModel",
            "description_width": "",
            "_view_module": "@jupyter-widgets/base",
            "_model_module_version": "1.5.0",
            "_view_count": null,
            "_view_module_version": "1.2.0",
            "bar_color": null,
            "_model_module": "@jupyter-widgets/controls"
          }
        },
        "11f35f057f1e4ed0870981a02a49173a": {
          "model_module": "@jupyter-widgets/base",
          "model_name": "LayoutModel",
          "model_module_version": "1.2.0",
          "state": {
            "_view_name": "LayoutView",
            "grid_template_rows": null,
            "right": null,
            "justify_content": null,
            "_view_module": "@jupyter-widgets/base",
            "overflow": null,
            "_model_module_version": "1.2.0",
            "_view_count": null,
            "flex_flow": null,
            "width": null,
            "min_width": null,
            "border": null,
            "align_items": null,
            "bottom": null,
            "_model_module": "@jupyter-widgets/base",
            "top": null,
            "grid_column": null,
            "overflow_y": null,
            "overflow_x": null,
            "grid_auto_flow": null,
            "grid_area": null,
            "grid_template_columns": null,
            "flex": null,
            "_model_name": "LayoutModel",
            "justify_items": null,
            "grid_row": null,
            "max_height": null,
            "align_content": null,
            "visibility": null,
            "align_self": null,
            "height": null,
            "min_height": null,
            "padding": null,
            "grid_auto_rows": null,
            "grid_gap": null,
            "max_width": null,
            "order": null,
            "_view_module_version": "1.2.0",
            "grid_template_areas": null,
            "object_position": null,
            "object_fit": null,
            "grid_auto_columns": null,
            "margin": null,
            "display": null,
            "left": null
          }
        },
        "74ee16a0ce4642e2889b4a9435ba7c01": {
          "model_module": "@jupyter-widgets/controls",
          "model_name": "DescriptionStyleModel",
          "model_module_version": "1.5.0",
          "state": {
            "_view_name": "StyleView",
            "_model_name": "DescriptionStyleModel",
            "description_width": "",
            "_view_module": "@jupyter-widgets/base",
            "_model_module_version": "1.5.0",
            "_view_count": null,
            "_view_module_version": "1.2.0",
            "_model_module": "@jupyter-widgets/controls"
          }
        },
        "be68f5f12701434bac6dc0f94c524dc7": {
          "model_module": "@jupyter-widgets/base",
          "model_name": "LayoutModel",
          "model_module_version": "1.2.0",
          "state": {
            "_view_name": "LayoutView",
            "grid_template_rows": null,
            "right": null,
            "justify_content": null,
            "_view_module": "@jupyter-widgets/base",
            "overflow": null,
            "_model_module_version": "1.2.0",
            "_view_count": null,
            "flex_flow": null,
            "width": null,
            "min_width": null,
            "border": null,
            "align_items": null,
            "bottom": null,
            "_model_module": "@jupyter-widgets/base",
            "top": null,
            "grid_column": null,
            "overflow_y": null,
            "overflow_x": null,
            "grid_auto_flow": null,
            "grid_area": null,
            "grid_template_columns": null,
            "flex": null,
            "_model_name": "LayoutModel",
            "justify_items": null,
            "grid_row": null,
            "max_height": null,
            "align_content": null,
            "visibility": null,
            "align_self": null,
            "height": null,
            "min_height": null,
            "padding": null,
            "grid_auto_rows": null,
            "grid_gap": null,
            "max_width": null,
            "order": null,
            "_view_module_version": "1.2.0",
            "grid_template_areas": null,
            "object_position": null,
            "object_fit": null,
            "grid_auto_columns": null,
            "margin": null,
            "display": null,
            "left": null
          }
        }
      }
    }
  },
  "cells": [
    {
      "cell_type": "markdown",
      "metadata": {
        "id": "view-in-github",
        "colab_type": "text"
      },
      "source": [
        "<a href=\"https://colab.research.google.com/github/SangminAhn21/DL_Study/blob/main/Python_DeepLearning_PyTorch/PART_04/CIFAR_10.ipynb\" target=\"_parent\"><img src=\"https://colab.research.google.com/assets/colab-badge.svg\" alt=\"Open In Colab\"/></a>"
      ]
    },
    {
      "cell_type": "code",
      "metadata": {
        "id": "5kVMCfp5HpHg"
      },
      "source": [
        "import numpy as np\n",
        "import matplotlib.pyplot as plt\n",
        "\n",
        "import torch\n",
        "import torch.nn as nn\n",
        "import torch.nn.functional as F\n",
        "from torchvision import transforms, datasets"
      ],
      "execution_count": 1,
      "outputs": []
    },
    {
      "cell_type": "code",
      "metadata": {
        "colab": {
          "base_uri": "https://localhost:8080/"
        },
        "id": "MI88vakuIBdy",
        "outputId": "6ef1ca55-eef0-4f28-f884-278b9ea98bf8"
      },
      "source": [
        "if torch.cuda.is_available():\n",
        "    DEVICE = torch.device('cuda')\n",
        "else:\n",
        "    DEVICE = torch.device('cpu')\n",
        "print('Using PyTorch version:', torch.__version__, ' Device:', DEVICE)"
      ],
      "execution_count": 2,
      "outputs": [
        {
          "output_type": "stream",
          "name": "stdout",
          "text": [
            "Using PyTorch version: 1.9.0+cu111  Device: cuda\n"
          ]
        }
      ]
    },
    {
      "cell_type": "code",
      "metadata": {
        "id": "ve-SJ1zdMXhc"
      },
      "source": [
        ""
      ],
      "execution_count": null,
      "outputs": []
    },
    {
      "cell_type": "markdown",
      "metadata": {
        "id": "21Lvh2rHMNWH"
      },
      "source": [
        "## **MLP(Multi Layer Perceptron) 을 사용한 CIFAR-10 데이터 분류**"
      ]
    },
    {
      "cell_type": "code",
      "metadata": {
        "id": "4TcaW_w_ILDi"
      },
      "source": [
        "BATCH_SIZE = 32\n",
        "EPOCHS = 10"
      ],
      "execution_count": 3,
      "outputs": []
    },
    {
      "cell_type": "code",
      "metadata": {
        "colab": {
          "base_uri": "https://localhost:8080/"
        },
        "id": "K16W5ChoIO6D",
        "outputId": "0e690448-6cbe-411f-ba09-4c83e610e508"
      },
      "source": [
        "train_dataset = datasets.CIFAR10(root = '../data/CIFAR_10',\n",
        "                                      train = True,\n",
        "                                      download = True,\n",
        "                                      transform = transforms.ToTensor())\n",
        "test_dataset = datasets.CIFAR10(root = '../data/CIFAR_10',\n",
        "                                      train = False,\n",
        "                                      transform = transforms.ToTensor())\n",
        "train_loader = torch.utils.data.DataLoader(dataset = train_dataset,\n",
        "                                           batch_size = BATCH_SIZE,\n",
        "                                           shuffle = True)\n",
        "test_loader = torch.utils.data.DataLoader(dataset = test_dataset,\n",
        "                                           batch_size = BATCH_SIZE,\n",
        "                                           shuffle = False)"
      ],
      "execution_count": null,
      "outputs": [
        {
          "output_type": "stream",
          "name": "stdout",
          "text": [
            "Files already downloaded and verified\n"
          ]
        }
      ]
    },
    {
      "cell_type": "code",
      "metadata": {
        "colab": {
          "base_uri": "https://localhost:8080/"
        },
        "id": "E92jTrZLIWDo",
        "outputId": "5b25b9b4-b0f4-45cc-eb47-e062639e7e99"
      },
      "source": [
        "for (X_train, y_train) in train_loader:\n",
        "    print('X_train:', X_train.size(), 'type:', X_train.type())\n",
        "    print('y_train:', y_train.size(), 'type:', y_train.type())\n",
        "    break"
      ],
      "execution_count": null,
      "outputs": [
        {
          "output_type": "stream",
          "name": "stdout",
          "text": [
            "X_train: torch.Size([32, 3, 32, 32]) type: torch.FloatTensor\n",
            "y_train: torch.Size([32]) type: torch.LongTensor\n"
          ]
        }
      ]
    },
    {
      "cell_type": "code",
      "metadata": {
        "colab": {
          "base_uri": "https://localhost:8080/",
          "height": 94
        },
        "id": "zTg1qSAKIaFi",
        "outputId": "38729b1c-cb60-4f6f-d96c-ce5279392576"
      },
      "source": [
        "pltsize = 1\n",
        "plt.figure(figsize=(10 * pltsize, pltsize))\n",
        "\n",
        "for i in range(10):\n",
        "    plt.subplot(1, 10, i + 1)\n",
        "    plt.axis('off')\n",
        "    plt.imshow(np.transpose(X_train[i],(1, 2, 0)))\n",
        "    plt.title('Class: ' + str(y_train[i].item()))"
      ],
      "execution_count": null,
      "outputs": [
        {
          "output_type": "display_data",
          "data": {
            "image/png": "[encoded data removed]",
            "text/plain": [
              "<Figure size 720x72 with 10 Axes>"
            ]
          },
          "metadata": {
            "needs_background": "light"
          }
        }
      ]
    },
    {
      "cell_type": "code",
      "metadata": {
        "id": "Fasvho1rI6Tv"
      },
      "source": [
        "class Net(nn.Module):\n",
        "    def __init__(self):\n",
        "        super(Net, self).__init__()\n",
        "        self.fc1 = nn.Linear(32 * 32 * 3, 512)\n",
        "        self.fc2 = nn.Linear(512, 256)\n",
        "        self.fc3 = nn.Linear(256, 10)\n",
        "    \n",
        "    def forward(self, x):\n",
        "        x = x.view(-1, 32 * 32 * 3)\n",
        "        x = self.fc1(x)\n",
        "        x = F.relu(x)\n",
        "        x = self.fc2(x)\n",
        "        x = F.relu(x)\n",
        "        x = self.fc3(x)\n",
        "        x = F.log_softmax(x, dim = 1)\n",
        "        return x"
      ],
      "execution_count": null,
      "outputs": []
    },
    {
      "cell_type": "code",
      "metadata": {
        "colab": {
          "base_uri": "https://localhost:8080/"
        },
        "id": "F4-MGtbBJ4_U",
        "outputId": "e9a5f86d-940f-49a1-ec9f-f54f2d659dd1"
      },
      "source": [
        "model = Net().to(DEVICE)\n",
        "optimizer = torch.optim.Adam(model.parameters(), lr = 0.001)\n",
        "criterion = nn.CrossEntropyLoss()\n",
        "\n",
        "print(model)"
      ],
      "execution_count": null,
      "outputs": [
        {
          "output_type": "stream",
          "name": "stdout",
          "text": [
            "Net(\n",
            "  (fc1): Linear(in_features=3072, out_features=512, bias=True)\n",
            "  (fc2): Linear(in_features=512, out_features=256, bias=True)\n",
            "  (fc3): Linear(in_features=256, out_features=10, bias=True)\n",
            ")\n"
          ]
        }
      ]
    },
    {
      "cell_type": "code",
      "metadata": {
        "id": "ifjRCpjEKUjI"
      },
      "source": [
        "def train(model, train_loader, optimizer, log_interval):\n",
        "    model.train()\n",
        "    for batch_idx, (image, label) in enumerate(train_loader):\n",
        "        image = image.to(DEVICE)\n",
        "        label = label.to(DEVICE)\n",
        "        optimizer.zero_grad()\n",
        "        output = model(image)\n",
        "        loss = criterion(output, label)\n",
        "        loss.backward()\n",
        "        optimizer.step()\n",
        "\n",
        "        if batch_idx % log_interval == 0:\n",
        "            print(\"Train Epoch: {} [{}/{}({:.0f}%)]\\tTrain Loss: {:.6f}\".format(\n",
        "                Epoch, batch_idx * len(image),\n",
        "                len(train_loader.dataset), 100. * batch_idx / len(train_loader),\n",
        "                loss.item()))"
      ],
      "execution_count": 7,
      "outputs": []
    },
    {
      "cell_type": "code",
      "metadata": {
        "id": "b3N9wefGKrKv"
      },
      "source": [
        "def evaluate(model, test_loader):\n",
        "    model.eval()\n",
        "    test_loss = 0\n",
        "    correct = 0\n",
        "    with torch.no_grad():\n",
        "        for image, label in test_loader:\n",
        "            image = image.to(DEVICE)\n",
        "            label = label.to(DEVICE)\n",
        "            output = model(image)\n",
        "            test_loss += criterion(output, label).item()\n",
        "            prediction = output.max(1, keepdim = True)[1]\n",
        "            correct += prediction.eq(label.view_as(prediction)).sum().item()\n",
        "\n",
        "    test_loss /= len(test_loader.dataset)\n",
        "    test_accuracy = 100. * correct / len(test_loader.dataset)\n",
        "    return test_loss, test_accuracy"
      ],
      "execution_count": 8,
      "outputs": []
    },
    {
      "cell_type": "code",
      "metadata": {
        "colab": {
          "base_uri": "https://localhost:8080/"
        },
        "id": "-_dyCviyLQ2M",
        "outputId": "2b737e66-4f31-4a93-a7d6-cc2c546ae910"
      },
      "source": [
        "for Epoch in range(1, EPOCHS + 1):\n",
        "    train(model, train_loader, optimizer, log_interval = 200)\n",
        "    test_loss, test_accuracy = evaluate(model, test_loader)\n",
        "    print('\\n[EPOCH: {}], \\tTest Loss: {:.4f}, \\tTest Accuracy: {:.2f} % \\n'.\n",
        "          format(Epoch, test_loss, test_accuracy))"
      ],
      "execution_count": null,
      "outputs": [
        {
          "output_type": "stream",
          "name": "stdout",
          "text": [
            "Train Epoch: 1 [0/50000(0%)]\tTrain Loss: 2.306833\n",
            "Train Epoch: 1 [6400/50000(13%)]\tTrain Loss: 1.827698\n",
            "Train Epoch: 1 [12800/50000(26%)]\tTrain Loss: 1.634965\n",
            "Train Epoch: 1 [19200/50000(38%)]\tTrain Loss: 1.537640\n",
            "Train Epoch: 1 [25600/50000(51%)]\tTrain Loss: 2.103445\n",
            "Train Epoch: 1 [32000/50000(64%)]\tTrain Loss: 1.666934\n",
            "Train Epoch: 1 [38400/50000(77%)]\tTrain Loss: 1.765063\n",
            "Train Epoch: 1 [44800/50000(90%)]\tTrain Loss: 1.674679\n",
            "\n",
            "[EPOCH: 1], \tTest Loss: 0.0525, \tTest Accuracy: 40.65 % \n",
            "\n",
            "Train Epoch: 2 [0/50000(0%)]\tTrain Loss: 1.731987\n",
            "Train Epoch: 2 [6400/50000(13%)]\tTrain Loss: 1.885261\n",
            "Train Epoch: 2 [12800/50000(26%)]\tTrain Loss: 1.207103\n",
            "Train Epoch: 2 [19200/50000(38%)]\tTrain Loss: 1.449864\n",
            "Train Epoch: 2 [25600/50000(51%)]\tTrain Loss: 1.461338\n",
            "Train Epoch: 2 [32000/50000(64%)]\tTrain Loss: 1.720650\n",
            "Train Epoch: 2 [38400/50000(77%)]\tTrain Loss: 1.806628\n",
            "Train Epoch: 2 [44800/50000(90%)]\tTrain Loss: 1.643300\n",
            "\n",
            "[EPOCH: 2], \tTest Loss: 0.0513, \tTest Accuracy: 41.29 % \n",
            "\n",
            "Train Epoch: 3 [0/50000(0%)]\tTrain Loss: 1.542351\n",
            "Train Epoch: 3 [6400/50000(13%)]\tTrain Loss: 1.691726\n",
            "Train Epoch: 3 [12800/50000(26%)]\tTrain Loss: 1.629004\n",
            "Train Epoch: 3 [19200/50000(38%)]\tTrain Loss: 1.628200\n",
            "Train Epoch: 3 [25600/50000(51%)]\tTrain Loss: 1.868816\n",
            "Train Epoch: 3 [32000/50000(64%)]\tTrain Loss: 1.541422\n",
            "Train Epoch: 3 [38400/50000(77%)]\tTrain Loss: 1.513483\n",
            "Train Epoch: 3 [44800/50000(90%)]\tTrain Loss: 1.747652\n",
            "\n",
            "[EPOCH: 3], \tTest Loss: 0.0480, \tTest Accuracy: 45.50 % \n",
            "\n",
            "Train Epoch: 4 [0/50000(0%)]\tTrain Loss: 1.227751\n",
            "Train Epoch: 4 [6400/50000(13%)]\tTrain Loss: 1.434114\n",
            "Train Epoch: 4 [12800/50000(26%)]\tTrain Loss: 1.723801\n",
            "Train Epoch: 4 [19200/50000(38%)]\tTrain Loss: 1.475196\n",
            "Train Epoch: 4 [25600/50000(51%)]\tTrain Loss: 1.433699\n",
            "Train Epoch: 4 [32000/50000(64%)]\tTrain Loss: 1.660696\n",
            "Train Epoch: 4 [38400/50000(77%)]\tTrain Loss: 1.696045\n",
            "Train Epoch: 4 [44800/50000(90%)]\tTrain Loss: 1.594474\n",
            "\n",
            "[EPOCH: 4], \tTest Loss: 0.0472, \tTest Accuracy: 46.78 % \n",
            "\n",
            "Train Epoch: 5 [0/50000(0%)]\tTrain Loss: 1.599088\n",
            "Train Epoch: 5 [6400/50000(13%)]\tTrain Loss: 1.541656\n",
            "Train Epoch: 5 [12800/50000(26%)]\tTrain Loss: 1.182501\n",
            "Train Epoch: 5 [19200/50000(38%)]\tTrain Loss: 1.580996\n",
            "Train Epoch: 5 [25600/50000(51%)]\tTrain Loss: 1.357261\n",
            "Train Epoch: 5 [32000/50000(64%)]\tTrain Loss: 1.260327\n",
            "Train Epoch: 5 [38400/50000(77%)]\tTrain Loss: 1.432681\n",
            "Train Epoch: 5 [44800/50000(90%)]\tTrain Loss: 1.804761\n",
            "\n",
            "[EPOCH: 5], \tTest Loss: 0.0489, \tTest Accuracy: 44.82 % \n",
            "\n",
            "Train Epoch: 6 [0/50000(0%)]\tTrain Loss: 1.336568\n",
            "Train Epoch: 6 [6400/50000(13%)]\tTrain Loss: 1.441004\n",
            "Train Epoch: 6 [12800/50000(26%)]\tTrain Loss: 1.427927\n",
            "Train Epoch: 6 [19200/50000(38%)]\tTrain Loss: 1.616304\n",
            "Train Epoch: 6 [25600/50000(51%)]\tTrain Loss: 1.170008\n",
            "Train Epoch: 6 [32000/50000(64%)]\tTrain Loss: 1.680325\n",
            "Train Epoch: 6 [38400/50000(77%)]\tTrain Loss: 1.510989\n",
            "Train Epoch: 6 [44800/50000(90%)]\tTrain Loss: 1.407699\n",
            "\n",
            "[EPOCH: 6], \tTest Loss: 0.0461, \tTest Accuracy: 47.84 % \n",
            "\n",
            "Train Epoch: 7 [0/50000(0%)]\tTrain Loss: 1.434004\n",
            "Train Epoch: 7 [6400/50000(13%)]\tTrain Loss: 1.050780\n",
            "Train Epoch: 7 [12800/50000(26%)]\tTrain Loss: 1.295731\n",
            "Train Epoch: 7 [19200/50000(38%)]\tTrain Loss: 1.281380\n",
            "Train Epoch: 7 [25600/50000(51%)]\tTrain Loss: 1.050906\n",
            "Train Epoch: 7 [32000/50000(64%)]\tTrain Loss: 1.643463\n",
            "Train Epoch: 7 [38400/50000(77%)]\tTrain Loss: 1.431542\n",
            "Train Epoch: 7 [44800/50000(90%)]\tTrain Loss: 1.536237\n",
            "\n",
            "[EPOCH: 7], \tTest Loss: 0.0461, \tTest Accuracy: 47.41 % \n",
            "\n",
            "Train Epoch: 8 [0/50000(0%)]\tTrain Loss: 1.431092\n",
            "Train Epoch: 8 [6400/50000(13%)]\tTrain Loss: 1.391434\n",
            "Train Epoch: 8 [12800/50000(26%)]\tTrain Loss: 1.735632\n",
            "Train Epoch: 8 [19200/50000(38%)]\tTrain Loss: 1.589148\n",
            "Train Epoch: 8 [25600/50000(51%)]\tTrain Loss: 1.088696\n",
            "Train Epoch: 8 [32000/50000(64%)]\tTrain Loss: 1.337102\n",
            "Train Epoch: 8 [38400/50000(77%)]\tTrain Loss: 1.723161\n",
            "Train Epoch: 8 [44800/50000(90%)]\tTrain Loss: 1.152858\n",
            "\n",
            "[EPOCH: 8], \tTest Loss: 0.0465, \tTest Accuracy: 47.09 % \n",
            "\n",
            "Train Epoch: 9 [0/50000(0%)]\tTrain Loss: 1.346704\n",
            "Train Epoch: 9 [6400/50000(13%)]\tTrain Loss: 1.536719\n",
            "Train Epoch: 9 [12800/50000(26%)]\tTrain Loss: 1.179854\n",
            "Train Epoch: 9 [19200/50000(38%)]\tTrain Loss: 1.330045\n",
            "Train Epoch: 9 [25600/50000(51%)]\tTrain Loss: 1.510931\n",
            "Train Epoch: 9 [32000/50000(64%)]\tTrain Loss: 1.362558\n",
            "Train Epoch: 9 [38400/50000(77%)]\tTrain Loss: 1.517363\n",
            "Train Epoch: 9 [44800/50000(90%)]\tTrain Loss: 1.648208\n",
            "\n",
            "[EPOCH: 9], \tTest Loss: 0.0472, \tTest Accuracy: 46.52 % \n",
            "\n",
            "Train Epoch: 10 [0/50000(0%)]\tTrain Loss: 1.442144\n",
            "Train Epoch: 10 [6400/50000(13%)]\tTrain Loss: 1.284283\n",
            "Train Epoch: 10 [12800/50000(26%)]\tTrain Loss: 1.410586\n",
            "Train Epoch: 10 [19200/50000(38%)]\tTrain Loss: 1.243414\n",
            "Train Epoch: 10 [25600/50000(51%)]\tTrain Loss: 1.337864\n",
            "Train Epoch: 10 [32000/50000(64%)]\tTrain Loss: 0.947524\n",
            "Train Epoch: 10 [38400/50000(77%)]\tTrain Loss: 1.363815\n",
            "Train Epoch: 10 [44800/50000(90%)]\tTrain Loss: 1.758224\n",
            "\n",
            "[EPOCH: 10], \tTest Loss: 0.0453, \tTest Accuracy: 48.73 % \n",
            "\n"
          ]
        }
      ]
    },
    {
      "cell_type": "markdown",
      "metadata": {
        "id": "aBwyI4v3MZ13"
      },
      "source": [
        "## CNN(Convolutional Neural Network)을 사용한 CIFAR-10 데이터 분류"
      ]
    },
    {
      "cell_type": "code",
      "metadata": {
        "id": "ZkIaxd6CLgaV"
      },
      "source": [
        "class CNN(nn.Module):\n",
        "    def __init__(self):\n",
        "        super(CNN, self).__init__()\n",
        "        self.conv1 = nn.Conv2d(\n",
        "            in_channels = 3,\n",
        "            out_channels = 8,\n",
        "            kernel_size = 3,\n",
        "            padding = 1)\n",
        "        self.conv2 = nn.Conv2d(\n",
        "            in_channels = 8,\n",
        "            out_channels = 16,\n",
        "            kernel_size = 3,\n",
        "            padding = 1)\n",
        "        self.pool = nn.MaxPool2d(\n",
        "            kernel_size = 2,\n",
        "            stride = 2)\n",
        "        self.fc1 = nn.Linear(8 * 8 * 16, 64)\n",
        "        self.fc2 = nn.Linear(64, 32)\n",
        "        self.fc3 = nn.Linear(32, 10)\n",
        "    \n",
        "    def forward(self, x):\n",
        "        x = self.conv1(x)\n",
        "        x = F.relu(x)\n",
        "        x = self.pool(x)\n",
        "        x = self.conv2(x)\n",
        "        x = F.relu(x)\n",
        "        x = self.pool(x)\n",
        "\n",
        "        x = x.view(-1, 8 * 8 * 16)\n",
        "        x = self.fc1(x)\n",
        "        x = F.relu(x)\n",
        "        x = self.fc2(x)\n",
        "        x = F.relu(x)\n",
        "        x = self.fc3(x)\n",
        "        x = F.log_softmax(x)\n",
        "        return x"
      ],
      "execution_count": null,
      "outputs": []
    },
    {
      "cell_type": "code",
      "metadata": {
        "colab": {
          "base_uri": "https://localhost:8080/"
        },
        "id": "QYZ161kYOi-5",
        "outputId": "1c82dd77-c78a-42e9-a65e-859a1a494fc5"
      },
      "source": [
        "model = CNN().to(DEVICE)\n",
        "optimizer = torch.optim.Adam(model.parameters(), lr = 0.001)\n",
        "criterion = nn.CrossEntropyLoss()\n",
        "\n",
        "print(model)"
      ],
      "execution_count": null,
      "outputs": [
        {
          "output_type": "stream",
          "name": "stdout",
          "text": [
            "CNN(\n",
            "  (conv1): Conv2d(3, 8, kernel_size=(3, 3), stride=(1, 1), padding=(1, 1))\n",
            "  (conv2): Conv2d(8, 16, kernel_size=(3, 3), stride=(1, 1), padding=(1, 1))\n",
            "  (pool): MaxPool2d(kernel_size=2, stride=2, padding=0, dilation=1, ceil_mode=False)\n",
            "  (fc1): Linear(in_features=1024, out_features=64, bias=True)\n",
            "  (fc2): Linear(in_features=64, out_features=32, bias=True)\n",
            "  (fc3): Linear(in_features=32, out_features=10, bias=True)\n",
            ")\n"
          ]
        }
      ]
    },
    {
      "cell_type": "code",
      "metadata": {
        "colab": {
          "base_uri": "https://localhost:8080/"
        },
        "id": "y3rMLvjOO8md",
        "outputId": "1e2bc0fb-8ff7-4ebc-c0e4-9e93328c8d64"
      },
      "source": [
        "for Epoch in range(1, EPOCHS + 1):\n",
        "    train(model, train_loader, optimizer, log_interval = 200)\n",
        "    test_loss, test_accuracy = evaluate(model, test_loader)\n",
        "    print('\\n[EPOCH: {}], \\tTest Loss: {:.4f}, \\tTest Accuracy: {:.2f} % \\n'.\n",
        "          format(Epoch, test_loss, test_accuracy))"
      ],
      "execution_count": null,
      "outputs": [
        {
          "output_type": "stream",
          "name": "stderr",
          "text": [
            "/usr/local/lib/python3.7/dist-packages/ipykernel_launcher.py:35: UserWarning: Implicit dimension choice for log_softmax has been deprecated. Change the call to include dim=X as an argument.\n"
          ]
        },
        {
          "output_type": "stream",
          "name": "stdout",
          "text": [
            "Train Epoch: 1 [0/50000(0%)]\tTrain Loss: 2.305550\n",
            "Train Epoch: 1 [6400/50000(13%)]\tTrain Loss: 1.905750\n",
            "Train Epoch: 1 [12800/50000(26%)]\tTrain Loss: 1.947636\n",
            "Train Epoch: 1 [19200/50000(38%)]\tTrain Loss: 1.797926\n",
            "Train Epoch: 1 [25600/50000(51%)]\tTrain Loss: 1.846080\n",
            "Train Epoch: 1 [32000/50000(64%)]\tTrain Loss: 1.411839\n",
            "Train Epoch: 1 [38400/50000(77%)]\tTrain Loss: 1.501742\n",
            "Train Epoch: 1 [44800/50000(90%)]\tTrain Loss: 1.441806\n",
            "\n",
            "[EPOCH: 1], \tTest Loss: 0.0469, \tTest Accuracy: 45.65 % \n",
            "\n",
            "Train Epoch: 2 [0/50000(0%)]\tTrain Loss: 1.231907\n",
            "Train Epoch: 2 [6400/50000(13%)]\tTrain Loss: 1.423967\n",
            "Train Epoch: 2 [12800/50000(26%)]\tTrain Loss: 1.151305\n",
            "Train Epoch: 2 [19200/50000(38%)]\tTrain Loss: 1.573842\n",
            "Train Epoch: 2 [25600/50000(51%)]\tTrain Loss: 1.693853\n",
            "Train Epoch: 2 [32000/50000(64%)]\tTrain Loss: 1.228306\n",
            "Train Epoch: 2 [38400/50000(77%)]\tTrain Loss: 1.119634\n",
            "Train Epoch: 2 [44800/50000(90%)]\tTrain Loss: 1.502152\n",
            "\n",
            "[EPOCH: 2], \tTest Loss: 0.0410, \tTest Accuracy: 52.73 % \n",
            "\n",
            "Train Epoch: 3 [0/50000(0%)]\tTrain Loss: 1.330146\n",
            "Train Epoch: 3 [6400/50000(13%)]\tTrain Loss: 1.398447\n",
            "Train Epoch: 3 [12800/50000(26%)]\tTrain Loss: 1.390695\n",
            "Train Epoch: 3 [19200/50000(38%)]\tTrain Loss: 1.053992\n",
            "Train Epoch: 3 [25600/50000(51%)]\tTrain Loss: 1.498448\n",
            "Train Epoch: 3 [32000/50000(64%)]\tTrain Loss: 1.539959\n",
            "Train Epoch: 3 [38400/50000(77%)]\tTrain Loss: 1.311826\n",
            "Train Epoch: 3 [44800/50000(90%)]\tTrain Loss: 1.354066\n",
            "\n",
            "[EPOCH: 3], \tTest Loss: 0.0390, \tTest Accuracy: 55.21 % \n",
            "\n",
            "Train Epoch: 4 [0/50000(0%)]\tTrain Loss: 1.049285\n",
            "Train Epoch: 4 [6400/50000(13%)]\tTrain Loss: 1.007700\n",
            "Train Epoch: 4 [12800/50000(26%)]\tTrain Loss: 1.283117\n",
            "Train Epoch: 4 [19200/50000(38%)]\tTrain Loss: 0.633616\n",
            "Train Epoch: 4 [25600/50000(51%)]\tTrain Loss: 1.065515\n",
            "Train Epoch: 4 [32000/50000(64%)]\tTrain Loss: 1.205699\n",
            "Train Epoch: 4 [38400/50000(77%)]\tTrain Loss: 1.210989\n",
            "Train Epoch: 4 [44800/50000(90%)]\tTrain Loss: 1.098743\n",
            "\n",
            "[EPOCH: 4], \tTest Loss: 0.0364, \tTest Accuracy: 59.01 % \n",
            "\n",
            "Train Epoch: 5 [0/50000(0%)]\tTrain Loss: 0.883292\n",
            "Train Epoch: 5 [6400/50000(13%)]\tTrain Loss: 0.704544\n",
            "Train Epoch: 5 [12800/50000(26%)]\tTrain Loss: 1.023837\n",
            "Train Epoch: 5 [19200/50000(38%)]\tTrain Loss: 0.827880\n",
            "Train Epoch: 5 [25600/50000(51%)]\tTrain Loss: 1.109939\n",
            "Train Epoch: 5 [32000/50000(64%)]\tTrain Loss: 1.464969\n",
            "Train Epoch: 5 [38400/50000(77%)]\tTrain Loss: 0.902302\n",
            "Train Epoch: 5 [44800/50000(90%)]\tTrain Loss: 0.884684\n",
            "\n",
            "[EPOCH: 5], \tTest Loss: 0.0343, \tTest Accuracy: 61.38 % \n",
            "\n",
            "Train Epoch: 6 [0/50000(0%)]\tTrain Loss: 1.194618\n",
            "Train Epoch: 6 [6400/50000(13%)]\tTrain Loss: 1.066249\n",
            "Train Epoch: 6 [12800/50000(26%)]\tTrain Loss: 0.870522\n",
            "Train Epoch: 6 [19200/50000(38%)]\tTrain Loss: 1.071280\n",
            "Train Epoch: 6 [25600/50000(51%)]\tTrain Loss: 1.095767\n",
            "Train Epoch: 6 [32000/50000(64%)]\tTrain Loss: 0.881141\n",
            "Train Epoch: 6 [38400/50000(77%)]\tTrain Loss: 1.278061\n",
            "Train Epoch: 6 [44800/50000(90%)]\tTrain Loss: 1.238398\n",
            "\n",
            "[EPOCH: 6], \tTest Loss: 0.0335, \tTest Accuracy: 62.58 % \n",
            "\n",
            "Train Epoch: 7 [0/50000(0%)]\tTrain Loss: 0.892768\n",
            "Train Epoch: 7 [6400/50000(13%)]\tTrain Loss: 0.601750\n",
            "Train Epoch: 7 [12800/50000(26%)]\tTrain Loss: 0.865384\n",
            "Train Epoch: 7 [19200/50000(38%)]\tTrain Loss: 1.068886\n",
            "Train Epoch: 7 [25600/50000(51%)]\tTrain Loss: 1.168261\n",
            "Train Epoch: 7 [32000/50000(64%)]\tTrain Loss: 0.920683\n",
            "Train Epoch: 7 [38400/50000(77%)]\tTrain Loss: 1.062413\n",
            "Train Epoch: 7 [44800/50000(90%)]\tTrain Loss: 1.070827\n",
            "\n",
            "[EPOCH: 7], \tTest Loss: 0.0332, \tTest Accuracy: 62.67 % \n",
            "\n",
            "Train Epoch: 8 [0/50000(0%)]\tTrain Loss: 1.080294\n",
            "Train Epoch: 8 [6400/50000(13%)]\tTrain Loss: 0.741340\n",
            "Train Epoch: 8 [12800/50000(26%)]\tTrain Loss: 0.979847\n",
            "Train Epoch: 8 [19200/50000(38%)]\tTrain Loss: 1.223119\n",
            "Train Epoch: 8 [25600/50000(51%)]\tTrain Loss: 0.940682\n",
            "Train Epoch: 8 [32000/50000(64%)]\tTrain Loss: 1.354547\n",
            "Train Epoch: 8 [38400/50000(77%)]\tTrain Loss: 0.893725\n",
            "Train Epoch: 8 [44800/50000(90%)]\tTrain Loss: 0.739251\n",
            "\n",
            "[EPOCH: 8], \tTest Loss: 0.0326, \tTest Accuracy: 63.30 % \n",
            "\n",
            "Train Epoch: 9 [0/50000(0%)]\tTrain Loss: 0.870773\n",
            "Train Epoch: 9 [6400/50000(13%)]\tTrain Loss: 1.115698\n",
            "Train Epoch: 9 [12800/50000(26%)]\tTrain Loss: 1.013838\n",
            "Train Epoch: 9 [19200/50000(38%)]\tTrain Loss: 0.967822\n",
            "Train Epoch: 9 [25600/50000(51%)]\tTrain Loss: 0.729451\n",
            "Train Epoch: 9 [32000/50000(64%)]\tTrain Loss: 0.704418\n",
            "Train Epoch: 9 [38400/50000(77%)]\tTrain Loss: 1.170110\n",
            "Train Epoch: 9 [44800/50000(90%)]\tTrain Loss: 1.185004\n",
            "\n",
            "[EPOCH: 9], \tTest Loss: 0.0317, \tTest Accuracy: 64.11 % \n",
            "\n",
            "Train Epoch: 10 [0/50000(0%)]\tTrain Loss: 1.038036\n",
            "Train Epoch: 10 [6400/50000(13%)]\tTrain Loss: 1.011846\n",
            "Train Epoch: 10 [12800/50000(26%)]\tTrain Loss: 0.930948\n",
            "Train Epoch: 10 [19200/50000(38%)]\tTrain Loss: 1.025698\n",
            "Train Epoch: 10 [25600/50000(51%)]\tTrain Loss: 0.813233\n",
            "Train Epoch: 10 [32000/50000(64%)]\tTrain Loss: 0.783371\n",
            "Train Epoch: 10 [38400/50000(77%)]\tTrain Loss: 1.027312\n",
            "Train Epoch: 10 [44800/50000(90%)]\tTrain Loss: 0.997018\n",
            "\n",
            "[EPOCH: 10], \tTest Loss: 0.0313, \tTest Accuracy: 65.30 % \n",
            "\n"
          ]
        }
      ]
    },
    {
      "cell_type": "markdown",
      "metadata": {
        "id": "Z2vC56z4TLW7"
      },
      "source": [
        "# Data Augmentation 기법을 통한 모델의 성능 향상"
      ]
    },
    {
      "cell_type": "code",
      "metadata": {
        "colab": {
          "base_uri": "https://localhost:8080/",
          "height": 87,
          "referenced_widgets": [
            "9e94c57db66941ef8e3fc1194bb07282",
            "c32b899f3bfc4c40bd7e22ea619beab5",
            "8bc9f04608f640ce854d312f51af9704",
            "dd83f6ea10e34132bd4432905ac4a76f",
            "3bd4b119e96b4ad1a65aa3d743e517c5",
            "52864fb5de144ed19dfe7c5dce46b6f0",
            "2789666a44924908a0d8a5496b2f1dba",
            "cba86767260e41c68873f5b5b93c53eb",
            "11f35f057f1e4ed0870981a02a49173a",
            "74ee16a0ce4642e2889b4a9435ba7c01",
            "be68f5f12701434bac6dc0f94c524dc7"
          ]
        },
        "id": "zqvsuCfMPAWI",
        "outputId": "7ddb6f5e-05a7-4fd8-ccc9-9df78af7105b"
      },
      "source": [
        "train_dataset = datasets.CIFAR10(root = '../data/CIFAR_10',\n",
        "                                      train = True,\n",
        "                                      download = True,\n",
        "                                      transform = transforms.Compose([\n",
        "                                            transforms.RandomHorizontalFlip(),\n",
        "                                            transforms.ToTensor(),\n",
        "                                            transforms.Normalize((0.5, 0.5, 0.5),\n",
        "                                            (0.5, 0.5, 0.5))]))\n",
        "\n",
        "test_dataset = datasets.CIFAR10(root = '../data/CIFAR_10',\n",
        "                                      train = False,\n",
        "                                      transform = transforms.Compose([\n",
        "                                            transforms.RandomHorizontalFlip(),\n",
        "                                            transforms.ToTensor(),\n",
        "                                            transforms.Normalize((0.5, 0.5, 0.5),\n",
        "                                            (0.5, 0.5, 0.5))]))\n",
        "\n",
        "train_loader = torch.utils.data.DataLoader(dataset = train_dataset,\n",
        "                                           batch_size = BATCH_SIZE,\n",
        "                                           shuffle = True)\n",
        "\n",
        "test_loader = torch.utils.data.DataLoader(dataset = test_dataset,\n",
        "                                           batch_size = BATCH_SIZE,\n",
        "                                           shuffle = False)"
      ],
      "execution_count": 6,
      "outputs": [
        {
          "output_type": "stream",
          "name": "stdout",
          "text": [
            "Downloading https://www.cs.toronto.edu/~kriz/cifar-10-python.tar.gz to ../data/CIFAR_10/cifar-10-python.tar.gz\n"
          ]
        },
        {
          "output_type": "display_data",
          "data": {
            "application/vnd.jupyter.widget-view+json": {
              "model_id": "9e94c57db66941ef8e3fc1194bb07282",
              "version_minor": 0,
              "version_major": 2
            },
            "text/plain": [
              "  0%|          | 0/170498071 [00:00<?, ?it/s]"
            ]
          },
          "metadata": {}
        },
        {
          "output_type": "stream",
          "name": "stdout",
          "text": [
            "Extracting ../data/CIFAR_10/cifar-10-python.tar.gz to ../data/CIFAR_10\n"
          ]
        }
      ]
    },
    {
      "cell_type": "code",
      "metadata": {
        "colab": {
          "base_uri": "https://localhost:8080/"
        },
        "id": "GgdcsjpJT3QX",
        "outputId": "0dcd0030-f7d9-4ceb-ce08-395d46cca07d"
      },
      "source": [
        "for Epoch in range(1, EPOCHS + 1):\n",
        "    train(model, train_loader, optimizer, log_interval = 200)\n",
        "    test_loss, test_accuracy = evaluate(model, test_loader)\n",
        "    print('\\n[EPOCH: {}], \\tTest Loss: {:.4f}, \\tTest Accuracy: {:.2f} % \\n'.\n",
        "          format(Epoch, test_loss, test_accuracy))"
      ],
      "execution_count": null,
      "outputs": [
        {
          "output_type": "stream",
          "name": "stderr",
          "text": [
            "/usr/local/lib/python3.7/dist-packages/ipykernel_launcher.py:35: UserWarning: Implicit dimension choice for log_softmax has been deprecated. Change the call to include dim=X as an argument.\n"
          ]
        },
        {
          "output_type": "stream",
          "name": "stdout",
          "text": [
            "Train Epoch: 1 [0/50000(0%)]\tTrain Loss: 2.922771\n",
            "Train Epoch: 1 [6400/50000(13%)]\tTrain Loss: 0.989393\n",
            "Train Epoch: 1 [12800/50000(26%)]\tTrain Loss: 0.857930\n",
            "Train Epoch: 1 [19200/50000(38%)]\tTrain Loss: 0.722186\n",
            "Train Epoch: 1 [25600/50000(51%)]\tTrain Loss: 0.969584\n",
            "Train Epoch: 1 [32000/50000(64%)]\tTrain Loss: 1.345286\n",
            "Train Epoch: 1 [38400/50000(77%)]\tTrain Loss: 1.242913\n",
            "Train Epoch: 1 [44800/50000(90%)]\tTrain Loss: 0.657618\n",
            "\n",
            "[EPOCH: 1], \tTest Loss: 0.0311, \tTest Accuracy: 65.49 % \n",
            "\n",
            "Train Epoch: 2 [0/50000(0%)]\tTrain Loss: 0.736250\n",
            "Train Epoch: 2 [6400/50000(13%)]\tTrain Loss: 0.906884\n",
            "Train Epoch: 2 [12800/50000(26%)]\tTrain Loss: 0.658911\n",
            "Train Epoch: 2 [19200/50000(38%)]\tTrain Loss: 0.968057\n",
            "Train Epoch: 2 [25600/50000(51%)]\tTrain Loss: 1.096690\n",
            "Train Epoch: 2 [32000/50000(64%)]\tTrain Loss: 1.086851\n",
            "Train Epoch: 2 [38400/50000(77%)]\tTrain Loss: 0.917862\n",
            "Train Epoch: 2 [44800/50000(90%)]\tTrain Loss: 0.822924\n",
            "\n",
            "[EPOCH: 2], \tTest Loss: 0.0306, \tTest Accuracy: 65.93 % \n",
            "\n",
            "Train Epoch: 3 [0/50000(0%)]\tTrain Loss: 0.663529\n",
            "Train Epoch: 3 [6400/50000(13%)]\tTrain Loss: 0.895925\n",
            "Train Epoch: 3 [12800/50000(26%)]\tTrain Loss: 1.074213\n",
            "Train Epoch: 3 [19200/50000(38%)]\tTrain Loss: 0.762715\n",
            "Train Epoch: 3 [25600/50000(51%)]\tTrain Loss: 0.869905\n",
            "Train Epoch: 3 [32000/50000(64%)]\tTrain Loss: 0.845122\n",
            "Train Epoch: 3 [38400/50000(77%)]\tTrain Loss: 1.064469\n",
            "Train Epoch: 3 [44800/50000(90%)]\tTrain Loss: 1.005997\n",
            "\n",
            "[EPOCH: 3], \tTest Loss: 0.0304, \tTest Accuracy: 66.40 % \n",
            "\n",
            "Train Epoch: 4 [0/50000(0%)]\tTrain Loss: 0.895877\n",
            "Train Epoch: 4 [6400/50000(13%)]\tTrain Loss: 0.861379\n",
            "Train Epoch: 4 [12800/50000(26%)]\tTrain Loss: 0.780420\n",
            "Train Epoch: 4 [19200/50000(38%)]\tTrain Loss: 1.211775\n",
            "Train Epoch: 4 [25600/50000(51%)]\tTrain Loss: 0.672616\n",
            "Train Epoch: 4 [32000/50000(64%)]\tTrain Loss: 0.523126\n",
            "Train Epoch: 4 [38400/50000(77%)]\tTrain Loss: 0.636288\n",
            "Train Epoch: 4 [44800/50000(90%)]\tTrain Loss: 0.952604\n",
            "\n",
            "[EPOCH: 4], \tTest Loss: 0.0298, \tTest Accuracy: 66.85 % \n",
            "\n",
            "Train Epoch: 5 [0/50000(0%)]\tTrain Loss: 0.901019\n",
            "Train Epoch: 5 [6400/50000(13%)]\tTrain Loss: 0.797295\n",
            "Train Epoch: 5 [12800/50000(26%)]\tTrain Loss: 0.906976\n",
            "Train Epoch: 5 [19200/50000(38%)]\tTrain Loss: 0.877137\n",
            "Train Epoch: 5 [25600/50000(51%)]\tTrain Loss: 0.870074\n",
            "Train Epoch: 5 [32000/50000(64%)]\tTrain Loss: 0.644315\n",
            "Train Epoch: 5 [38400/50000(77%)]\tTrain Loss: 1.192309\n",
            "Train Epoch: 5 [44800/50000(90%)]\tTrain Loss: 1.189915\n",
            "\n",
            "[EPOCH: 5], \tTest Loss: 0.0288, \tTest Accuracy: 68.12 % \n",
            "\n",
            "Train Epoch: 6 [0/50000(0%)]\tTrain Loss: 0.685942\n",
            "Train Epoch: 6 [6400/50000(13%)]\tTrain Loss: 0.667368\n",
            "Train Epoch: 6 [12800/50000(26%)]\tTrain Loss: 0.781058\n",
            "Train Epoch: 6 [19200/50000(38%)]\tTrain Loss: 0.940580\n",
            "Train Epoch: 6 [25600/50000(51%)]\tTrain Loss: 0.818950\n",
            "Train Epoch: 6 [32000/50000(64%)]\tTrain Loss: 0.884046\n",
            "Train Epoch: 6 [38400/50000(77%)]\tTrain Loss: 0.719865\n",
            "Train Epoch: 6 [44800/50000(90%)]\tTrain Loss: 0.997647\n",
            "\n",
            "[EPOCH: 6], \tTest Loss: 0.0293, \tTest Accuracy: 67.62 % \n",
            "\n",
            "Train Epoch: 7 [0/50000(0%)]\tTrain Loss: 0.639198\n",
            "Train Epoch: 7 [6400/50000(13%)]\tTrain Loss: 0.999061\n",
            "Train Epoch: 7 [12800/50000(26%)]\tTrain Loss: 0.831689\n",
            "Train Epoch: 7 [19200/50000(38%)]\tTrain Loss: 0.953327\n",
            "Train Epoch: 7 [25600/50000(51%)]\tTrain Loss: 1.021961\n",
            "Train Epoch: 7 [32000/50000(64%)]\tTrain Loss: 0.813984\n",
            "Train Epoch: 7 [38400/50000(77%)]\tTrain Loss: 0.758717\n",
            "Train Epoch: 7 [44800/50000(90%)]\tTrain Loss: 0.962364\n",
            "\n",
            "[EPOCH: 7], \tTest Loss: 0.0291, \tTest Accuracy: 67.99 % \n",
            "\n",
            "Train Epoch: 8 [0/50000(0%)]\tTrain Loss: 0.933256\n",
            "Train Epoch: 8 [6400/50000(13%)]\tTrain Loss: 0.787827\n",
            "Train Epoch: 8 [12800/50000(26%)]\tTrain Loss: 0.925563\n",
            "Train Epoch: 8 [19200/50000(38%)]\tTrain Loss: 0.729935\n",
            "Train Epoch: 8 [25600/50000(51%)]\tTrain Loss: 0.771206\n",
            "Train Epoch: 8 [32000/50000(64%)]\tTrain Loss: 0.786895\n",
            "Train Epoch: 8 [38400/50000(77%)]\tTrain Loss: 0.693185\n",
            "Train Epoch: 8 [44800/50000(90%)]\tTrain Loss: 0.869557\n",
            "\n",
            "[EPOCH: 8], \tTest Loss: 0.0284, \tTest Accuracy: 68.39 % \n",
            "\n",
            "Train Epoch: 9 [0/50000(0%)]\tTrain Loss: 0.935211\n",
            "Train Epoch: 9 [6400/50000(13%)]\tTrain Loss: 0.783163\n",
            "Train Epoch: 9 [12800/50000(26%)]\tTrain Loss: 0.746837\n",
            "Train Epoch: 9 [19200/50000(38%)]\tTrain Loss: 0.640812\n",
            "Train Epoch: 9 [25600/50000(51%)]\tTrain Loss: 0.694624\n",
            "Train Epoch: 9 [32000/50000(64%)]\tTrain Loss: 0.629945\n",
            "Train Epoch: 9 [38400/50000(77%)]\tTrain Loss: 0.585802\n",
            "Train Epoch: 9 [44800/50000(90%)]\tTrain Loss: 0.970691\n",
            "\n",
            "[EPOCH: 9], \tTest Loss: 0.0288, \tTest Accuracy: 68.52 % \n",
            "\n",
            "Train Epoch: 10 [0/50000(0%)]\tTrain Loss: 0.675583\n",
            "Train Epoch: 10 [6400/50000(13%)]\tTrain Loss: 0.887864\n",
            "Train Epoch: 10 [12800/50000(26%)]\tTrain Loss: 0.654526\n",
            "Train Epoch: 10 [19200/50000(38%)]\tTrain Loss: 0.492440\n",
            "Train Epoch: 10 [25600/50000(51%)]\tTrain Loss: 0.761586\n",
            "Train Epoch: 10 [32000/50000(64%)]\tTrain Loss: 0.727137\n",
            "Train Epoch: 10 [38400/50000(77%)]\tTrain Loss: 0.952618\n",
            "Train Epoch: 10 [44800/50000(90%)]\tTrain Loss: 0.657377\n",
            "\n",
            "[EPOCH: 10], \tTest Loss: 0.0286, \tTest Accuracy: 68.82 % \n",
            "\n"
          ]
        }
      ]
    },
    {
      "cell_type": "markdown",
      "metadata": {
        "id": "sYIRx9ORX3cR"
      },
      "source": [
        "## **CIFA-10 데이터에 고급 CNN 모델을 적용해 성능 향상시키기(ResNet)**"
      ]
    },
    {
      "cell_type": "code",
      "metadata": {
        "id": "9QabeQadUZ_Z"
      },
      "source": [
        "class BasicBlock(nn.Module):\n",
        "    def __init__(self, in_planes, planes, stride = 1):\n",
        "        super(BasicBlock, self).__init__()\n",
        "        self.conv1 = nn.Conv2d(in_planes, planes,\n",
        "                               kernel_size = 3,\n",
        "                               stride = stride,\n",
        "                               padding = 1,\n",
        "                               bias = False)\n",
        "        self.bn1 = nn.BatchNorm2d(planes)\n",
        "        self.conv2 = nn.Conv2d(planes, planes,\n",
        "                               kernel_size = 3,\n",
        "                               stride = 1,\n",
        "                               padding = 1,\n",
        "                               bias = False)\n",
        "        self.bn2 = nn.BatchNorm2d(planes)\n",
        "\n",
        "        self.shortcut = nn.Sequential()\n",
        "        if stride != 1 or in_planes != planes:\n",
        "            self.shortcut = nn.Sequential(\n",
        "                nn.Conv2d(in_planes, planes,\n",
        "                          kernel_size = 1,\n",
        "                          stride = stride,\n",
        "                          bias = False),\n",
        "                nn.BatchNorm2d(planes))\n",
        "        \n",
        "    def forward(self, x):\n",
        "        out = F.relu(self.bn1(self.conv1(x)))\n",
        "        out = self.bn2(self.conv2(out))\n",
        "        out += self.shortcut(x)\n",
        "        out = F.relu(out)\n",
        "        return out\n",
        "    \n",
        "\n",
        "class ResNet(nn.Module):\n",
        "    def __init__(self, num_classes = 10):\n",
        "        super(ResNet, self).__init__()\n",
        "        self.in_planes = 16\n",
        "\n",
        "        self.conv1 = nn.Conv2d(3, 16,\n",
        "                kernel_size = 3,\n",
        "                stride = 1,\n",
        "                padding =1,\n",
        "                bias = False)\n",
        "        self.bn1 = nn.BatchNorm2d(16)\n",
        "        self.layer1 = self._make_layer(16, 2, stride = 1)\n",
        "        self.layer2 = self._make_layer(32, 2, stride = 2)\n",
        "        self.layer3 = self._make_layer(64, 2, stride = 2)\n",
        "        self.linear = nn.Linear(64, num_classes)\n",
        "    \n",
        "    def _make_layer(self, planes, num_blocks, stride):\n",
        "        strides = [stride] + [1] *(num_blocks - 1)\n",
        "        layers = []\n",
        "        for stride in strides:\n",
        "            layers.append(BasicBlock(self.in_planes, planes, stride))\n",
        "            self.in_planes = planes\n",
        "        return nn.Sequential(*layers)\n",
        "    \n",
        "    def forward(self, x):\n",
        "        out = F.relu(self.bn1(self.conv1(x)))\n",
        "        out = self.layer1(out)\n",
        "        out = self.layer2(out)\n",
        "        out = self.layer3(out)\n",
        "        out = F.avg_pool2d(out, 8)\n",
        "        out = out.view(out.size(0), -1)\n",
        "        out = self.linear(out)\n",
        "        return out"
      ],
      "execution_count": 11,
      "outputs": []
    },
    {
      "cell_type": "code",
      "metadata": {
        "colab": {
          "base_uri": "https://localhost:8080/"
        },
        "id": "GLg3S1hGaezd",
        "outputId": "ff9582bb-f66c-411c-bc2f-59581e5c7570"
      },
      "source": [
        "model = ResNet().to(DEVICE)\n",
        "optimizer = torch.optim.Adam(model.parameters(), lr = 0.001)\n",
        "criterion = nn.CrossEntropyLoss()\n",
        "\n",
        "print(model)"
      ],
      "execution_count": 12,
      "outputs": [
        {
          "output_type": "stream",
          "name": "stdout",
          "text": [
            "ResNet(\n",
            "  (conv1): Conv2d(3, 16, kernel_size=(3, 3), stride=(1, 1), padding=(1, 1), bias=False)\n",
            "  (bn1): BatchNorm2d(16, eps=1e-05, momentum=0.1, affine=True, track_running_stats=True)\n",
            "  (layer1): Sequential(\n",
            "    (0): BasicBlock(\n",
            "      (conv1): Conv2d(16, 16, kernel_size=(3, 3), stride=(1, 1), padding=(1, 1), bias=False)\n",
            "      (bn1): BatchNorm2d(16, eps=1e-05, momentum=0.1, affine=True, track_running_stats=True)\n",
            "      (conv2): Conv2d(16, 16, kernel_size=(3, 3), stride=(1, 1), padding=(1, 1), bias=False)\n",
            "      (bn2): BatchNorm2d(16, eps=1e-05, momentum=0.1, affine=True, track_running_stats=True)\n",
            "      (shortcut): Sequential()\n",
            "    )\n",
            "    (1): BasicBlock(\n",
            "      (conv1): Conv2d(16, 16, kernel_size=(3, 3), stride=(1, 1), padding=(1, 1), bias=False)\n",
            "      (bn1): BatchNorm2d(16, eps=1e-05, momentum=0.1, affine=True, track_running_stats=True)\n",
            "      (conv2): Conv2d(16, 16, kernel_size=(3, 3), stride=(1, 1), padding=(1, 1), bias=False)\n",
            "      (bn2): BatchNorm2d(16, eps=1e-05, momentum=0.1, affine=True, track_running_stats=True)\n",
            "      (shortcut): Sequential()\n",
            "    )\n",
            "  )\n",
            "  (layer2): Sequential(\n",
            "    (0): BasicBlock(\n",
            "      (conv1): Conv2d(16, 32, kernel_size=(3, 3), stride=(2, 2), padding=(1, 1), bias=False)\n",
            "      (bn1): BatchNorm2d(32, eps=1e-05, momentum=0.1, affine=True, track_running_stats=True)\n",
            "      (conv2): Conv2d(32, 32, kernel_size=(3, 3), stride=(1, 1), padding=(1, 1), bias=False)\n",
            "      (bn2): BatchNorm2d(32, eps=1e-05, momentum=0.1, affine=True, track_running_stats=True)\n",
            "      (shortcut): Sequential(\n",
            "        (0): Conv2d(16, 32, kernel_size=(1, 1), stride=(2, 2), bias=False)\n",
            "        (1): BatchNorm2d(32, eps=1e-05, momentum=0.1, affine=True, track_running_stats=True)\n",
            "      )\n",
            "    )\n",
            "    (1): BasicBlock(\n",
            "      (conv1): Conv2d(32, 32, kernel_size=(3, 3), stride=(1, 1), padding=(1, 1), bias=False)\n",
            "      (bn1): BatchNorm2d(32, eps=1e-05, momentum=0.1, affine=True, track_running_stats=True)\n",
            "      (conv2): Conv2d(32, 32, kernel_size=(3, 3), stride=(1, 1), padding=(1, 1), bias=False)\n",
            "      (bn2): BatchNorm2d(32, eps=1e-05, momentum=0.1, affine=True, track_running_stats=True)\n",
            "      (shortcut): Sequential()\n",
            "    )\n",
            "  )\n",
            "  (layer3): Sequential(\n",
            "    (0): BasicBlock(\n",
            "      (conv1): Conv2d(32, 64, kernel_size=(3, 3), stride=(2, 2), padding=(1, 1), bias=False)\n",
            "      (bn1): BatchNorm2d(64, eps=1e-05, momentum=0.1, affine=True, track_running_stats=True)\n",
            "      (conv2): Conv2d(64, 64, kernel_size=(3, 3), stride=(1, 1), padding=(1, 1), bias=False)\n",
            "      (bn2): BatchNorm2d(64, eps=1e-05, momentum=0.1, affine=True, track_running_stats=True)\n",
            "      (shortcut): Sequential(\n",
            "        (0): Conv2d(32, 64, kernel_size=(1, 1), stride=(2, 2), bias=False)\n",
            "        (1): BatchNorm2d(64, eps=1e-05, momentum=0.1, affine=True, track_running_stats=True)\n",
            "      )\n",
            "    )\n",
            "    (1): BasicBlock(\n",
            "      (conv1): Conv2d(64, 64, kernel_size=(3, 3), stride=(1, 1), padding=(1, 1), bias=False)\n",
            "      (bn1): BatchNorm2d(64, eps=1e-05, momentum=0.1, affine=True, track_running_stats=True)\n",
            "      (conv2): Conv2d(64, 64, kernel_size=(3, 3), stride=(1, 1), padding=(1, 1), bias=False)\n",
            "      (bn2): BatchNorm2d(64, eps=1e-05, momentum=0.1, affine=True, track_running_stats=True)\n",
            "      (shortcut): Sequential()\n",
            "    )\n",
            "  )\n",
            "  (linear): Linear(in_features=64, out_features=10, bias=True)\n",
            ")\n"
          ]
        }
      ]
    },
    {
      "cell_type": "code",
      "metadata": {
        "colab": {
          "base_uri": "https://localhost:8080/"
        },
        "id": "1eSFzMQUcKtn",
        "outputId": "ecfcc7e3-4de0-4c2b-9bc1-0a1f014dee7a"
      },
      "source": [
        "for Epoch in range(1, EPOCHS + 1):\n",
        "    train(model, train_loader, optimizer, log_interval = 200)\n",
        "    test_loss, test_accuracy = evaluate(model, test_loader)\n",
        "    print('\\n[EPOCH: {}], \\tTest Loss: {:.4f}, \\tTest Accuracy: {:.2f} % \\n'.\n",
        "          format(Epoch, test_loss, test_accuracy))"
      ],
      "execution_count": 13,
      "outputs": [
        {
          "output_type": "stream",
          "name": "stdout",
          "text": [
            "Train Epoch: 1 [0/50000(0%)]\tTrain Loss: 2.305044\n",
            "Train Epoch: 1 [6400/50000(13%)]\tTrain Loss: 1.458316\n",
            "Train Epoch: 1 [12800/50000(26%)]\tTrain Loss: 1.605291\n",
            "Train Epoch: 1 [19200/50000(38%)]\tTrain Loss: 1.282340\n",
            "Train Epoch: 1 [25600/50000(51%)]\tTrain Loss: 1.358122\n",
            "Train Epoch: 1 [32000/50000(64%)]\tTrain Loss: 1.080977\n",
            "Train Epoch: 1 [38400/50000(77%)]\tTrain Loss: 0.919080\n",
            "Train Epoch: 1 [44800/50000(90%)]\tTrain Loss: 1.097784\n",
            "\n",
            "[EPOCH: 1], \tTest Loss: 0.0339, \tTest Accuracy: 61.62 % \n",
            "\n",
            "Train Epoch: 2 [0/50000(0%)]\tTrain Loss: 1.026524\n",
            "Train Epoch: 2 [6400/50000(13%)]\tTrain Loss: 1.224136\n",
            "Train Epoch: 2 [12800/50000(26%)]\tTrain Loss: 1.114878\n",
            "Train Epoch: 2 [19200/50000(38%)]\tTrain Loss: 0.936174\n",
            "Train Epoch: 2 [25600/50000(51%)]\tTrain Loss: 1.008772\n",
            "Train Epoch: 2 [32000/50000(64%)]\tTrain Loss: 0.918245\n",
            "Train Epoch: 2 [38400/50000(77%)]\tTrain Loss: 0.845141\n",
            "Train Epoch: 2 [44800/50000(90%)]\tTrain Loss: 0.952628\n",
            "\n",
            "[EPOCH: 2], \tTest Loss: 0.0258, \tTest Accuracy: 71.46 % \n",
            "\n",
            "Train Epoch: 3 [0/50000(0%)]\tTrain Loss: 1.355964\n",
            "Train Epoch: 3 [6400/50000(13%)]\tTrain Loss: 0.578326\n",
            "Train Epoch: 3 [12800/50000(26%)]\tTrain Loss: 1.059912\n",
            "Train Epoch: 3 [19200/50000(38%)]\tTrain Loss: 0.638838\n",
            "Train Epoch: 3 [25600/50000(51%)]\tTrain Loss: 0.892280\n",
            "Train Epoch: 3 [32000/50000(64%)]\tTrain Loss: 0.473291\n",
            "Train Epoch: 3 [38400/50000(77%)]\tTrain Loss: 0.764400\n",
            "Train Epoch: 3 [44800/50000(90%)]\tTrain Loss: 0.788433\n",
            "\n",
            "[EPOCH: 3], \tTest Loss: 0.0229, \tTest Accuracy: 74.54 % \n",
            "\n",
            "Train Epoch: 4 [0/50000(0%)]\tTrain Loss: 0.624749\n",
            "Train Epoch: 4 [6400/50000(13%)]\tTrain Loss: 1.042719\n",
            "Train Epoch: 4 [12800/50000(26%)]\tTrain Loss: 0.474300\n",
            "Train Epoch: 4 [19200/50000(38%)]\tTrain Loss: 0.446071\n",
            "Train Epoch: 4 [25600/50000(51%)]\tTrain Loss: 0.623536\n",
            "Train Epoch: 4 [32000/50000(64%)]\tTrain Loss: 0.718716\n",
            "Train Epoch: 4 [38400/50000(77%)]\tTrain Loss: 1.248053\n",
            "Train Epoch: 4 [44800/50000(90%)]\tTrain Loss: 0.576853\n",
            "\n",
            "[EPOCH: 4], \tTest Loss: 0.0208, \tTest Accuracy: 76.97 % \n",
            "\n",
            "Train Epoch: 5 [0/50000(0%)]\tTrain Loss: 0.475860\n",
            "Train Epoch: 5 [6400/50000(13%)]\tTrain Loss: 0.460653\n",
            "Train Epoch: 5 [12800/50000(26%)]\tTrain Loss: 0.424155\n",
            "Train Epoch: 5 [19200/50000(38%)]\tTrain Loss: 0.683842\n",
            "Train Epoch: 5 [25600/50000(51%)]\tTrain Loss: 0.740986\n",
            "Train Epoch: 5 [32000/50000(64%)]\tTrain Loss: 0.569542\n",
            "Train Epoch: 5 [38400/50000(77%)]\tTrain Loss: 0.664797\n",
            "Train Epoch: 5 [44800/50000(90%)]\tTrain Loss: 0.386703\n",
            "\n",
            "[EPOCH: 5], \tTest Loss: 0.0211, \tTest Accuracy: 76.96 % \n",
            "\n",
            "Train Epoch: 6 [0/50000(0%)]\tTrain Loss: 0.653087\n",
            "Train Epoch: 6 [6400/50000(13%)]\tTrain Loss: 0.412845\n",
            "Train Epoch: 6 [12800/50000(26%)]\tTrain Loss: 0.700432\n",
            "Train Epoch: 6 [19200/50000(38%)]\tTrain Loss: 0.324435\n",
            "Train Epoch: 6 [25600/50000(51%)]\tTrain Loss: 0.555559\n",
            "Train Epoch: 6 [32000/50000(64%)]\tTrain Loss: 0.654049\n",
            "Train Epoch: 6 [38400/50000(77%)]\tTrain Loss: 0.632692\n",
            "Train Epoch: 6 [44800/50000(90%)]\tTrain Loss: 0.409886\n",
            "\n",
            "[EPOCH: 6], \tTest Loss: 0.0178, \tTest Accuracy: 80.28 % \n",
            "\n",
            "Train Epoch: 7 [0/50000(0%)]\tTrain Loss: 0.459137\n",
            "Train Epoch: 7 [6400/50000(13%)]\tTrain Loss: 0.357906\n",
            "Train Epoch: 7 [12800/50000(26%)]\tTrain Loss: 0.356210\n",
            "Train Epoch: 7 [19200/50000(38%)]\tTrain Loss: 0.538114\n",
            "Train Epoch: 7 [25600/50000(51%)]\tTrain Loss: 0.174687\n",
            "Train Epoch: 7 [32000/50000(64%)]\tTrain Loss: 0.763586\n",
            "Train Epoch: 7 [38400/50000(77%)]\tTrain Loss: 0.395638\n",
            "Train Epoch: 7 [44800/50000(90%)]\tTrain Loss: 0.551567\n",
            "\n",
            "[EPOCH: 7], \tTest Loss: 0.0176, \tTest Accuracy: 80.76 % \n",
            "\n",
            "Train Epoch: 8 [0/50000(0%)]\tTrain Loss: 0.443559\n",
            "Train Epoch: 8 [6400/50000(13%)]\tTrain Loss: 0.477853\n",
            "Train Epoch: 8 [12800/50000(26%)]\tTrain Loss: 0.367679\n",
            "Train Epoch: 8 [19200/50000(38%)]\tTrain Loss: 0.333903\n",
            "Train Epoch: 8 [25600/50000(51%)]\tTrain Loss: 0.866426\n",
            "Train Epoch: 8 [32000/50000(64%)]\tTrain Loss: 0.240512\n",
            "Train Epoch: 8 [38400/50000(77%)]\tTrain Loss: 0.562178\n",
            "Train Epoch: 8 [44800/50000(90%)]\tTrain Loss: 0.824006\n",
            "\n",
            "[EPOCH: 8], \tTest Loss: 0.0167, \tTest Accuracy: 81.60 % \n",
            "\n",
            "Train Epoch: 9 [0/50000(0%)]\tTrain Loss: 0.471580\n",
            "Train Epoch: 9 [6400/50000(13%)]\tTrain Loss: 0.417457\n",
            "Train Epoch: 9 [12800/50000(26%)]\tTrain Loss: 0.221558\n",
            "Train Epoch: 9 [19200/50000(38%)]\tTrain Loss: 0.227976\n",
            "Train Epoch: 9 [25600/50000(51%)]\tTrain Loss: 0.886733\n",
            "Train Epoch: 9 [32000/50000(64%)]\tTrain Loss: 0.237769\n",
            "Train Epoch: 9 [38400/50000(77%)]\tTrain Loss: 0.362776\n",
            "Train Epoch: 9 [44800/50000(90%)]\tTrain Loss: 0.424359\n",
            "\n",
            "[EPOCH: 9], \tTest Loss: 0.0158, \tTest Accuracy: 82.88 % \n",
            "\n",
            "Train Epoch: 10 [0/50000(0%)]\tTrain Loss: 0.262900\n",
            "Train Epoch: 10 [6400/50000(13%)]\tTrain Loss: 0.144238\n",
            "Train Epoch: 10 [12800/50000(26%)]\tTrain Loss: 0.214394\n",
            "Train Epoch: 10 [19200/50000(38%)]\tTrain Loss: 0.410116\n",
            "Train Epoch: 10 [25600/50000(51%)]\tTrain Loss: 0.578255\n",
            "Train Epoch: 10 [32000/50000(64%)]\tTrain Loss: 0.324294\n",
            "Train Epoch: 10 [38400/50000(77%)]\tTrain Loss: 0.242180\n",
            "Train Epoch: 10 [44800/50000(90%)]\tTrain Loss: 0.336954\n",
            "\n",
            "[EPOCH: 10], \tTest Loss: 0.0150, \tTest Accuracy: 83.79 % \n",
            "\n"
          ]
        }
      ]
    },
    {
      "cell_type": "markdown",
      "metadata": {
        "id": "AwxPgU5mc1kz"
      },
      "source": [
        "## **CIFAR-10 데이터에 대표적인 딥러닝 모델을 불러와 적용하기(ResNet34)**"
      ]
    },
    {
      "cell_type": "code",
      "metadata": {
        "id": "0fpIX__kcVQc"
      },
      "source": [
        "import torchvision.models as models\n",
        "\n",
        "model = models.resnet34(pretrained = False)\n",
        "num_ftrs = model.fc.in_features\n",
        "model.fc = nn.Linear(num_ftrs 10)\n",
        "model = model.to(DEVICE)"
      ],
      "execution_count": null,
      "outputs": []
    },
    {
      "cell_type": "markdown",
      "metadata": {
        "id": "VFDWHYPHfVyY"
      },
      "source": [
        "실행시키면 정확도가 77%정도 나온다 (pretrained = False)\n"
      ]
    },
    {
      "cell_type": "code",
      "metadata": {
        "id": "mlrLaT1OfauQ"
      },
      "source": [
        "model = models.resnet34(pretrained = True)\n",
        "num_ftrs = model.fc.in_features\n",
        "model.fc = nn.Linear(num_ftrs, 10)\n",
        "model = model.to(DEVICE)"
      ],
      "execution_count": null,
      "outputs": []
    },
    {
      "cell_type": "markdown",
      "metadata": {
        "id": "5ycfoswEft0v"
      },
      "source": [
        "Fine-Tuning 하면 정확도가 81%정도가 나온다. (pretrained = True)"
      ]
    }
  ]
}