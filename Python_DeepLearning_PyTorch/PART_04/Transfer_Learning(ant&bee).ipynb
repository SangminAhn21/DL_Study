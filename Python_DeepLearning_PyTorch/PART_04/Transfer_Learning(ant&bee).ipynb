{
  "nbformat": 4,
  "nbformat_minor": 0,
  "metadata": {
    "colab": {
      "name": "Transfer_Learning(ant&bee)",
      "provenance": [],
      "mount_file_id": "1kPtir3mWPB262qmduLOWlqHtQcEjmJww",
      "authorship_tag": "ABX9TyOqWkFCUpura/C8WtAsBCjN",
      "include_colab_link": true
    },
    "kernelspec": {
      "name": "python3",
      "display_name": "Python 3"
    },
    "language_info": {
      "name": "python"
    },
    "accelerator": "GPU",
    "widgets": {
      "application/vnd.jupyter.widget-state+json": {
        "df127852e1964143805804c9045a1d36": {
          "model_module": "@jupyter-widgets/controls",
          "model_name": "HBoxModel",
          "model_module_version": "1.5.0",
          "state": {
            "_view_name": "HBoxView",
            "_dom_classes": [],
            "_model_name": "HBoxModel",
            "_view_module": "@jupyter-widgets/controls",
            "_model_module_version": "1.5.0",
            "_view_count": null,
            "_view_module_version": "1.5.0",
            "box_style": "",
            "layout": "IPY_MODEL_9cb64d0a6e424545a33fd75d85f06c03",
            "_model_module": "@jupyter-widgets/controls",
            "children": [
              "IPY_MODEL_1af9787a3c084398ab1103557f2571f8",
              "IPY_MODEL_2fbf6f2ac1af47cba6940e91005ea2ff",
              "IPY_MODEL_a4c4e37cb605450389eda8acffa6b26a"
            ]
          }
        },
        "9cb64d0a6e424545a33fd75d85f06c03": {
          "model_module": "@jupyter-widgets/base",
          "model_name": "LayoutModel",
          "model_module_version": "1.2.0",
          "state": {
            "_view_name": "LayoutView",
            "grid_template_rows": null,
            "right": null,
            "justify_content": null,
            "_view_module": "@jupyter-widgets/base",
            "overflow": null,
            "_model_module_version": "1.2.0",
            "_view_count": null,
            "flex_flow": null,
            "width": null,
            "min_width": null,
            "border": null,
            "align_items": null,
            "bottom": null,
            "_model_module": "@jupyter-widgets/base",
            "top": null,
            "grid_column": null,
            "overflow_y": null,
            "overflow_x": null,
            "grid_auto_flow": null,
            "grid_area": null,
            "grid_template_columns": null,
            "flex": null,
            "_model_name": "LayoutModel",
            "justify_items": null,
            "grid_row": null,
            "max_height": null,
            "align_content": null,
            "visibility": null,
            "align_self": null,
            "height": null,
            "min_height": null,
            "padding": null,
            "grid_auto_rows": null,
            "grid_gap": null,
            "max_width": null,
            "order": null,
            "_view_module_version": "1.2.0",
            "grid_template_areas": null,
            "object_position": null,
            "object_fit": null,
            "grid_auto_columns": null,
            "margin": null,
            "display": null,
            "left": null
          }
        },
        "1af9787a3c084398ab1103557f2571f8": {
          "model_module": "@jupyter-widgets/controls",
          "model_name": "HTMLModel",
          "model_module_version": "1.5.0",
          "state": {
            "_view_name": "HTMLView",
            "style": "IPY_MODEL_c7c55855473247a5b91d9bb55922f0ba",
            "_dom_classes": [],
            "description": "",
            "_model_name": "HTMLModel",
            "placeholder": "​",
            "_view_module": "@jupyter-widgets/controls",
            "_model_module_version": "1.5.0",
            "value": "100%",
            "_view_count": null,
            "_view_module_version": "1.5.0",
            "description_tooltip": null,
            "_model_module": "@jupyter-widgets/controls",
            "layout": "IPY_MODEL_1c68afe406d0455690ebc437dc3ae786"
          }
        },
        "2fbf6f2ac1af47cba6940e91005ea2ff": {
          "model_module": "@jupyter-widgets/controls",
          "model_name": "FloatProgressModel",
          "model_module_version": "1.5.0",
          "state": {
            "_view_name": "ProgressView",
            "style": "IPY_MODEL_7c8f6b56471e4ff587343dfc08a54a5e",
            "_dom_classes": [],
            "description": "",
            "_model_name": "FloatProgressModel",
            "bar_style": "success",
            "max": 46830571,
            "_view_module": "@jupyter-widgets/controls",
            "_model_module_version": "1.5.0",
            "value": 46830571,
            "_view_count": null,
            "_view_module_version": "1.5.0",
            "orientation": "horizontal",
            "min": 0,
            "description_tooltip": null,
            "_model_module": "@jupyter-widgets/controls",
            "layout": "IPY_MODEL_087395e00b5642e38363dca02d388c8b"
          }
        },
        "a4c4e37cb605450389eda8acffa6b26a": {
          "model_module": "@jupyter-widgets/controls",
          "model_name": "HTMLModel",
          "model_module_version": "1.5.0",
          "state": {
            "_view_name": "HTMLView",
            "style": "IPY_MODEL_0f43081eb4d54df3a6d02038488046a0",
            "_dom_classes": [],
            "description": "",
            "_model_name": "HTMLModel",
            "placeholder": "​",
            "_view_module": "@jupyter-widgets/controls",
            "_model_module_version": "1.5.0",
            "value": " 44.7M/44.7M [00:00&lt;00:00, 106MB/s]",
            "_view_count": null,
            "_view_module_version": "1.5.0",
            "description_tooltip": null,
            "_model_module": "@jupyter-widgets/controls",
            "layout": "IPY_MODEL_a09a8acbd72146669b3882c416507094"
          }
        },
        "c7c55855473247a5b91d9bb55922f0ba": {
          "model_module": "@jupyter-widgets/controls",
          "model_name": "DescriptionStyleModel",
          "model_module_version": "1.5.0",
          "state": {
            "_view_name": "StyleView",
            "_model_name": "DescriptionStyleModel",
            "description_width": "",
            "_view_module": "@jupyter-widgets/base",
            "_model_module_version": "1.5.0",
            "_view_count": null,
            "_view_module_version": "1.2.0",
            "_model_module": "@jupyter-widgets/controls"
          }
        },
        "1c68afe406d0455690ebc437dc3ae786": {
          "model_module": "@jupyter-widgets/base",
          "model_name": "LayoutModel",
          "model_module_version": "1.2.0",
          "state": {
            "_view_name": "LayoutView",
            "grid_template_rows": null,
            "right": null,
            "justify_content": null,
            "_view_module": "@jupyter-widgets/base",
            "overflow": null,
            "_model_module_version": "1.2.0",
            "_view_count": null,
            "flex_flow": null,
            "width": null,
            "min_width": null,
            "border": null,
            "align_items": null,
            "bottom": null,
            "_model_module": "@jupyter-widgets/base",
            "top": null,
            "grid_column": null,
            "overflow_y": null,
            "overflow_x": null,
            "grid_auto_flow": null,
            "grid_area": null,
            "grid_template_columns": null,
            "flex": null,
            "_model_name": "LayoutModel",
            "justify_items": null,
            "grid_row": null,
            "max_height": null,
            "align_content": null,
            "visibility": null,
            "align_self": null,
            "height": null,
            "min_height": null,
            "padding": null,
            "grid_auto_rows": null,
            "grid_gap": null,
            "max_width": null,
            "order": null,
            "_view_module_version": "1.2.0",
            "grid_template_areas": null,
            "object_position": null,
            "object_fit": null,
            "grid_auto_columns": null,
            "margin": null,
            "display": null,
            "left": null
          }
        },
        "7c8f6b56471e4ff587343dfc08a54a5e": {
          "model_module": "@jupyter-widgets/controls",
          "model_name": "ProgressStyleModel",
          "model_module_version": "1.5.0",
          "state": {
            "_view_name": "StyleView",
            "_model_name": "ProgressStyleModel",
            "description_width": "",
            "_view_module": "@jupyter-widgets/base",
            "_model_module_version": "1.5.0",
            "_view_count": null,
            "_view_module_version": "1.2.0",
            "bar_color": null,
            "_model_module": "@jupyter-widgets/controls"
          }
        },
        "087395e00b5642e38363dca02d388c8b": {
          "model_module": "@jupyter-widgets/base",
          "model_name": "LayoutModel",
          "model_module_version": "1.2.0",
          "state": {
            "_view_name": "LayoutView",
            "grid_template_rows": null,
            "right": null,
            "justify_content": null,
            "_view_module": "@jupyter-widgets/base",
            "overflow": null,
            "_model_module_version": "1.2.0",
            "_view_count": null,
            "flex_flow": null,
            "width": null,
            "min_width": null,
            "border": null,
            "align_items": null,
            "bottom": null,
            "_model_module": "@jupyter-widgets/base",
            "top": null,
            "grid_column": null,
            "overflow_y": null,
            "overflow_x": null,
            "grid_auto_flow": null,
            "grid_area": null,
            "grid_template_columns": null,
            "flex": null,
            "_model_name": "LayoutModel",
            "justify_items": null,
            "grid_row": null,
            "max_height": null,
            "align_content": null,
            "visibility": null,
            "align_self": null,
            "height": null,
            "min_height": null,
            "padding": null,
            "grid_auto_rows": null,
            "grid_gap": null,
            "max_width": null,
            "order": null,
            "_view_module_version": "1.2.0",
            "grid_template_areas": null,
            "object_position": null,
            "object_fit": null,
            "grid_auto_columns": null,
            "margin": null,
            "display": null,
            "left": null
          }
        },
        "0f43081eb4d54df3a6d02038488046a0": {
          "model_module": "@jupyter-widgets/controls",
          "model_name": "DescriptionStyleModel",
          "model_module_version": "1.5.0",
          "state": {
            "_view_name": "StyleView",
            "_model_name": "DescriptionStyleModel",
            "description_width": "",
            "_view_module": "@jupyter-widgets/base",
            "_model_module_version": "1.5.0",
            "_view_count": null,
            "_view_module_version": "1.2.0",
            "_model_module": "@jupyter-widgets/controls"
          }
        },
        "a09a8acbd72146669b3882c416507094": {
          "model_module": "@jupyter-widgets/base",
          "model_name": "LayoutModel",
          "model_module_version": "1.2.0",
          "state": {
            "_view_name": "LayoutView",
            "grid_template_rows": null,
            "right": null,
            "justify_content": null,
            "_view_module": "@jupyter-widgets/base",
            "overflow": null,
            "_model_module_version": "1.2.0",
            "_view_count": null,
            "flex_flow": null,
            "width": null,
            "min_width": null,
            "border": null,
            "align_items": null,
            "bottom": null,
            "_model_module": "@jupyter-widgets/base",
            "top": null,
            "grid_column": null,
            "overflow_y": null,
            "overflow_x": null,
            "grid_auto_flow": null,
            "grid_area": null,
            "grid_template_columns": null,
            "flex": null,
            "_model_name": "LayoutModel",
            "justify_items": null,
            "grid_row": null,
            "max_height": null,
            "align_content": null,
            "visibility": null,
            "align_self": null,
            "height": null,
            "min_height": null,
            "padding": null,
            "grid_auto_rows": null,
            "grid_gap": null,
            "max_width": null,
            "order": null,
            "_view_module_version": "1.2.0",
            "grid_template_areas": null,
            "object_position": null,
            "object_fit": null,
            "grid_auto_columns": null,
            "margin": null,
            "display": null,
            "left": null
          }
        }
      }
    }
  },
  "cells": [
    {
      "cell_type": "markdown",
      "metadata": {
        "id": "view-in-github",
        "colab_type": "text"
      },
      "source": [
        "<a href=\"https://colab.research.google.com/github/SangminAhn21/DL_Study/blob/main/Python_DeepLearning_PyTorch/PART_04/Transfer_Learning(ant%26bee).ipynb\" target=\"_parent\"><img src=\"https://colab.research.google.com/assets/colab-badge.svg\" alt=\"Open In Colab\"/></a>"
      ]
    },
    {
      "cell_type": "code",
      "metadata": {
        "id": "BAF88Ub6hYg_"
      },
      "source": [
        "import numpy as np\n",
        "import matplotlib.pyplot as plt\n",
        "\n",
        "import torch\n",
        "import torch.nn as nn\n",
        "import torch.nn.functional as F\n",
        "from torchvision import transforms, datasets"
      ],
      "execution_count": 1,
      "outputs": []
    },
    {
      "cell_type": "code",
      "metadata": {
        "colab": {
          "base_uri": "https://localhost:8080/"
        },
        "id": "Kfrc45-OhjYQ",
        "outputId": "d6137449-baa2-48ef-8a78-50a7e7f85a91"
      },
      "source": [
        "if torch.cuda.is_available():\n",
        "    DEVICE = torch.device('cuda')\n",
        "else:\n",
        "    DEVICE = torch.device('cpu')\n",
        "print('Using PyTorch version:', torch.__version__, ' Device:', DEVICE)"
      ],
      "execution_count": 2,
      "outputs": [
        {
          "output_type": "stream",
          "name": "stdout",
          "text": [
            "Using PyTorch version: 1.9.0+cu111  Device: cuda\n"
          ]
        }
      ]
    },
    {
      "cell_type": "code",
      "metadata": {
        "id": "kAUj8tdphvR6"
      },
      "source": [
        "BATCH_SIZE = 32\n",
        "EPOCHS = 10"
      ],
      "execution_count": 5,
      "outputs": []
    },
    {
      "cell_type": "code",
      "metadata": {
        "colab": {
          "base_uri": "https://localhost:8080/"
        },
        "id": "8m2TDRiHlnHs",
        "outputId": "51a555de-e04f-48ec-fb5d-559caf1266b1"
      },
      "source": [
        "from google.colab import drive\n",
        "drive.mount('/content/drive/')"
      ],
      "execution_count": 4,
      "outputs": [
        {
          "output_type": "stream",
          "name": "stdout",
          "text": [
            "Drive already mounted at /content/drive/; to attempt to forcibly remount, call drive.mount(\"/content/drive/\", force_remount=True).\n"
          ]
        }
      ]
    },
    {
      "cell_type": "code",
      "metadata": {
        "id": "xG4E7vvFhx3D"
      },
      "source": [
        "data_transforms = {\n",
        "    'train': transforms.Compose([\n",
        "        transforms.RandomResizedCrop(224),\n",
        "        transforms.RandomHorizontalFlip(),\n",
        "        transforms.ToTensor(),\n",
        "        transforms.Normalize([0.5, 0.5, 0.5], [0.5, 0.5, 0.5])\n",
        "    ]),\n",
        "    'val': transforms.Compose([\n",
        "        transforms.RandomResizedCrop(224),\n",
        "        transforms.Resize(256),\n",
        "        transforms.ToTensor(),\n",
        "        transforms.Normalize([0.5, 0.5, 0.5], [0.5, 0.5, 0.5])\n",
        "    ]),\n",
        "}\n",
        "\n",
        "image_datasets = {x: datasets.ImageFolder(\"drive/MyDrive/Colab Notebooks/hymenoptera_data\",\n",
        "    data_transforms[x]) for x in ['train', 'val']}\n",
        "dataloaders = {x: torch.utils.data.DataLoader(image_datasets[x],\n",
        "    batch_size = BATCH_SIZE,\n",
        "    num_workers = 0,\n",
        "    shuffle = True) for x in ['train', 'val']}"
      ],
      "execution_count": 6,
      "outputs": []
    },
    {
      "cell_type": "code",
      "metadata": {
        "colab": {
          "base_uri": "https://localhost:8080/"
        },
        "id": "KhzFBC3_jFpN",
        "outputId": "39982ab3-e6cc-4588-d6ff-91a381c14110"
      },
      "source": [
        "for (X_train, y_train) in dataloaders['train']:\n",
        "    print('X_train:', X_train.size(), 'type:', X_train.type())\n",
        "    print('y_train:', y_train.size(), 'type:', y_train.type())\n",
        "    break"
      ],
      "execution_count": 7,
      "outputs": [
        {
          "output_type": "stream",
          "name": "stdout",
          "text": [
            "X_train: torch.Size([32, 3, 224, 224]) type: torch.FloatTensor\n",
            "y_train: torch.Size([32]) type: torch.LongTensor\n"
          ]
        }
      ]
    },
    {
      "cell_type": "code",
      "metadata": {
        "colab": {
          "base_uri": "https://localhost:8080/",
          "height": 283
        },
        "id": "N2Ugk7gZnRdC",
        "outputId": "f570594a-ccf7-45a9-dba0-e046ee72df1a"
      },
      "source": [
        "pltsize = 1\n",
        "plt.figure(figsize=(10 * pltsize, pltsize))\n",
        "\n",
        "for i in range(10):\n",
        "    plt.subplot(1, 10, i + 1)\n",
        "    plt.axis('off')\n",
        "    plt.imshow(np.transpose(X_train[i], (1, 2, 0)))\n",
        "    plt.title('Class: ' + str(y_train[i].item()))"
      ],
      "execution_count": 8,
      "outputs": [
        {
          "output_type": "stream",
          "name": "stderr",
          "text": [
            "Clipping input data to the valid range for imshow with RGB data ([0..1] for floats or [0..255] for integers).\n",
            "Clipping input data to the valid range for imshow with RGB data ([0..1] for floats or [0..255] for integers).\n",
            "Clipping input data to the valid range for imshow with RGB data ([0..1] for floats or [0..255] for integers).\n",
            "Clipping input data to the valid range for imshow with RGB data ([0..1] for floats or [0..255] for integers).\n",
            "Clipping input data to the valid range for imshow with RGB data ([0..1] for floats or [0..255] for integers).\n",
            "Clipping input data to the valid range for imshow with RGB data ([0..1] for floats or [0..255] for integers).\n",
            "Clipping input data to the valid range for imshow with RGB data ([0..1] for floats or [0..255] for integers).\n",
            "Clipping input data to the valid range for imshow with RGB data ([0..1] for floats or [0..255] for integers).\n",
            "Clipping input data to the valid range for imshow with RGB data ([0..1] for floats or [0..255] for integers).\n",
            "Clipping input data to the valid range for imshow with RGB data ([0..1] for floats or [0..255] for integers).\n"
          ]
        },
        {
          "output_type": "display_data",
          "data": {
            "image/png": "[encoded data removed]",
            "text/plain": [
              "<Figure size 720x72 with 10 Axes>"
            ]
          },
          "metadata": {
            "needs_background": "light"
          }
        }
      ]
    },
    {
      "cell_type": "code",
      "metadata": {
        "id": "bzh6j7Oxn1BO"
      },
      "source": [
        "def train(model, train_loader, optimizer, log_interval):\n",
        "    model.train()\n",
        "    for batch_idx, (image, label) in enumerate(train_loader):\n",
        "        image = image.to(DEVICE)\n",
        "        label = label.to(DEVICE)\n",
        "        optimizer.zero_grad()\n",
        "        output = model(image)\n",
        "        loss = criterion(output, label)\n",
        "        loss.backward()\n",
        "        optimizer.step()\n",
        "\n",
        "        if batch_idx % log_interval == 0:\n",
        "            print(\"Train Epoch: {} [{}/{}({:.0f}%)]\\tTrain Loss: {:.6f}\".format(\n",
        "                Epoch, batch_idx * len(image),\n",
        "                len(train_loader.dataset), 100. * batch_idx / len(train_loader),\n",
        "                loss.item()))"
      ],
      "execution_count": 9,
      "outputs": []
    },
    {
      "cell_type": "code",
      "metadata": {
        "id": "mRH-10tboHio"
      },
      "source": [
        "def evaluate(model, test_loader):\n",
        "    model.eval()\n",
        "    test_loss = 0\n",
        "    correct = 0\n",
        "    \n",
        "    with torch.no_grad():\n",
        "        for image, label in test_loader:\n",
        "            image = image.to(DEVICE)\n",
        "            label = label.to(DEVICE)\n",
        "            output = model(image)\n",
        "            test_loss += criterion(output, label).item()\n",
        "            prediction = output.max(1, keepdim = True)[1]\n",
        "            correct += prediction.eq(label.view_as(prediction)).sum().item()\n",
        "\n",
        "    test_loss /= len(test_loader.dataset)\n",
        "    test_accuracy = 100. * correct / len(test_loader.dataset)\n",
        "    return test_loss, test_accuracy"
      ],
      "execution_count": 10,
      "outputs": []
    },
    {
      "cell_type": "code",
      "metadata": {
        "id": "8KDBm0f5oRLI"
      },
      "source": [
        "import torchvision.models as models\n",
        "model = models.resnet18(pretrained = False).cuda()\n",
        "num_ftrs = model.fc.in_features\n",
        "model.fc = nn.Linear(num_ftrs, 2)\n",
        "model = model.cuda()"
      ],
      "execution_count": 11,
      "outputs": []
    },
    {
      "cell_type": "code",
      "metadata": {
        "colab": {
          "base_uri": "https://localhost:8080/"
        },
        "id": "rRSsT8ktoe32",
        "outputId": "3b596e43-3536-423b-889b-b9d262675951"
      },
      "source": [
        "optimizer = torch.optim.Adam(model.parameters(), lr = 0.0001)\n",
        "criterion = nn.CrossEntropyLoss()\n",
        "\n",
        "print(model)"
      ],
      "execution_count": 12,
      "outputs": [
        {
          "output_type": "stream",
          "name": "stdout",
          "text": [
            "ResNet(\n",
            "  (conv1): Conv2d(3, 64, kernel_size=(7, 7), stride=(2, 2), padding=(3, 3), bias=False)\n",
            "  (bn1): BatchNorm2d(64, eps=1e-05, momentum=0.1, affine=True, track_running_stats=True)\n",
            "  (relu): ReLU(inplace=True)\n",
            "  (maxpool): MaxPool2d(kernel_size=3, stride=2, padding=1, dilation=1, ceil_mode=False)\n",
            "  (layer1): Sequential(\n",
            "    (0): BasicBlock(\n",
            "      (conv1): Conv2d(64, 64, kernel_size=(3, 3), stride=(1, 1), padding=(1, 1), bias=False)\n",
            "      (bn1): BatchNorm2d(64, eps=1e-05, momentum=0.1, affine=True, track_running_stats=True)\n",
            "      (relu): ReLU(inplace=True)\n",
            "      (conv2): Conv2d(64, 64, kernel_size=(3, 3), stride=(1, 1), padding=(1, 1), bias=False)\n",
            "      (bn2): BatchNorm2d(64, eps=1e-05, momentum=0.1, affine=True, track_running_stats=True)\n",
            "    )\n",
            "    (1): BasicBlock(\n",
            "      (conv1): Conv2d(64, 64, kernel_size=(3, 3), stride=(1, 1), padding=(1, 1), bias=False)\n",
            "      (bn1): BatchNorm2d(64, eps=1e-05, momentum=0.1, affine=True, track_running_stats=True)\n",
            "      (relu): ReLU(inplace=True)\n",
            "      (conv2): Conv2d(64, 64, kernel_size=(3, 3), stride=(1, 1), padding=(1, 1), bias=False)\n",
            "      (bn2): BatchNorm2d(64, eps=1e-05, momentum=0.1, affine=True, track_running_stats=True)\n",
            "    )\n",
            "  )\n",
            "  (layer2): Sequential(\n",
            "    (0): BasicBlock(\n",
            "      (conv1): Conv2d(64, 128, kernel_size=(3, 3), stride=(2, 2), padding=(1, 1), bias=False)\n",
            "      (bn1): BatchNorm2d(128, eps=1e-05, momentum=0.1, affine=True, track_running_stats=True)\n",
            "      (relu): ReLU(inplace=True)\n",
            "      (conv2): Conv2d(128, 128, kernel_size=(3, 3), stride=(1, 1), padding=(1, 1), bias=False)\n",
            "      (bn2): BatchNorm2d(128, eps=1e-05, momentum=0.1, affine=True, track_running_stats=True)\n",
            "      (downsample): Sequential(\n",
            "        (0): Conv2d(64, 128, kernel_size=(1, 1), stride=(2, 2), bias=False)\n",
            "        (1): BatchNorm2d(128, eps=1e-05, momentum=0.1, affine=True, track_running_stats=True)\n",
            "      )\n",
            "    )\n",
            "    (1): BasicBlock(\n",
            "      (conv1): Conv2d(128, 128, kernel_size=(3, 3), stride=(1, 1), padding=(1, 1), bias=False)\n",
            "      (bn1): BatchNorm2d(128, eps=1e-05, momentum=0.1, affine=True, track_running_stats=True)\n",
            "      (relu): ReLU(inplace=True)\n",
            "      (conv2): Conv2d(128, 128, kernel_size=(3, 3), stride=(1, 1), padding=(1, 1), bias=False)\n",
            "      (bn2): BatchNorm2d(128, eps=1e-05, momentum=0.1, affine=True, track_running_stats=True)\n",
            "    )\n",
            "  )\n",
            "  (layer3): Sequential(\n",
            "    (0): BasicBlock(\n",
            "      (conv1): Conv2d(128, 256, kernel_size=(3, 3), stride=(2, 2), padding=(1, 1), bias=False)\n",
            "      (bn1): BatchNorm2d(256, eps=1e-05, momentum=0.1, affine=True, track_running_stats=True)\n",
            "      (relu): ReLU(inplace=True)\n",
            "      (conv2): Conv2d(256, 256, kernel_size=(3, 3), stride=(1, 1), padding=(1, 1), bias=False)\n",
            "      (bn2): BatchNorm2d(256, eps=1e-05, momentum=0.1, affine=True, track_running_stats=True)\n",
            "      (downsample): Sequential(\n",
            "        (0): Conv2d(128, 256, kernel_size=(1, 1), stride=(2, 2), bias=False)\n",
            "        (1): BatchNorm2d(256, eps=1e-05, momentum=0.1, affine=True, track_running_stats=True)\n",
            "      )\n",
            "    )\n",
            "    (1): BasicBlock(\n",
            "      (conv1): Conv2d(256, 256, kernel_size=(3, 3), stride=(1, 1), padding=(1, 1), bias=False)\n",
            "      (bn1): BatchNorm2d(256, eps=1e-05, momentum=0.1, affine=True, track_running_stats=True)\n",
            "      (relu): ReLU(inplace=True)\n",
            "      (conv2): Conv2d(256, 256, kernel_size=(3, 3), stride=(1, 1), padding=(1, 1), bias=False)\n",
            "      (bn2): BatchNorm2d(256, eps=1e-05, momentum=0.1, affine=True, track_running_stats=True)\n",
            "    )\n",
            "  )\n",
            "  (layer4): Sequential(\n",
            "    (0): BasicBlock(\n",
            "      (conv1): Conv2d(256, 512, kernel_size=(3, 3), stride=(2, 2), padding=(1, 1), bias=False)\n",
            "      (bn1): BatchNorm2d(512, eps=1e-05, momentum=0.1, affine=True, track_running_stats=True)\n",
            "      (relu): ReLU(inplace=True)\n",
            "      (conv2): Conv2d(512, 512, kernel_size=(3, 3), stride=(1, 1), padding=(1, 1), bias=False)\n",
            "      (bn2): BatchNorm2d(512, eps=1e-05, momentum=0.1, affine=True, track_running_stats=True)\n",
            "      (downsample): Sequential(\n",
            "        (0): Conv2d(256, 512, kernel_size=(1, 1), stride=(2, 2), bias=False)\n",
            "        (1): BatchNorm2d(512, eps=1e-05, momentum=0.1, affine=True, track_running_stats=True)\n",
            "      )\n",
            "    )\n",
            "    (1): BasicBlock(\n",
            "      (conv1): Conv2d(512, 512, kernel_size=(3, 3), stride=(1, 1), padding=(1, 1), bias=False)\n",
            "      (bn1): BatchNorm2d(512, eps=1e-05, momentum=0.1, affine=True, track_running_stats=True)\n",
            "      (relu): ReLU(inplace=True)\n",
            "      (conv2): Conv2d(512, 512, kernel_size=(3, 3), stride=(1, 1), padding=(1, 1), bias=False)\n",
            "      (bn2): BatchNorm2d(512, eps=1e-05, momentum=0.1, affine=True, track_running_stats=True)\n",
            "    )\n",
            "  )\n",
            "  (avgpool): AdaptiveAvgPool2d(output_size=(1, 1))\n",
            "  (fc): Linear(in_features=512, out_features=2, bias=True)\n",
            ")\n"
          ]
        }
      ]
    },
    {
      "cell_type": "code",
      "metadata": {
        "colab": {
          "base_uri": "https://localhost:8080/"
        },
        "id": "uFh6uVIAo_-B",
        "outputId": "620f7999-bfd8-4510-c2df-333b72207052"
      },
      "source": [
        "for Epoch in range(1, EPOCHS + 1):\n",
        "    train(model, dataloaders['train'], optimizer, log_interval = 5)\n",
        "    test_loss, test_accuracy = evaluate(model, dataloaders['val'])\n",
        "    print('\\n[EPOCH: {}], \\tTest Loss: {:.4f}, \\tTest Accuracy: {:.2f} % \\n'.\n",
        "          format(Epoch, test_loss, test_accuracy))"
      ],
      "execution_count": 13,
      "outputs": [
        {
          "output_type": "stream",
          "name": "stderr",
          "text": [
            "/usr/local/lib/python3.7/dist-packages/torch/nn/functional.py:718: UserWarning: Named tensors and all their associated APIs are an experimental feature and subject to change. Please do not use them for anything important until they are released as stable. (Triggered internally at  /pytorch/c10/core/TensorImpl.h:1156.)\n",
            "  return torch.max_pool2d(input, kernel_size, stride, padding, dilation, ceil_mode)\n"
          ]
        },
        {
          "output_type": "stream",
          "name": "stdout",
          "text": [
            "Train Epoch: 1 [0/397(0%)]\tTrain Loss: 0.652080\n",
            "Train Epoch: 1 [160/397(38%)]\tTrain Loss: 0.608698\n",
            "Train Epoch: 1 [320/397(77%)]\tTrain Loss: 0.885929\n",
            "\n",
            "[EPOCH: 1], \tTest Loss: 0.0240, \tTest Accuracy: 39.29 % \n",
            "\n",
            "Train Epoch: 2 [0/397(0%)]\tTrain Loss: 0.722217\n",
            "Train Epoch: 2 [160/397(38%)]\tTrain Loss: 0.591781\n",
            "Train Epoch: 2 [320/397(77%)]\tTrain Loss: 0.636248\n",
            "\n",
            "[EPOCH: 2], \tTest Loss: 0.0229, \tTest Accuracy: 55.42 % \n",
            "\n",
            "Train Epoch: 3 [0/397(0%)]\tTrain Loss: 0.665246\n",
            "Train Epoch: 3 [160/397(38%)]\tTrain Loss: 0.672012\n",
            "Train Epoch: 3 [320/397(77%)]\tTrain Loss: 0.689187\n",
            "\n",
            "[EPOCH: 3], \tTest Loss: 0.0220, \tTest Accuracy: 57.68 % \n",
            "\n",
            "Train Epoch: 4 [0/397(0%)]\tTrain Loss: 0.707214\n",
            "Train Epoch: 4 [160/397(38%)]\tTrain Loss: 0.589075\n",
            "Train Epoch: 4 [320/397(77%)]\tTrain Loss: 0.726788\n",
            "\n",
            "[EPOCH: 4], \tTest Loss: 0.0245, \tTest Accuracy: 62.47 % \n",
            "\n",
            "Train Epoch: 5 [0/397(0%)]\tTrain Loss: 0.592310\n",
            "Train Epoch: 5 [160/397(38%)]\tTrain Loss: 0.754711\n",
            "Train Epoch: 5 [320/397(77%)]\tTrain Loss: 0.693905\n",
            "\n",
            "[EPOCH: 5], \tTest Loss: 0.0221, \tTest Accuracy: 52.39 % \n",
            "\n",
            "Train Epoch: 6 [0/397(0%)]\tTrain Loss: 0.536906\n",
            "Train Epoch: 6 [160/397(38%)]\tTrain Loss: 0.711579\n",
            "Train Epoch: 6 [320/397(77%)]\tTrain Loss: 0.592347\n",
            "\n",
            "[EPOCH: 6], \tTest Loss: 0.0222, \tTest Accuracy: 63.48 % \n",
            "\n",
            "Train Epoch: 7 [0/397(0%)]\tTrain Loss: 0.647982\n",
            "Train Epoch: 7 [160/397(38%)]\tTrain Loss: 0.568097\n",
            "Train Epoch: 7 [320/397(77%)]\tTrain Loss: 0.662976\n",
            "\n",
            "[EPOCH: 7], \tTest Loss: 0.0208, \tTest Accuracy: 62.97 % \n",
            "\n",
            "Train Epoch: 8 [0/397(0%)]\tTrain Loss: 0.644720\n",
            "Train Epoch: 8 [160/397(38%)]\tTrain Loss: 0.607831\n",
            "Train Epoch: 8 [320/397(77%)]\tTrain Loss: 0.707666\n",
            "\n",
            "[EPOCH: 8], \tTest Loss: 0.0198, \tTest Accuracy: 66.50 % \n",
            "\n",
            "Train Epoch: 9 [0/397(0%)]\tTrain Loss: 0.629872\n",
            "Train Epoch: 9 [160/397(38%)]\tTrain Loss: 0.511170\n",
            "Train Epoch: 9 [320/397(77%)]\tTrain Loss: 0.685889\n",
            "\n",
            "[EPOCH: 9], \tTest Loss: 0.0213, \tTest Accuracy: 64.74 % \n",
            "\n",
            "Train Epoch: 10 [0/397(0%)]\tTrain Loss: 0.701732\n",
            "Train Epoch: 10 [160/397(38%)]\tTrain Loss: 0.599773\n",
            "Train Epoch: 10 [320/397(77%)]\tTrain Loss: 0.823074\n",
            "\n",
            "[EPOCH: 10], \tTest Loss: 0.0196, \tTest Accuracy: 65.49 % \n",
            "\n"
          ]
        }
      ]
    },
    {
      "cell_type": "code",
      "metadata": {
        "colab": {
          "base_uri": "https://localhost:8080/",
          "height": 1000,
          "referenced_widgets": [
            "df127852e1964143805804c9045a1d36",
            "9cb64d0a6e424545a33fd75d85f06c03",
            "1af9787a3c084398ab1103557f2571f8",
            "2fbf6f2ac1af47cba6940e91005ea2ff",
            "a4c4e37cb605450389eda8acffa6b26a",
            "c7c55855473247a5b91d9bb55922f0ba",
            "1c68afe406d0455690ebc437dc3ae786",
            "7c8f6b56471e4ff587343dfc08a54a5e",
            "087395e00b5642e38363dca02d388c8b",
            "0f43081eb4d54df3a6d02038488046a0",
            "a09a8acbd72146669b3882c416507094"
          ]
        },
        "id": "FQDAFGHupdz9",
        "outputId": "66f0b0aa-14d7-4f60-c4c2-d1356115e057"
      },
      "source": [
        "import torchvision.models as models\n",
        "model = models.resnet18(pretrained = True)\n",
        "num_ftrs = model.fc.in_features\n",
        "model.fc = nn.Linear(num_ftrs, 2)\n",
        "model = model.cuda()\n",
        "\n",
        "optimizer = torch.optim.Adam(model.parameters(), lr = 0.0001)\n",
        "EPOCHS = 10\n",
        "for Epoch in range(1, EPOCHS + 1):\n",
        "    train(model, dataloaders['train'], optimizer, log_interval = 5)\n",
        "    test_loss, test_accuracy = evaluate(model, dataloaders['val'])\n",
        "    print('\\n[EPOCH: {}], \\tTest Loss: {:.4f}, \\tTest Accuracy: {:.2f} % \\n'.\n",
        "          format(Epoch, test_loss, test_accuracy))"
      ],
      "execution_count": 14,
      "outputs": [
        {
          "output_type": "stream",
          "name": "stderr",
          "text": [
            "Downloading: \"https://download.pytorch.org/models/resnet18-f37072fd.pth\" to /root/.cache/torch/hub/checkpoints/resnet18-f37072fd.pth\n"
          ]
        },
        {
          "output_type": "display_data",
          "data": {
            "application/vnd.jupyter.widget-view+json": {
              "model_id": "df127852e1964143805804c9045a1d36",
              "version_minor": 0,
              "version_major": 2
            },
            "text/plain": [
              "  0%|          | 0.00/44.7M [00:00<?, ?B/s]"
            ]
          },
          "metadata": {}
        },
        {
          "output_type": "stream",
          "name": "stdout",
          "text": [
            "Train Epoch: 1 [0/397(0%)]\tTrain Loss: 0.809991\n",
            "Train Epoch: 1 [160/397(38%)]\tTrain Loss: 0.624392\n",
            "Train Epoch: 1 [320/397(77%)]\tTrain Loss: 0.704022\n",
            "\n",
            "[EPOCH: 1], \tTest Loss: 0.0224, \tTest Accuracy: 64.48 % \n",
            "\n",
            "Train Epoch: 2 [0/397(0%)]\tTrain Loss: 0.542630\n",
            "Train Epoch: 2 [160/397(38%)]\tTrain Loss: 0.582839\n",
            "Train Epoch: 2 [320/397(77%)]\tTrain Loss: 0.626155\n",
            "\n",
            "[EPOCH: 2], \tTest Loss: 0.0172, \tTest Accuracy: 77.33 % \n",
            "\n",
            "Train Epoch: 3 [0/397(0%)]\tTrain Loss: 0.483685\n",
            "Train Epoch: 3 [160/397(38%)]\tTrain Loss: 0.532670\n",
            "Train Epoch: 3 [320/397(77%)]\tTrain Loss: 0.528118\n",
            "\n",
            "[EPOCH: 3], \tTest Loss: 0.0147, \tTest Accuracy: 79.85 % \n",
            "\n",
            "Train Epoch: 4 [0/397(0%)]\tTrain Loss: 0.453507\n",
            "Train Epoch: 4 [160/397(38%)]\tTrain Loss: 0.407471\n",
            "Train Epoch: 4 [320/397(77%)]\tTrain Loss: 0.468508\n",
            "\n",
            "[EPOCH: 4], \tTest Loss: 0.0133, \tTest Accuracy: 80.10 % \n",
            "\n",
            "Train Epoch: 5 [0/397(0%)]\tTrain Loss: 0.362822\n",
            "Train Epoch: 5 [160/397(38%)]\tTrain Loss: 0.319102\n",
            "Train Epoch: 5 [320/397(77%)]\tTrain Loss: 0.401733\n",
            "\n",
            "[EPOCH: 5], \tTest Loss: 0.0103, \tTest Accuracy: 87.91 % \n",
            "\n",
            "Train Epoch: 6 [0/397(0%)]\tTrain Loss: 0.303430\n",
            "Train Epoch: 6 [160/397(38%)]\tTrain Loss: 0.352999\n",
            "Train Epoch: 6 [320/397(77%)]\tTrain Loss: 0.325914\n",
            "\n",
            "[EPOCH: 6], \tTest Loss: 0.0093, \tTest Accuracy: 92.19 % \n",
            "\n",
            "Train Epoch: 7 [0/397(0%)]\tTrain Loss: 0.285005\n",
            "Train Epoch: 7 [160/397(38%)]\tTrain Loss: 0.312264\n",
            "Train Epoch: 7 [320/397(77%)]\tTrain Loss: 0.412653\n",
            "\n",
            "[EPOCH: 7], \tTest Loss: 0.0069, \tTest Accuracy: 92.44 % \n",
            "\n",
            "Train Epoch: 8 [0/397(0%)]\tTrain Loss: 0.139963\n",
            "Train Epoch: 8 [160/397(38%)]\tTrain Loss: 0.246083\n",
            "Train Epoch: 8 [320/397(77%)]\tTrain Loss: 0.197562\n",
            "\n",
            "[EPOCH: 8], \tTest Loss: 0.0073, \tTest Accuracy: 92.70 % \n",
            "\n",
            "Train Epoch: 9 [0/397(0%)]\tTrain Loss: 0.142522\n",
            "Train Epoch: 9 [160/397(38%)]\tTrain Loss: 0.174618\n",
            "Train Epoch: 9 [320/397(77%)]\tTrain Loss: 0.241764\n",
            "\n",
            "[EPOCH: 9], \tTest Loss: 0.0058, \tTest Accuracy: 94.46 % \n",
            "\n",
            "Train Epoch: 10 [0/397(0%)]\tTrain Loss: 0.137367\n",
            "Train Epoch: 10 [160/397(38%)]\tTrain Loss: 0.082212\n",
            "Train Epoch: 10 [320/397(77%)]\tTrain Loss: 0.229948\n",
            "\n",
            "[EPOCH: 10], \tTest Loss: 0.0068, \tTest Accuracy: 94.21 % \n",
            "\n"
          ]
        }
      ]
    },
    {
      "cell_type": "code",
      "metadata": {
        "id": "w612ijFbqIew"
      },
      "source": [
        ""
      ],
      "execution_count": null,
      "outputs": []
    }
  ]
}